{
 "cells": [
  {
   "cell_type": "code",
   "execution_count": 1,
   "outputs": [],
   "source": [
    "import pandas as pd"
   ],
   "metadata": {
    "collapsed": false,
    "ExecuteTime": {
     "end_time": "2023-07-28T08:59:30.771461Z",
     "start_time": "2023-07-28T08:59:30.513089Z"
    }
   }
  },
  {
   "cell_type": "code",
   "execution_count": 2,
   "outputs": [
    {
     "data": {
      "text/plain": "    circuitId   circuitRef                                  name  \\\n0           1  albert_park        Albert Park Grand Prix Circuit   \n1           2       sepang          Sepang International Circuit   \n2           3      bahrain         Bahrain International Circuit   \n3           4    catalunya        Circuit de Barcelona-Catalunya   \n4           5     istanbul                         Istanbul Park   \n..        ...          ...                                   ...   \n72         75     portimao    Autódromo Internacional do Algarve   \n73         76      mugello  Autodromo Internazionale del Mugello   \n74         77       jeddah               Jeddah Corniche Circuit   \n75         78       losail          Losail International Circuit   \n76         79        miami         Miami International Autodrome   \n\n        location       country       lat        lng  alt  \\\n0      Melbourne     Australia -37.84970  144.96800   10   \n1   Kuala Lumpur      Malaysia   2.76083  101.73800   18   \n2         Sakhir       Bahrain  26.03250   50.51060    7   \n3       Montmeló         Spain  41.57000    2.26111  109   \n4       Istanbul        Turkey  40.95170   29.40500  130   \n..           ...           ...       ...        ...  ...   \n72      Portimão      Portugal  37.22700   -8.62670  108   \n73       Mugello         Italy  43.99750   11.37190  255   \n74        Jeddah  Saudi Arabia  21.63190   39.10440   15   \n75     Al Daayen         Qatar  25.49000   51.45420   \\N   \n76         Miami           USA  25.95810  -80.23890   \\N   \n\n                                                  url  \n0   http://en.wikipedia.org/wiki/Melbourne_Grand_P...  \n1   http://en.wikipedia.org/wiki/Sepang_Internatio...  \n2   http://en.wikipedia.org/wiki/Bahrain_Internati...  \n3   http://en.wikipedia.org/wiki/Circuit_de_Barcel...  \n4          http://en.wikipedia.org/wiki/Istanbul_Park  \n..                                                ...  \n72  http://en.wikipedia.org/wiki/Algarve_Internati...  \n73       http://en.wikipedia.org/wiki/Mugello_Circuit  \n74  http://en.wikipedia.org/wiki/Jeddah_Street_Cir...  \n75  http://en.wikipedia.org/wiki/Losail_Internatio...  \n76  http://en.wikipedia.org/wiki/Miami_Internation...  \n\n[77 rows x 9 columns]",
      "text/html": "<div>\n<style scoped>\n    .dataframe tbody tr th:only-of-type {\n        vertical-align: middle;\n    }\n\n    .dataframe tbody tr th {\n        vertical-align: top;\n    }\n\n    .dataframe thead th {\n        text-align: right;\n    }\n</style>\n<table border=\"1\" class=\"dataframe\">\n  <thead>\n    <tr style=\"text-align: right;\">\n      <th></th>\n      <th>circuitId</th>\n      <th>circuitRef</th>\n      <th>name</th>\n      <th>location</th>\n      <th>country</th>\n      <th>lat</th>\n      <th>lng</th>\n      <th>alt</th>\n      <th>url</th>\n    </tr>\n  </thead>\n  <tbody>\n    <tr>\n      <th>0</th>\n      <td>1</td>\n      <td>albert_park</td>\n      <td>Albert Park Grand Prix Circuit</td>\n      <td>Melbourne</td>\n      <td>Australia</td>\n      <td>-37.84970</td>\n      <td>144.96800</td>\n      <td>10</td>\n      <td>http://en.wikipedia.org/wiki/Melbourne_Grand_P...</td>\n    </tr>\n    <tr>\n      <th>1</th>\n      <td>2</td>\n      <td>sepang</td>\n      <td>Sepang International Circuit</td>\n      <td>Kuala Lumpur</td>\n      <td>Malaysia</td>\n      <td>2.76083</td>\n      <td>101.73800</td>\n      <td>18</td>\n      <td>http://en.wikipedia.org/wiki/Sepang_Internatio...</td>\n    </tr>\n    <tr>\n      <th>2</th>\n      <td>3</td>\n      <td>bahrain</td>\n      <td>Bahrain International Circuit</td>\n      <td>Sakhir</td>\n      <td>Bahrain</td>\n      <td>26.03250</td>\n      <td>50.51060</td>\n      <td>7</td>\n      <td>http://en.wikipedia.org/wiki/Bahrain_Internati...</td>\n    </tr>\n    <tr>\n      <th>3</th>\n      <td>4</td>\n      <td>catalunya</td>\n      <td>Circuit de Barcelona-Catalunya</td>\n      <td>Montmeló</td>\n      <td>Spain</td>\n      <td>41.57000</td>\n      <td>2.26111</td>\n      <td>109</td>\n      <td>http://en.wikipedia.org/wiki/Circuit_de_Barcel...</td>\n    </tr>\n    <tr>\n      <th>4</th>\n      <td>5</td>\n      <td>istanbul</td>\n      <td>Istanbul Park</td>\n      <td>Istanbul</td>\n      <td>Turkey</td>\n      <td>40.95170</td>\n      <td>29.40500</td>\n      <td>130</td>\n      <td>http://en.wikipedia.org/wiki/Istanbul_Park</td>\n    </tr>\n    <tr>\n      <th>...</th>\n      <td>...</td>\n      <td>...</td>\n      <td>...</td>\n      <td>...</td>\n      <td>...</td>\n      <td>...</td>\n      <td>...</td>\n      <td>...</td>\n      <td>...</td>\n    </tr>\n    <tr>\n      <th>72</th>\n      <td>75</td>\n      <td>portimao</td>\n      <td>Autódromo Internacional do Algarve</td>\n      <td>Portimão</td>\n      <td>Portugal</td>\n      <td>37.22700</td>\n      <td>-8.62670</td>\n      <td>108</td>\n      <td>http://en.wikipedia.org/wiki/Algarve_Internati...</td>\n    </tr>\n    <tr>\n      <th>73</th>\n      <td>76</td>\n      <td>mugello</td>\n      <td>Autodromo Internazionale del Mugello</td>\n      <td>Mugello</td>\n      <td>Italy</td>\n      <td>43.99750</td>\n      <td>11.37190</td>\n      <td>255</td>\n      <td>http://en.wikipedia.org/wiki/Mugello_Circuit</td>\n    </tr>\n    <tr>\n      <th>74</th>\n      <td>77</td>\n      <td>jeddah</td>\n      <td>Jeddah Corniche Circuit</td>\n      <td>Jeddah</td>\n      <td>Saudi Arabia</td>\n      <td>21.63190</td>\n      <td>39.10440</td>\n      <td>15</td>\n      <td>http://en.wikipedia.org/wiki/Jeddah_Street_Cir...</td>\n    </tr>\n    <tr>\n      <th>75</th>\n      <td>78</td>\n      <td>losail</td>\n      <td>Losail International Circuit</td>\n      <td>Al Daayen</td>\n      <td>Qatar</td>\n      <td>25.49000</td>\n      <td>51.45420</td>\n      <td>\\N</td>\n      <td>http://en.wikipedia.org/wiki/Losail_Internatio...</td>\n    </tr>\n    <tr>\n      <th>76</th>\n      <td>79</td>\n      <td>miami</td>\n      <td>Miami International Autodrome</td>\n      <td>Miami</td>\n      <td>USA</td>\n      <td>25.95810</td>\n      <td>-80.23890</td>\n      <td>\\N</td>\n      <td>http://en.wikipedia.org/wiki/Miami_Internation...</td>\n    </tr>\n  </tbody>\n</table>\n<p>77 rows × 9 columns</p>\n</div>"
     },
     "execution_count": 2,
     "metadata": {},
     "output_type": "execute_result"
    }
   ],
   "source": [
    "circuts = pd.read_csv('../Scraping/f1db_csv/circuits.csv')\n",
    "circuts"
   ],
   "metadata": {
    "collapsed": false,
    "ExecuteTime": {
     "end_time": "2023-07-28T09:01:57.998412Z",
     "start_time": "2023-07-28T09:01:57.982572Z"
    }
   }
  },
  {
   "cell_type": "code",
   "execution_count": null,
   "outputs": [],
   "source": [],
   "metadata": {
    "collapsed": false
   }
  }
 ],
 "metadata": {
  "kernelspec": {
   "display_name": "Python 3",
   "language": "python",
   "name": "python3"
  },
  "language_info": {
   "codemirror_mode": {
    "name": "ipython",
    "version": 2
   },
   "file_extension": ".py",
   "mimetype": "text/x-python",
   "name": "python",
   "nbconvert_exporter": "python",
   "pygments_lexer": "ipython2",
   "version": "2.7.6"
  }
 },
 "nbformat": 4,
 "nbformat_minor": 0
}
