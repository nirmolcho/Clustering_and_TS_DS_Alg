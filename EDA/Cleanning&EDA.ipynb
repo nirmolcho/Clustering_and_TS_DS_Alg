{
 "cells": [
  {
   "cell_type": "code",
   "execution_count": 1,
   "outputs": [],
   "source": [
    "import pandas as pd"
   ],
   "metadata": {
    "collapsed": false,
    "ExecuteTime": {
     "end_time": "2023-07-28T06:54:39.509542Z",
     "start_time": "2023-07-28T06:54:39.260165Z"
    }
   }
  },
  {
   "cell_type": "code",
   "execution_count": 2,
   "outputs": [],
   "source": [
    "circuits = pd.read_csv(\"../Scraping/f1db_csv/circuits.csv\")\n",
    "constructor_results = pd.read_csv(\"../Scraping/f1db_csv/constructor_results.csv\")\n",
    "constructor_standings = pd.read_csv(\"../Scraping/f1db_csv/constructor_standings.csv\")\n",
    "constructors = pd.read_csv(\"../Scraping/f1db_csv/constructors.csv\")\n",
    "driver_standings = pd.read_csv(\"../Scraping/f1db_csv/driver_standings.csv\")\n",
    "drivers = pd.read_csv(\"../Scraping/f1db_csv/drivers.csv\")\n",
    "lap_times = pd.read_csv(\"../Scraping/f1db_csv/lap_times.csv\")\n",
    "pit_stops = pd.read_csv(\"../Scraping/f1db_csv/pit_stops.csv\")\n",
    "qualifying = pd.read_csv(\"../Scraping/f1db_csv/qualifying.csv\")\n",
    "races = pd.read_csv(\"../Scraping/f1db_csv/races.csv\")\n",
    "results = pd.read_csv(\"../Scraping/f1db_csv/results.csv\")\n",
    "seasons = pd.read_csv(\"../Scraping/f1db_csv/seasons.csv\")\n",
    "sprint_results = pd.read_csv(\"../Scraping/f1db_csv/sprint_results.csv\")\n",
    "status = pd.read_csv(\"../Scraping/f1db_csv/status.csv\")"
   ],
   "metadata": {
    "collapsed": false,
    "ExecuteTime": {
     "end_time": "2023-07-28T06:54:39.724695Z",
     "start_time": "2023-07-28T06:54:39.514781Z"
    }
   }
  },
  {
   "cell_type": "code",
   "execution_count": 3,
   "outputs": [],
   "source": [
    "#merge lap_times and results on raceId\n",
    "marge1 = pd.merge(lap_times, races, on='raceId')\n",
    "merge_df = pd.merge(marge1, drivers, on='driverId')\n"
   ],
   "metadata": {
    "collapsed": false,
    "ExecuteTime": {
     "end_time": "2023-07-28T06:54:40.099092Z",
     "start_time": "2023-07-28T06:54:39.727113Z"
    }
   }
  },
  {
   "cell_type": "code",
   "execution_count": 4,
   "outputs": [
    {
     "data": {
      "text/plain": "        raceId  driverId  lap  position    time_x  milliseconds  year  round  \\\n0          841        20    1         1  1:38.109         98109  2011      1   \n1          841        20    2         1  1:33.006         93006  2011      1   \n2          841        20    3         1  1:32.713         92713  2011      1   \n3          841        20    4         1  1:32.803         92803  2011      1   \n4          841        20    5         1  1:32.342         92342  2011      1   \n...        ...       ...  ...       ...       ...           ...   ...    ...   \n550922    1109       857   66         5  1:23.787         83787  2023     11   \n550923    1109       857   67         5  1:24.053         84053  2023     11   \n550924    1109       857   68         5  1:25.152         85152  2023     11   \n550925    1109       857   69         5  1:24.439         84439  2023     11   \n550926    1109       857   70         5  1:24.503         84503  2023     11   \n\n        circuitId                   name  ... sprint_date sprint_time  \\\n0               1  Australian Grand Prix  ...          \\N          \\N   \n1               1  Australian Grand Prix  ...          \\N          \\N   \n2               1  Australian Grand Prix  ...          \\N          \\N   \n3               1  Australian Grand Prix  ...          \\N          \\N   \n4               1  Australian Grand Prix  ...          \\N          \\N   \n...           ...                    ...  ...         ...         ...   \n550922         11   Hungarian Grand Prix  ...          \\N          \\N   \n550923         11   Hungarian Grand Prix  ...          \\N          \\N   \n550924         11   Hungarian Grand Prix  ...          \\N          \\N   \n550925         11   Hungarian Grand Prix  ...          \\N          \\N   \n550926         11   Hungarian Grand Prix  ...          \\N          \\N   \n\n       driverRef number code   forename  surname         dob nationality  \\\n0         vettel      5  VET  Sebastian   Vettel  1987-07-03      German   \n1         vettel      5  VET  Sebastian   Vettel  1987-07-03      German   \n2         vettel      5  VET  Sebastian   Vettel  1987-07-03      German   \n3         vettel      5  VET  Sebastian   Vettel  1987-07-03      German   \n4         vettel      5  VET  Sebastian   Vettel  1987-07-03      German   \n...          ...    ...  ...        ...      ...         ...         ...   \n550922   piastri     81  PIA      Oscar  Piastri  2001-04-06  Australian   \n550923   piastri     81  PIA      Oscar  Piastri  2001-04-06  Australian   \n550924   piastri     81  PIA      Oscar  Piastri  2001-04-06  Australian   \n550925   piastri     81  PIA      Oscar  Piastri  2001-04-06  Australian   \n550926   piastri     81  PIA      Oscar  Piastri  2001-04-06  Australian   \n\n                                                url_y  \n0       http://en.wikipedia.org/wiki/Sebastian_Vettel  \n1       http://en.wikipedia.org/wiki/Sebastian_Vettel  \n2       http://en.wikipedia.org/wiki/Sebastian_Vettel  \n3       http://en.wikipedia.org/wiki/Sebastian_Vettel  \n4       http://en.wikipedia.org/wiki/Sebastian_Vettel  \n...                                               ...  \n550922     http://en.wikipedia.org/wiki/Oscar_Piastri  \n550923     http://en.wikipedia.org/wiki/Oscar_Piastri  \n550924     http://en.wikipedia.org/wiki/Oscar_Piastri  \n550925     http://en.wikipedia.org/wiki/Oscar_Piastri  \n550926     http://en.wikipedia.org/wiki/Oscar_Piastri  \n\n[550927 rows x 31 columns]",
      "text/html": "<div>\n<style scoped>\n    .dataframe tbody tr th:only-of-type {\n        vertical-align: middle;\n    }\n\n    .dataframe tbody tr th {\n        vertical-align: top;\n    }\n\n    .dataframe thead th {\n        text-align: right;\n    }\n</style>\n<table border=\"1\" class=\"dataframe\">\n  <thead>\n    <tr style=\"text-align: right;\">\n      <th></th>\n      <th>raceId</th>\n      <th>driverId</th>\n      <th>lap</th>\n      <th>position</th>\n      <th>time_x</th>\n      <th>milliseconds</th>\n      <th>year</th>\n      <th>round</th>\n      <th>circuitId</th>\n      <th>name</th>\n      <th>...</th>\n      <th>sprint_date</th>\n      <th>sprint_time</th>\n      <th>driverRef</th>\n      <th>number</th>\n      <th>code</th>\n      <th>forename</th>\n      <th>surname</th>\n      <th>dob</th>\n      <th>nationality</th>\n      <th>url_y</th>\n    </tr>\n  </thead>\n  <tbody>\n    <tr>\n      <th>0</th>\n      <td>841</td>\n      <td>20</td>\n      <td>1</td>\n      <td>1</td>\n      <td>1:38.109</td>\n      <td>98109</td>\n      <td>2011</td>\n      <td>1</td>\n      <td>1</td>\n      <td>Australian Grand Prix</td>\n      <td>...</td>\n      <td>\\N</td>\n      <td>\\N</td>\n      <td>vettel</td>\n      <td>5</td>\n      <td>VET</td>\n      <td>Sebastian</td>\n      <td>Vettel</td>\n      <td>1987-07-03</td>\n      <td>German</td>\n      <td>http://en.wikipedia.org/wiki/Sebastian_Vettel</td>\n    </tr>\n    <tr>\n      <th>1</th>\n      <td>841</td>\n      <td>20</td>\n      <td>2</td>\n      <td>1</td>\n      <td>1:33.006</td>\n      <td>93006</td>\n      <td>2011</td>\n      <td>1</td>\n      <td>1</td>\n      <td>Australian Grand Prix</td>\n      <td>...</td>\n      <td>\\N</td>\n      <td>\\N</td>\n      <td>vettel</td>\n      <td>5</td>\n      <td>VET</td>\n      <td>Sebastian</td>\n      <td>Vettel</td>\n      <td>1987-07-03</td>\n      <td>German</td>\n      <td>http://en.wikipedia.org/wiki/Sebastian_Vettel</td>\n    </tr>\n    <tr>\n      <th>2</th>\n      <td>841</td>\n      <td>20</td>\n      <td>3</td>\n      <td>1</td>\n      <td>1:32.713</td>\n      <td>92713</td>\n      <td>2011</td>\n      <td>1</td>\n      <td>1</td>\n      <td>Australian Grand Prix</td>\n      <td>...</td>\n      <td>\\N</td>\n      <td>\\N</td>\n      <td>vettel</td>\n      <td>5</td>\n      <td>VET</td>\n      <td>Sebastian</td>\n      <td>Vettel</td>\n      <td>1987-07-03</td>\n      <td>German</td>\n      <td>http://en.wikipedia.org/wiki/Sebastian_Vettel</td>\n    </tr>\n    <tr>\n      <th>3</th>\n      <td>841</td>\n      <td>20</td>\n      <td>4</td>\n      <td>1</td>\n      <td>1:32.803</td>\n      <td>92803</td>\n      <td>2011</td>\n      <td>1</td>\n      <td>1</td>\n      <td>Australian Grand Prix</td>\n      <td>...</td>\n      <td>\\N</td>\n      <td>\\N</td>\n      <td>vettel</td>\n      <td>5</td>\n      <td>VET</td>\n      <td>Sebastian</td>\n      <td>Vettel</td>\n      <td>1987-07-03</td>\n      <td>German</td>\n      <td>http://en.wikipedia.org/wiki/Sebastian_Vettel</td>\n    </tr>\n    <tr>\n      <th>4</th>\n      <td>841</td>\n      <td>20</td>\n      <td>5</td>\n      <td>1</td>\n      <td>1:32.342</td>\n      <td>92342</td>\n      <td>2011</td>\n      <td>1</td>\n      <td>1</td>\n      <td>Australian Grand Prix</td>\n      <td>...</td>\n      <td>\\N</td>\n      <td>\\N</td>\n      <td>vettel</td>\n      <td>5</td>\n      <td>VET</td>\n      <td>Sebastian</td>\n      <td>Vettel</td>\n      <td>1987-07-03</td>\n      <td>German</td>\n      <td>http://en.wikipedia.org/wiki/Sebastian_Vettel</td>\n    </tr>\n    <tr>\n      <th>...</th>\n      <td>...</td>\n      <td>...</td>\n      <td>...</td>\n      <td>...</td>\n      <td>...</td>\n      <td>...</td>\n      <td>...</td>\n      <td>...</td>\n      <td>...</td>\n      <td>...</td>\n      <td>...</td>\n      <td>...</td>\n      <td>...</td>\n      <td>...</td>\n      <td>...</td>\n      <td>...</td>\n      <td>...</td>\n      <td>...</td>\n      <td>...</td>\n      <td>...</td>\n      <td>...</td>\n    </tr>\n    <tr>\n      <th>550922</th>\n      <td>1109</td>\n      <td>857</td>\n      <td>66</td>\n      <td>5</td>\n      <td>1:23.787</td>\n      <td>83787</td>\n      <td>2023</td>\n      <td>11</td>\n      <td>11</td>\n      <td>Hungarian Grand Prix</td>\n      <td>...</td>\n      <td>\\N</td>\n      <td>\\N</td>\n      <td>piastri</td>\n      <td>81</td>\n      <td>PIA</td>\n      <td>Oscar</td>\n      <td>Piastri</td>\n      <td>2001-04-06</td>\n      <td>Australian</td>\n      <td>http://en.wikipedia.org/wiki/Oscar_Piastri</td>\n    </tr>\n    <tr>\n      <th>550923</th>\n      <td>1109</td>\n      <td>857</td>\n      <td>67</td>\n      <td>5</td>\n      <td>1:24.053</td>\n      <td>84053</td>\n      <td>2023</td>\n      <td>11</td>\n      <td>11</td>\n      <td>Hungarian Grand Prix</td>\n      <td>...</td>\n      <td>\\N</td>\n      <td>\\N</td>\n      <td>piastri</td>\n      <td>81</td>\n      <td>PIA</td>\n      <td>Oscar</td>\n      <td>Piastri</td>\n      <td>2001-04-06</td>\n      <td>Australian</td>\n      <td>http://en.wikipedia.org/wiki/Oscar_Piastri</td>\n    </tr>\n    <tr>\n      <th>550924</th>\n      <td>1109</td>\n      <td>857</td>\n      <td>68</td>\n      <td>5</td>\n      <td>1:25.152</td>\n      <td>85152</td>\n      <td>2023</td>\n      <td>11</td>\n      <td>11</td>\n      <td>Hungarian Grand Prix</td>\n      <td>...</td>\n      <td>\\N</td>\n      <td>\\N</td>\n      <td>piastri</td>\n      <td>81</td>\n      <td>PIA</td>\n      <td>Oscar</td>\n      <td>Piastri</td>\n      <td>2001-04-06</td>\n      <td>Australian</td>\n      <td>http://en.wikipedia.org/wiki/Oscar_Piastri</td>\n    </tr>\n    <tr>\n      <th>550925</th>\n      <td>1109</td>\n      <td>857</td>\n      <td>69</td>\n      <td>5</td>\n      <td>1:24.439</td>\n      <td>84439</td>\n      <td>2023</td>\n      <td>11</td>\n      <td>11</td>\n      <td>Hungarian Grand Prix</td>\n      <td>...</td>\n      <td>\\N</td>\n      <td>\\N</td>\n      <td>piastri</td>\n      <td>81</td>\n      <td>PIA</td>\n      <td>Oscar</td>\n      <td>Piastri</td>\n      <td>2001-04-06</td>\n      <td>Australian</td>\n      <td>http://en.wikipedia.org/wiki/Oscar_Piastri</td>\n    </tr>\n    <tr>\n      <th>550926</th>\n      <td>1109</td>\n      <td>857</td>\n      <td>70</td>\n      <td>5</td>\n      <td>1:24.503</td>\n      <td>84503</td>\n      <td>2023</td>\n      <td>11</td>\n      <td>11</td>\n      <td>Hungarian Grand Prix</td>\n      <td>...</td>\n      <td>\\N</td>\n      <td>\\N</td>\n      <td>piastri</td>\n      <td>81</td>\n      <td>PIA</td>\n      <td>Oscar</td>\n      <td>Piastri</td>\n      <td>2001-04-06</td>\n      <td>Australian</td>\n      <td>http://en.wikipedia.org/wiki/Oscar_Piastri</td>\n    </tr>\n  </tbody>\n</table>\n<p>550927 rows × 31 columns</p>\n</div>"
     },
     "execution_count": 4,
     "metadata": {},
     "output_type": "execute_result"
    }
   ],
   "source": [
    "merge_df"
   ],
   "metadata": {
    "collapsed": false,
    "ExecuteTime": {
     "end_time": "2023-07-28T06:54:40.357722Z",
     "start_time": "2023-07-28T06:54:40.103975Z"
    }
   }
  },
  {
   "cell_type": "code",
   "execution_count": 5,
   "outputs": [
    {
     "data": {
      "text/plain": "                 count          mean           std      min      25%      50%  \\\nraceId        550927.0    564.072055    425.681172      1.0    131.0    846.0   \ndriverId      550927.0    296.253732    377.687720      1.0     15.0     39.0   \nlap           550927.0     30.001712     18.425121      1.0     14.0     29.0   \nposition      550927.0      9.658537      5.538281      1.0      5.0      9.0   \nmilliseconds  550927.0  95678.774551  74837.811818  55404.0  81984.0  90641.0   \nyear          550927.0   2010.211903      7.789661   1996.0   2004.0   2011.0   \nround         550927.0      9.765740      5.431533      1.0      5.0      9.0   \ncircuitId     550927.0     18.671094     19.936578      1.0      6.0     12.0   \n\n                   75%        max  \nraceId           975.0     1109.0  \ndriverId         817.0      858.0  \nlap               44.0       87.0  \nposition          14.0       24.0  \nmilliseconds  102183.0  7507547.0  \nyear            2017.0     2023.0  \nround             14.0       22.0  \ncircuitId         21.0       79.0  ",
      "text/html": "<div>\n<style scoped>\n    .dataframe tbody tr th:only-of-type {\n        vertical-align: middle;\n    }\n\n    .dataframe tbody tr th {\n        vertical-align: top;\n    }\n\n    .dataframe thead th {\n        text-align: right;\n    }\n</style>\n<table border=\"1\" class=\"dataframe\">\n  <thead>\n    <tr style=\"text-align: right;\">\n      <th></th>\n      <th>count</th>\n      <th>mean</th>\n      <th>std</th>\n      <th>min</th>\n      <th>25%</th>\n      <th>50%</th>\n      <th>75%</th>\n      <th>max</th>\n    </tr>\n  </thead>\n  <tbody>\n    <tr>\n      <th>raceId</th>\n      <td>550927.0</td>\n      <td>564.072055</td>\n      <td>425.681172</td>\n      <td>1.0</td>\n      <td>131.0</td>\n      <td>846.0</td>\n      <td>975.0</td>\n      <td>1109.0</td>\n    </tr>\n    <tr>\n      <th>driverId</th>\n      <td>550927.0</td>\n      <td>296.253732</td>\n      <td>377.687720</td>\n      <td>1.0</td>\n      <td>15.0</td>\n      <td>39.0</td>\n      <td>817.0</td>\n      <td>858.0</td>\n    </tr>\n    <tr>\n      <th>lap</th>\n      <td>550927.0</td>\n      <td>30.001712</td>\n      <td>18.425121</td>\n      <td>1.0</td>\n      <td>14.0</td>\n      <td>29.0</td>\n      <td>44.0</td>\n      <td>87.0</td>\n    </tr>\n    <tr>\n      <th>position</th>\n      <td>550927.0</td>\n      <td>9.658537</td>\n      <td>5.538281</td>\n      <td>1.0</td>\n      <td>5.0</td>\n      <td>9.0</td>\n      <td>14.0</td>\n      <td>24.0</td>\n    </tr>\n    <tr>\n      <th>milliseconds</th>\n      <td>550927.0</td>\n      <td>95678.774551</td>\n      <td>74837.811818</td>\n      <td>55404.0</td>\n      <td>81984.0</td>\n      <td>90641.0</td>\n      <td>102183.0</td>\n      <td>7507547.0</td>\n    </tr>\n    <tr>\n      <th>year</th>\n      <td>550927.0</td>\n      <td>2010.211903</td>\n      <td>7.789661</td>\n      <td>1996.0</td>\n      <td>2004.0</td>\n      <td>2011.0</td>\n      <td>2017.0</td>\n      <td>2023.0</td>\n    </tr>\n    <tr>\n      <th>round</th>\n      <td>550927.0</td>\n      <td>9.765740</td>\n      <td>5.431533</td>\n      <td>1.0</td>\n      <td>5.0</td>\n      <td>9.0</td>\n      <td>14.0</td>\n      <td>22.0</td>\n    </tr>\n    <tr>\n      <th>circuitId</th>\n      <td>550927.0</td>\n      <td>18.671094</td>\n      <td>19.936578</td>\n      <td>1.0</td>\n      <td>6.0</td>\n      <td>12.0</td>\n      <td>21.0</td>\n      <td>79.0</td>\n    </tr>\n  </tbody>\n</table>\n</div>"
     },
     "execution_count": 5,
     "metadata": {},
     "output_type": "execute_result"
    }
   ],
   "source": [
    "merge_df.describe().T"
   ],
   "metadata": {
    "collapsed": false,
    "ExecuteTime": {
     "end_time": "2023-07-28T06:54:40.477447Z",
     "start_time": "2023-07-28T06:54:40.357998Z"
    }
   }
  },
  {
   "cell_type": "markdown",
   "source": [
    "# Data Cleaning\n"
   ],
   "metadata": {
    "collapsed": false
   }
  },
  {
   "cell_type": "code",
   "execution_count": 6,
   "outputs": [
    {
     "name": "stdout",
     "output_type": "stream",
     "text": [
      "<class 'pandas.core.frame.DataFrame'>\n",
      "RangeIndex: 550927 entries, 0 to 550926\n",
      "Data columns (total 31 columns):\n",
      " #   Column        Non-Null Count   Dtype \n",
      "---  ------        --------------   ----- \n",
      " 0   raceId        550927 non-null  int64 \n",
      " 1   driverId      550927 non-null  int64 \n",
      " 2   lap           550927 non-null  int64 \n",
      " 3   position      550927 non-null  int64 \n",
      " 4   time_x        550927 non-null  object\n",
      " 5   milliseconds  550927 non-null  int64 \n",
      " 6   year          550927 non-null  int64 \n",
      " 7   round         550927 non-null  int64 \n",
      " 8   circuitId     550927 non-null  int64 \n",
      " 9   name          550927 non-null  object\n",
      " 10  date          550927 non-null  object\n",
      " 11  time_y        550927 non-null  object\n",
      " 12  url_x         550927 non-null  object\n",
      " 13  fp1_date      550927 non-null  object\n",
      " 14  fp1_time      550927 non-null  object\n",
      " 15  fp2_date      550927 non-null  object\n",
      " 16  fp2_time      550927 non-null  object\n",
      " 17  fp3_date      550927 non-null  object\n",
      " 18  fp3_time      550927 non-null  object\n",
      " 19  quali_date    550927 non-null  object\n",
      " 20  quali_time    550927 non-null  object\n",
      " 21  sprint_date   550927 non-null  object\n",
      " 22  sprint_time   550927 non-null  object\n",
      " 23  driverRef     550927 non-null  object\n",
      " 24  number        550927 non-null  object\n",
      " 25  code          550927 non-null  object\n",
      " 26  forename      550927 non-null  object\n",
      " 27  surname       550927 non-null  object\n",
      " 28  dob           550927 non-null  object\n",
      " 29  nationality   550927 non-null  object\n",
      " 30  url_y         550927 non-null  object\n",
      "dtypes: int64(8), object(23)\n",
      "memory usage: 130.3+ MB\n"
     ]
    }
   ],
   "source": [
    "merge_df.info()"
   ],
   "metadata": {
    "collapsed": false,
    "ExecuteTime": {
     "end_time": "2023-07-28T06:54:40.652124Z",
     "start_time": "2023-07-28T06:54:40.433513Z"
    }
   }
  },
  {
   "cell_type": "code",
   "execution_count": 7,
   "outputs": [],
   "source": [
    "merge_df.drop(['url_x', 'url_y'], axis=1, inplace=True)"
   ],
   "metadata": {
    "collapsed": false,
    "ExecuteTime": {
     "end_time": "2023-07-28T06:54:40.775340Z",
     "start_time": "2023-07-28T06:54:40.654979Z"
    }
   }
  },
  {
   "cell_type": "code",
   "execution_count": 8,
   "outputs": [
    {
     "name": "stdout",
     "output_type": "stream",
     "text": [
      "<class 'pandas.core.frame.DataFrame'>\n",
      "RangeIndex: 550927 entries, 0 to 550926\n",
      "Data columns (total 29 columns):\n",
      " #   Column        Non-Null Count   Dtype \n",
      "---  ------        --------------   ----- \n",
      " 0   raceId        550927 non-null  int64 \n",
      " 1   driverId      550927 non-null  int64 \n",
      " 2   lap           550927 non-null  int64 \n",
      " 3   position      550927 non-null  int64 \n",
      " 4   time_x        550927 non-null  object\n",
      " 5   milliseconds  550927 non-null  int64 \n",
      " 6   year          550927 non-null  int64 \n",
      " 7   round         550927 non-null  int64 \n",
      " 8   circuitId     550927 non-null  int64 \n",
      " 9   name          550927 non-null  object\n",
      " 10  date          550927 non-null  object\n",
      " 11  time_y        550927 non-null  object\n",
      " 12  fp1_date      550927 non-null  object\n",
      " 13  fp1_time      550927 non-null  object\n",
      " 14  fp2_date      550927 non-null  object\n",
      " 15  fp2_time      550927 non-null  object\n",
      " 16  fp3_date      550927 non-null  object\n",
      " 17  fp3_time      550927 non-null  object\n",
      " 18  quali_date    550927 non-null  object\n",
      " 19  quali_time    550927 non-null  object\n",
      " 20  sprint_date   550927 non-null  object\n",
      " 21  sprint_time   550927 non-null  object\n",
      " 22  driverRef     550927 non-null  object\n",
      " 23  number        550927 non-null  object\n",
      " 24  code          550927 non-null  object\n",
      " 25  forename      550927 non-null  object\n",
      " 26  surname       550927 non-null  object\n",
      " 27  dob           550927 non-null  object\n",
      " 28  nationality   550927 non-null  object\n",
      "dtypes: int64(8), object(21)\n",
      "memory usage: 121.9+ MB\n"
     ]
    }
   ],
   "source": [
    "merge_df.info()"
   ],
   "metadata": {
    "collapsed": false,
    "ExecuteTime": {
     "end_time": "2023-07-28T06:54:40.972299Z",
     "start_time": "2023-07-28T06:54:40.776431Z"
    }
   }
  },
  {
   "cell_type": "code",
   "execution_count": 9,
   "outputs": [],
   "source": [
    "merge_df.time_y = merge_df.time_y.str.replace('.', ':')\n",
    "merge_df.time_x = merge_df.time_x.str.replace('.', ':')"
   ],
   "metadata": {
    "collapsed": false,
    "ExecuteTime": {
     "end_time": "2023-07-28T06:54:41.119923Z",
     "start_time": "2023-07-28T06:54:40.983314Z"
    }
   }
  },
  {
   "cell_type": "code",
   "execution_count": 10,
   "outputs": [
    {
     "data": {
      "text/plain": "0        0 days 01:39:49\n1        0 days 01:33:06\n2        0 days 01:43:53\n3        0 days 01:45:23\n4        0 days 01:37:42\n               ...      \n550922   0 days 01:36:07\n550923   0 days 01:24:53\n550924   0 days 01:27:32\n550925   0 days 01:31:19\n550926   0 days 01:32:23\nName: time_x, Length: 550927, dtype: timedelta64[ns]"
     },
     "execution_count": 10,
     "metadata": {},
     "output_type": "execute_result"
    }
   ],
   "source": [
    "merge_df.time_x = pd.to_timedelta(merge_df.time_x, unit='ms', errors='coerce')\n",
    "merge_df.time_x"
   ],
   "metadata": {
    "collapsed": false,
    "ExecuteTime": {
     "end_time": "2023-07-28T06:54:41.760658Z",
     "start_time": "2023-07-28T06:54:41.750307Z"
    }
   }
  },
  {
   "cell_type": "code",
   "execution_count": 11,
   "outputs": [
    {
     "data": {
      "text/plain": "0        0 days 06:00:00\n1        0 days 06:00:00\n2        0 days 06:00:00\n3        0 days 06:00:00\n4        0 days 06:00:00\n               ...      \n550922   0 days 13:00:00\n550923   0 days 13:00:00\n550924   0 days 13:00:00\n550925   0 days 13:00:00\n550926   0 days 13:00:00\nName: time_y, Length: 550927, dtype: timedelta64[ns]"
     },
     "execution_count": 11,
     "metadata": {},
     "output_type": "execute_result"
    }
   ],
   "source": [
    "merge_df.time_y = pd.to_timedelta(merge_df.time_y, unit='ms', errors='coerce')\n",
    "merge_df.time_y"
   ],
   "metadata": {
    "collapsed": false,
    "ExecuteTime": {
     "end_time": "2023-07-28T06:54:42.282030Z",
     "start_time": "2023-07-28T06:54:42.277069Z"
    }
   }
  },
  {
   "cell_type": "code",
   "execution_count": 12,
   "outputs": [
    {
     "data": {
      "text/plain": "0        2011-03-27\n1        2011-03-27\n2        2011-03-27\n3        2011-03-27\n4        2011-03-27\n            ...    \n550922   2023-07-23\n550923   2023-07-23\n550924   2023-07-23\n550925   2023-07-23\n550926   2023-07-23\nName: date, Length: 550927, dtype: datetime64[ns]"
     },
     "execution_count": 12,
     "metadata": {},
     "output_type": "execute_result"
    }
   ],
   "source": [
    "merge_df.date = pd.to_datetime(merge_df.date)\n",
    "merge_df.date"
   ],
   "metadata": {
    "collapsed": false,
    "ExecuteTime": {
     "end_time": "2023-07-28T06:54:42.317932Z",
     "start_time": "2023-07-28T06:54:42.293734Z"
    }
   }
  },
  {
   "cell_type": "code",
   "execution_count": 13,
   "outputs": [
    {
     "name": "stdout",
     "output_type": "stream",
     "text": [
      "<class 'pandas.core.frame.DataFrame'>\n",
      "RangeIndex: 550927 entries, 0 to 550926\n",
      "Data columns (total 29 columns):\n",
      " #   Column        Non-Null Count   Dtype          \n",
      "---  ------        --------------   -----          \n",
      " 0   raceId        550927 non-null  int64          \n",
      " 1   driverId      550927 non-null  int64          \n",
      " 2   lap           550927 non-null  int64          \n",
      " 3   position      550927 non-null  int64          \n",
      " 4   time_x        550884 non-null  timedelta64[ns]\n",
      " 5   milliseconds  550927 non-null  int64          \n",
      " 6   year          550927 non-null  int64          \n",
      " 7   round         550927 non-null  int64          \n",
      " 8   circuitId     550927 non-null  int64          \n",
      " 9   name          550927 non-null  object         \n",
      " 10  date          550927 non-null  datetime64[ns] \n",
      " 11  time_y        399976 non-null  timedelta64[ns]\n",
      " 12  fp1_date      550927 non-null  object         \n",
      " 13  fp1_time      550927 non-null  object         \n",
      " 14  fp2_date      550927 non-null  object         \n",
      " 15  fp2_time      550927 non-null  object         \n",
      " 16  fp3_date      550927 non-null  object         \n",
      " 17  fp3_time      550927 non-null  object         \n",
      " 18  quali_date    550927 non-null  object         \n",
      " 19  quali_time    550927 non-null  object         \n",
      " 20  sprint_date   550927 non-null  object         \n",
      " 21  sprint_time   550927 non-null  object         \n",
      " 22  driverRef     550927 non-null  object         \n",
      " 23  number        550927 non-null  object         \n",
      " 24  code          550927 non-null  object         \n",
      " 25  forename      550927 non-null  object         \n",
      " 26  surname       550927 non-null  object         \n",
      " 27  dob           550927 non-null  object         \n",
      " 28  nationality   550927 non-null  object         \n",
      "dtypes: datetime64[ns](1), int64(8), object(18), timedelta64[ns](2)\n",
      "memory usage: 121.9+ MB\n"
     ]
    }
   ],
   "source": [
    "merge_df.info()"
   ],
   "metadata": {
    "collapsed": false,
    "ExecuteTime": {
     "end_time": "2023-07-28T06:54:42.483044Z",
     "start_time": "2023-07-28T06:54:42.316629Z"
    }
   }
  },
  {
   "cell_type": "code",
   "execution_count": 14,
   "outputs": [
    {
     "name": "stderr",
     "output_type": "stream",
     "text": [
      "/var/folders/2y/yvh1znjd4fgb59l_s7m1s_3c0000gn/T/ipykernel_24956/490472205.py:2: UserWarning: Could not infer format, so each element will be parsed individually, falling back to `dateutil`. To ensure parsing is consistent and as-expected, please specify a format.\n",
      "  merge_df['fp1_date'] = pd.to_datetime(merge_df['fp1_date'], errors='coerce')\n"
     ]
    },
    {
     "data": {
      "text/plain": "0               NaT\n1               NaT\n2               NaT\n3               NaT\n4               NaT\n            ...    \n550922   2023-07-21\n550923   2023-07-21\n550924   2023-07-21\n550925   2023-07-21\n550926   2023-07-21\nName: fp1_date, Length: 550927, dtype: datetime64[ns]"
     },
     "execution_count": 14,
     "metadata": {},
     "output_type": "execute_result"
    }
   ],
   "source": [
    "merge_df['fp1_date'] = merge_df['fp1_date'].fillna(\"0\")\n",
    "merge_df['fp1_date'] = pd.to_datetime(merge_df['fp1_date'], errors='coerce')\n",
    "merge_df['fp1_date']"
   ],
   "metadata": {
    "collapsed": false,
    "ExecuteTime": {
     "end_time": "2023-07-28T06:54:42.531469Z",
     "start_time": "2023-07-28T06:54:42.492147Z"
    }
   }
  },
  {
   "cell_type": "code",
   "execution_count": 15,
   "outputs": [
    {
     "name": "stderr",
     "output_type": "stream",
     "text": [
      "/var/folders/2y/yvh1znjd4fgb59l_s7m1s_3c0000gn/T/ipykernel_24956/3994326938.py:2: UserWarning: Could not infer format, so each element will be parsed individually, falling back to `dateutil`. To ensure parsing is consistent and as-expected, please specify a format.\n",
      "  merge_df['fp2_date'] = pd.to_datetime(merge_df['fp2_date'], errors='coerce')\n"
     ]
    },
    {
     "data": {
      "text/plain": "0               NaT\n1               NaT\n2               NaT\n3               NaT\n4               NaT\n            ...    \n550922   2023-07-21\n550923   2023-07-21\n550924   2023-07-21\n550925   2023-07-21\n550926   2023-07-21\nName: fp2_date, Length: 550927, dtype: datetime64[ns]"
     },
     "execution_count": 15,
     "metadata": {},
     "output_type": "execute_result"
    }
   ],
   "source": [
    "merge_df['fp2_date'] = merge_df['fp2_date'].fillna(\"0\")\n",
    "merge_df['fp2_date'] = pd.to_datetime(merge_df['fp2_date'], errors='coerce')\n",
    "merge_df['fp2_date']"
   ],
   "metadata": {
    "collapsed": false,
    "ExecuteTime": {
     "end_time": "2023-07-28T06:54:42.579979Z",
     "start_time": "2023-07-28T06:54:42.540928Z"
    }
   }
  },
  {
   "cell_type": "code",
   "execution_count": 17,
   "outputs": [
    {
     "name": "stdout",
     "output_type": "stream",
     "text": [
      "<class 'pandas.core.frame.DataFrame'>\n",
      "RangeIndex: 550927 entries, 0 to 550926\n",
      "Data columns (total 29 columns):\n",
      " #   Column        Non-Null Count   Dtype          \n",
      "---  ------        --------------   -----          \n",
      " 0   raceId        550927 non-null  int64          \n",
      " 1   driverId      550927 non-null  int64          \n",
      " 2   lap           550927 non-null  int64          \n",
      " 3   position      550927 non-null  int64          \n",
      " 4   time_x        550884 non-null  timedelta64[ns]\n",
      " 5   milliseconds  550927 non-null  int64          \n",
      " 6   year          550927 non-null  int64          \n",
      " 7   round         550927 non-null  int64          \n",
      " 8   circuitId     550927 non-null  int64          \n",
      " 9   name          550927 non-null  object         \n",
      " 10  date          550927 non-null  datetime64[ns] \n",
      " 11  time_y        399976 non-null  timedelta64[ns]\n",
      " 12  fp1_date      60023 non-null   datetime64[ns] \n",
      " 13  fp1_time      550927 non-null  object         \n",
      " 14  fp2_date      60023 non-null   datetime64[ns] \n",
      " 15  fp2_time      550927 non-null  object         \n",
      " 16  fp3_date      550927 non-null  object         \n",
      " 17  fp3_time      550927 non-null  object         \n",
      " 18  quali_date    550927 non-null  object         \n",
      " 19  quali_time    550927 non-null  object         \n",
      " 20  sprint_date   550927 non-null  object         \n",
      " 21  sprint_time   550927 non-null  object         \n",
      " 22  driverRef     550927 non-null  object         \n",
      " 23  number        550927 non-null  object         \n",
      " 24  code          550927 non-null  object         \n",
      " 25  forename      550927 non-null  object         \n",
      " 26  surname       550927 non-null  object         \n",
      " 27  dob           550927 non-null  object         \n",
      " 28  nationality   550927 non-null  object         \n",
      "dtypes: datetime64[ns](3), int64(8), object(16), timedelta64[ns](2)\n",
      "memory usage: 121.9+ MB\n"
     ]
    }
   ],
   "source": [
    "merge_df.info()"
   ],
   "metadata": {
    "collapsed": false,
    "ExecuteTime": {
     "end_time": "2023-07-28T06:54:49.390230Z",
     "start_time": "2023-07-28T06:54:49.238954Z"
    }
   }
  },
  {
   "cell_type": "code",
   "execution_count": 18,
   "outputs": [
    {
     "name": "stderr",
     "output_type": "stream",
     "text": [
      "/var/folders/2y/yvh1znjd4fgb59l_s7m1s_3c0000gn/T/ipykernel_24956/571806616.py:2: UserWarning: Could not infer format, so each element will be parsed individually, falling back to `dateutil`. To ensure parsing is consistent and as-expected, please specify a format.\n",
      "  merge_df['fp3_date'] = pd.to_datetime(merge_df['fp3_date'], errors='coerce')\n"
     ]
    },
    {
     "data": {
      "text/plain": "0               NaT\n1               NaT\n2               NaT\n3               NaT\n4               NaT\n            ...    \n550922   2023-07-22\n550923   2023-07-22\n550924   2023-07-22\n550925   2023-07-22\n550926   2023-07-22\nName: fp3_date, Length: 550927, dtype: datetime64[ns]"
     },
     "execution_count": 18,
     "metadata": {},
     "output_type": "execute_result"
    }
   ],
   "source": [
    "merge_df['fp3_date'] = merge_df['fp3_date'].fillna(\"0\")\n",
    "merge_df['fp3_date'] = pd.to_datetime(merge_df['fp3_date'], errors='coerce')\n",
    "merge_df['fp3_date']"
   ],
   "metadata": {
    "collapsed": false,
    "ExecuteTime": {
     "end_time": "2023-07-28T06:55:03.585411Z",
     "start_time": "2023-07-28T06:55:03.546744Z"
    }
   }
  },
  {
   "cell_type": "code",
   "execution_count": 19,
   "outputs": [
    {
     "name": "stdout",
     "output_type": "stream",
     "text": [
      "<class 'pandas.core.frame.DataFrame'>\n",
      "RangeIndex: 550927 entries, 0 to 550926\n",
      "Data columns (total 29 columns):\n",
      " #   Column        Non-Null Count   Dtype          \n",
      "---  ------        --------------   -----          \n",
      " 0   raceId        550927 non-null  int64          \n",
      " 1   driverId      550927 non-null  int64          \n",
      " 2   lap           550927 non-null  int64          \n",
      " 3   position      550927 non-null  int64          \n",
      " 4   time_x        550884 non-null  timedelta64[ns]\n",
      " 5   milliseconds  550927 non-null  int64          \n",
      " 6   year          550927 non-null  int64          \n",
      " 7   round         550927 non-null  int64          \n",
      " 8   circuitId     550927 non-null  int64          \n",
      " 9   name          550927 non-null  object         \n",
      " 10  date          550927 non-null  datetime64[ns] \n",
      " 11  time_y        399976 non-null  timedelta64[ns]\n",
      " 12  fp1_date      60023 non-null   datetime64[ns] \n",
      " 13  fp1_time      550927 non-null  object         \n",
      " 14  fp2_date      60023 non-null   datetime64[ns] \n",
      " 15  fp2_time      550927 non-null  object         \n",
      " 16  fp3_date      50781 non-null   datetime64[ns] \n",
      " 17  fp3_time      550927 non-null  object         \n",
      " 18  quali_date    550927 non-null  object         \n",
      " 19  quali_time    550927 non-null  object         \n",
      " 20  sprint_date   550927 non-null  object         \n",
      " 21  sprint_time   550927 non-null  object         \n",
      " 22  driverRef     550927 non-null  object         \n",
      " 23  number        550927 non-null  object         \n",
      " 24  code          550927 non-null  object         \n",
      " 25  forename      550927 non-null  object         \n",
      " 26  surname       550927 non-null  object         \n",
      " 27  dob           550927 non-null  object         \n",
      " 28  nationality   550927 non-null  object         \n",
      "dtypes: datetime64[ns](4), int64(8), object(15), timedelta64[ns](2)\n",
      "memory usage: 121.9+ MB\n"
     ]
    }
   ],
   "source": [
    "merge_df.info()"
   ],
   "metadata": {
    "collapsed": false,
    "ExecuteTime": {
     "end_time": "2023-07-28T06:55:05.673815Z",
     "start_time": "2023-07-28T06:55:05.528455Z"
    }
   }
  },
  {
   "cell_type": "code",
   "execution_count": 21,
   "outputs": [
    {
     "data": {
      "text/plain": "0                    NaT\n1                    NaT\n2                    NaT\n3                    NaT\n4                    NaT\n               ...      \n550922   0 days 11:30:00\n550923   0 days 11:30:00\n550924   0 days 11:30:00\n550925   0 days 11:30:00\n550926   0 days 11:30:00\nName: fp1_time, Length: 550927, dtype: timedelta64[ns]"
     },
     "execution_count": 21,
     "metadata": {},
     "output_type": "execute_result"
    }
   ],
   "source": [
    "merge_df['fp1_time'] = merge_df['fp1_time'].fillna(\"0\")\n",
    "merge_df['fp1_time'] = pd.to_timedelta(merge_df['fp1_time'], errors='coerce')"
   ],
   "metadata": {
    "collapsed": false,
    "ExecuteTime": {
     "end_time": "2023-07-28T06:55:33.062927Z",
     "start_time": "2023-07-28T06:55:32.836673Z"
    }
   }
  },
  {
   "cell_type": "code",
   "execution_count": 22,
   "outputs": [],
   "source": [
    "merge_df['fp2_time'] = merge_df['fp2_time'].fillna(\"0\")\n",
    "merge_df['fp2_time'] = pd.to_timedelta(merge_df['fp2_time'], errors='coerce')"
   ],
   "metadata": {
    "collapsed": false,
    "ExecuteTime": {
     "end_time": "2023-07-28T06:55:59.418083Z",
     "start_time": "2023-07-28T06:55:59.189924Z"
    }
   }
  },
  {
   "cell_type": "code",
   "execution_count": 23,
   "outputs": [],
   "source": [
    "merge_df['fp3_time'] = merge_df['fp3_time'].fillna(\"0\")\n",
    "merge_df['fp3_time'] = pd.to_timedelta(merge_df['fp3_time'], errors='coerce')\n"
   ],
   "metadata": {
    "collapsed": false,
    "ExecuteTime": {
     "end_time": "2023-07-28T06:56:02.909274Z",
     "start_time": "2023-07-28T06:56:02.691058Z"
    }
   }
  },
  {
   "cell_type": "code",
   "execution_count": 24,
   "outputs": [
    {
     "name": "stdout",
     "output_type": "stream",
     "text": [
      "<class 'pandas.core.frame.DataFrame'>\n",
      "RangeIndex: 550927 entries, 0 to 550926\n",
      "Data columns (total 29 columns):\n",
      " #   Column        Non-Null Count   Dtype          \n",
      "---  ------        --------------   -----          \n",
      " 0   raceId        550927 non-null  int64          \n",
      " 1   driverId      550927 non-null  int64          \n",
      " 2   lap           550927 non-null  int64          \n",
      " 3   position      550927 non-null  int64          \n",
      " 4   time_x        550884 non-null  timedelta64[ns]\n",
      " 5   milliseconds  550927 non-null  int64          \n",
      " 6   year          550927 non-null  int64          \n",
      " 7   round         550927 non-null  int64          \n",
      " 8   circuitId     550927 non-null  int64          \n",
      " 9   name          550927 non-null  object         \n",
      " 10  date          550927 non-null  datetime64[ns] \n",
      " 11  time_y        399976 non-null  timedelta64[ns]\n",
      " 12  fp1_date      60023 non-null   datetime64[ns] \n",
      " 13  fp1_time      36335 non-null   timedelta64[ns]\n",
      " 14  fp2_date      60023 non-null   datetime64[ns] \n",
      " 15  fp2_time      36335 non-null   timedelta64[ns]\n",
      " 16  fp3_date      50781 non-null   datetime64[ns] \n",
      " 17  fp3_time      30311 non-null   timedelta64[ns]\n",
      " 18  quali_date    550927 non-null  object         \n",
      " 19  quali_time    550927 non-null  object         \n",
      " 20  sprint_date   550927 non-null  object         \n",
      " 21  sprint_time   550927 non-null  object         \n",
      " 22  driverRef     550927 non-null  object         \n",
      " 23  number        550927 non-null  object         \n",
      " 24  code          550927 non-null  object         \n",
      " 25  forename      550927 non-null  object         \n",
      " 26  surname       550927 non-null  object         \n",
      " 27  dob           550927 non-null  object         \n",
      " 28  nationality   550927 non-null  object         \n",
      "dtypes: datetime64[ns](4), int64(8), object(12), timedelta64[ns](5)\n",
      "memory usage: 121.9+ MB\n"
     ]
    }
   ],
   "source": [
    "merge_df.info()"
   ],
   "metadata": {
    "collapsed": false,
    "ExecuteTime": {
     "end_time": "2023-07-28T06:56:10.064680Z",
     "start_time": "2023-07-28T06:56:09.948749Z"
    }
   }
  },
  {
   "cell_type": "code",
   "execution_count": 26,
   "outputs": [
    {
     "name": "stderr",
     "output_type": "stream",
     "text": [
      "/var/folders/2y/yvh1znjd4fgb59l_s7m1s_3c0000gn/T/ipykernel_24956/1097556368.py:2: UserWarning: Could not infer format, so each element will be parsed individually, falling back to `dateutil`. To ensure parsing is consistent and as-expected, please specify a format.\n",
      "  merge_df['quali_date'] = pd.to_datetime(merge_df['quali_date'], errors='coerce')\n"
     ]
    }
   ],
   "source": [
    "merge_df['quali_date'] = merge_df['quali_date'].fillna(\"0\")\n",
    "merge_df['quali_date'] = pd.to_datetime(merge_df['quali_date'], errors='coerce')"
   ],
   "metadata": {
    "collapsed": false,
    "ExecuteTime": {
     "end_time": "2023-07-28T06:57:15.278110Z",
     "start_time": "2023-07-28T06:57:15.238267Z"
    }
   }
  },
  {
   "cell_type": "code",
   "execution_count": 27,
   "outputs": [
    {
     "name": "stdout",
     "output_type": "stream",
     "text": [
      "<class 'pandas.core.frame.DataFrame'>\n",
      "RangeIndex: 550927 entries, 0 to 550926\n",
      "Data columns (total 29 columns):\n",
      " #   Column        Non-Null Count   Dtype          \n",
      "---  ------        --------------   -----          \n",
      " 0   raceId        550927 non-null  int64          \n",
      " 1   driverId      550927 non-null  int64          \n",
      " 2   lap           550927 non-null  int64          \n",
      " 3   position      550927 non-null  int64          \n",
      " 4   time_x        550884 non-null  timedelta64[ns]\n",
      " 5   milliseconds  550927 non-null  int64          \n",
      " 6   year          550927 non-null  int64          \n",
      " 7   round         550927 non-null  int64          \n",
      " 8   circuitId     550927 non-null  int64          \n",
      " 9   name          550927 non-null  object         \n",
      " 10  date          550927 non-null  datetime64[ns] \n",
      " 11  time_y        399976 non-null  timedelta64[ns]\n",
      " 12  fp1_date      60023 non-null   datetime64[ns] \n",
      " 13  fp1_time      36335 non-null   timedelta64[ns]\n",
      " 14  fp2_date      60023 non-null   datetime64[ns] \n",
      " 15  fp2_time      36335 non-null   timedelta64[ns]\n",
      " 16  fp3_date      50781 non-null   datetime64[ns] \n",
      " 17  fp3_time      30311 non-null   timedelta64[ns]\n",
      " 18  quali_date    60023 non-null   datetime64[ns] \n",
      " 19  quali_time    550927 non-null  object         \n",
      " 20  sprint_date   550927 non-null  object         \n",
      " 21  sprint_time   550927 non-null  object         \n",
      " 22  driverRef     550927 non-null  object         \n",
      " 23  number        550927 non-null  object         \n",
      " 24  code          550927 non-null  object         \n",
      " 25  forename      550927 non-null  object         \n",
      " 26  surname       550927 non-null  object         \n",
      " 27  dob           550927 non-null  object         \n",
      " 28  nationality   550927 non-null  object         \n",
      "dtypes: datetime64[ns](5), int64(8), object(11), timedelta64[ns](5)\n",
      "memory usage: 121.9+ MB\n"
     ]
    }
   ],
   "source": [
    "merge_df.info()"
   ],
   "metadata": {
    "collapsed": false,
    "ExecuteTime": {
     "end_time": "2023-07-28T06:57:22.391410Z",
     "start_time": "2023-07-28T06:57:22.281775Z"
    }
   }
  },
  {
   "cell_type": "code",
   "execution_count": 28,
   "outputs": [],
   "source": [
    "merge_df['quali_time'] = merge_df['quali_time'].fillna(\"0\")\n",
    "merge_df['quali_time'] = pd.to_timedelta(merge_df['quali_time'], errors='coerce')\n"
   ],
   "metadata": {
    "collapsed": false,
    "ExecuteTime": {
     "end_time": "2023-07-28T06:57:26.864281Z",
     "start_time": "2023-07-28T06:57:26.634384Z"
    }
   }
  },
  {
   "cell_type": "code",
   "execution_count": 29,
   "outputs": [
    {
     "name": "stdout",
     "output_type": "stream",
     "text": [
      "<class 'pandas.core.frame.DataFrame'>\n",
      "RangeIndex: 550927 entries, 0 to 550926\n",
      "Data columns (total 29 columns):\n",
      " #   Column        Non-Null Count   Dtype          \n",
      "---  ------        --------------   -----          \n",
      " 0   raceId        550927 non-null  int64          \n",
      " 1   driverId      550927 non-null  int64          \n",
      " 2   lap           550927 non-null  int64          \n",
      " 3   position      550927 non-null  int64          \n",
      " 4   time_x        550884 non-null  timedelta64[ns]\n",
      " 5   milliseconds  550927 non-null  int64          \n",
      " 6   year          550927 non-null  int64          \n",
      " 7   round         550927 non-null  int64          \n",
      " 8   circuitId     550927 non-null  int64          \n",
      " 9   name          550927 non-null  object         \n",
      " 10  date          550927 non-null  datetime64[ns] \n",
      " 11  time_y        399976 non-null  timedelta64[ns]\n",
      " 12  fp1_date      60023 non-null   datetime64[ns] \n",
      " 13  fp1_time      36335 non-null   timedelta64[ns]\n",
      " 14  fp2_date      60023 non-null   datetime64[ns] \n",
      " 15  fp2_time      36335 non-null   timedelta64[ns]\n",
      " 16  fp3_date      50781 non-null   datetime64[ns] \n",
      " 17  fp3_time      30311 non-null   timedelta64[ns]\n",
      " 18  quali_date    60023 non-null   datetime64[ns] \n",
      " 19  quali_time    36335 non-null   timedelta64[ns]\n",
      " 20  sprint_date   550927 non-null  object         \n",
      " 21  sprint_time   550927 non-null  object         \n",
      " 22  driverRef     550927 non-null  object         \n",
      " 23  number        550927 non-null  object         \n",
      " 24  code          550927 non-null  object         \n",
      " 25  forename      550927 non-null  object         \n",
      " 26  surname       550927 non-null  object         \n",
      " 27  dob           550927 non-null  object         \n",
      " 28  nationality   550927 non-null  object         \n",
      "dtypes: datetime64[ns](5), int64(8), object(10), timedelta64[ns](6)\n",
      "memory usage: 121.9+ MB\n"
     ]
    }
   ],
   "source": [
    "merge_df.info()"
   ],
   "metadata": {
    "collapsed": false,
    "ExecuteTime": {
     "end_time": "2023-07-28T06:57:28.114326Z",
     "start_time": "2023-07-28T06:57:28.012764Z"
    }
   }
  },
  {
   "cell_type": "code",
   "execution_count": 30,
   "outputs": [
    {
     "name": "stderr",
     "output_type": "stream",
     "text": [
      "/var/folders/2y/yvh1znjd4fgb59l_s7m1s_3c0000gn/T/ipykernel_24956/4157305593.py:2: UserWarning: Could not infer format, so each element will be parsed individually, falling back to `dateutil`. To ensure parsing is consistent and as-expected, please specify a format.\n",
      "  merge_df['sprint_date'] = pd.to_datetime(merge_df['sprint_date'], errors='coerce')\n"
     ]
    }
   ],
   "source": [
    "merge_df['sprint_date'] = merge_df['sprint_date'].fillna(\"0\")\n",
    "merge_df['sprint_date'] = pd.to_datetime(merge_df['sprint_date'], errors='coerce')\n"
   ],
   "metadata": {
    "collapsed": false,
    "ExecuteTime": {
     "end_time": "2023-07-28T06:57:47.150688Z",
     "start_time": "2023-07-28T06:57:47.110763Z"
    }
   }
  },
  {
   "cell_type": "code",
   "execution_count": 31,
   "outputs": [
    {
     "name": "stdout",
     "output_type": "stream",
     "text": [
      "<class 'pandas.core.frame.DataFrame'>\n",
      "RangeIndex: 550927 entries, 0 to 550926\n",
      "Data columns (total 29 columns):\n",
      " #   Column        Non-Null Count   Dtype          \n",
      "---  ------        --------------   -----          \n",
      " 0   raceId        550927 non-null  int64          \n",
      " 1   driverId      550927 non-null  int64          \n",
      " 2   lap           550927 non-null  int64          \n",
      " 3   position      550927 non-null  int64          \n",
      " 4   time_x        550884 non-null  timedelta64[ns]\n",
      " 5   milliseconds  550927 non-null  int64          \n",
      " 6   year          550927 non-null  int64          \n",
      " 7   round         550927 non-null  int64          \n",
      " 8   circuitId     550927 non-null  int64          \n",
      " 9   name          550927 non-null  object         \n",
      " 10  date          550927 non-null  datetime64[ns] \n",
      " 11  time_y        399976 non-null  timedelta64[ns]\n",
      " 12  fp1_date      60023 non-null   datetime64[ns] \n",
      " 13  fp1_time      36335 non-null   timedelta64[ns]\n",
      " 14  fp2_date      60023 non-null   datetime64[ns] \n",
      " 15  fp2_time      36335 non-null   timedelta64[ns]\n",
      " 16  fp3_date      50781 non-null   datetime64[ns] \n",
      " 17  fp3_time      30311 non-null   timedelta64[ns]\n",
      " 18  quali_date    60023 non-null   datetime64[ns] \n",
      " 19  quali_time    36335 non-null   timedelta64[ns]\n",
      " 20  sprint_date   9242 non-null    datetime64[ns] \n",
      " 21  sprint_time   550927 non-null  object         \n",
      " 22  driverRef     550927 non-null  object         \n",
      " 23  number        550927 non-null  object         \n",
      " 24  code          550927 non-null  object         \n",
      " 25  forename      550927 non-null  object         \n",
      " 26  surname       550927 non-null  object         \n",
      " 27  dob           550927 non-null  object         \n",
      " 28  nationality   550927 non-null  object         \n",
      "dtypes: datetime64[ns](6), int64(8), object(9), timedelta64[ns](6)\n",
      "memory usage: 121.9+ MB\n"
     ]
    }
   ],
   "source": [
    "merge_df.info()"
   ],
   "metadata": {
    "collapsed": false,
    "ExecuteTime": {
     "end_time": "2023-07-28T06:57:48.235091Z",
     "start_time": "2023-07-28T06:57:48.148807Z"
    }
   }
  },
  {
   "cell_type": "code",
   "execution_count": 32,
   "outputs": [],
   "source": [
    "merge_df['sprint_time'] = merge_df['sprint_time'].fillna(\"0\")\n",
    "merge_df['sprint_time'] = pd.to_timedelta(merge_df['sprint_time'], errors='coerce')\n"
   ],
   "metadata": {
    "collapsed": false,
    "ExecuteTime": {
     "end_time": "2023-07-28T06:57:51.618252Z",
     "start_time": "2023-07-28T06:57:51.421020Z"
    }
   }
  },
  {
   "cell_type": "code",
   "execution_count": 33,
   "outputs": [
    {
     "name": "stdout",
     "output_type": "stream",
     "text": [
      "<class 'pandas.core.frame.DataFrame'>\n",
      "RangeIndex: 550927 entries, 0 to 550926\n",
      "Data columns (total 29 columns):\n",
      " #   Column        Non-Null Count   Dtype          \n",
      "---  ------        --------------   -----          \n",
      " 0   raceId        550927 non-null  int64          \n",
      " 1   driverId      550927 non-null  int64          \n",
      " 2   lap           550927 non-null  int64          \n",
      " 3   position      550927 non-null  int64          \n",
      " 4   time_x        550884 non-null  timedelta64[ns]\n",
      " 5   milliseconds  550927 non-null  int64          \n",
      " 6   year          550927 non-null  int64          \n",
      " 7   round         550927 non-null  int64          \n",
      " 8   circuitId     550927 non-null  int64          \n",
      " 9   name          550927 non-null  object         \n",
      " 10  date          550927 non-null  datetime64[ns] \n",
      " 11  time_y        399976 non-null  timedelta64[ns]\n",
      " 12  fp1_date      60023 non-null   datetime64[ns] \n",
      " 13  fp1_time      36335 non-null   timedelta64[ns]\n",
      " 14  fp2_date      60023 non-null   datetime64[ns] \n",
      " 15  fp2_time      36335 non-null   timedelta64[ns]\n",
      " 16  fp3_date      50781 non-null   datetime64[ns] \n",
      " 17  fp3_time      30311 non-null   timedelta64[ns]\n",
      " 18  quali_date    60023 non-null   datetime64[ns] \n",
      " 19  quali_time    36335 non-null   timedelta64[ns]\n",
      " 20  sprint_date   9242 non-null    datetime64[ns] \n",
      " 21  sprint_time   6024 non-null    timedelta64[ns]\n",
      " 22  driverRef     550927 non-null  object         \n",
      " 23  number        550927 non-null  object         \n",
      " 24  code          550927 non-null  object         \n",
      " 25  forename      550927 non-null  object         \n",
      " 26  surname       550927 non-null  object         \n",
      " 27  dob           550927 non-null  object         \n",
      " 28  nationality   550927 non-null  object         \n",
      "dtypes: datetime64[ns](6), int64(8), object(8), timedelta64[ns](7)\n",
      "memory usage: 121.9+ MB\n"
     ]
    }
   ],
   "source": [
    "merge_df.info()"
   ],
   "metadata": {
    "collapsed": false,
    "ExecuteTime": {
     "end_time": "2023-07-28T06:58:02.417206Z",
     "start_time": "2023-07-28T06:58:02.332649Z"
    }
   }
  },
  {
   "cell_type": "code",
   "execution_count": 37,
   "outputs": [],
   "source": [
    "merge_df.number = merge_df.number.str.replace('\\\\N', '0')\n",
    "merge_df.number = merge_df.number.astype(int)"
   ],
   "metadata": {
    "collapsed": false,
    "ExecuteTime": {
     "end_time": "2023-07-28T06:59:22.483707Z",
     "start_time": "2023-07-28T06:59:22.388194Z"
    }
   }
  },
  {
   "cell_type": "code",
   "execution_count": 38,
   "outputs": [
    {
     "name": "stdout",
     "output_type": "stream",
     "text": [
      "<class 'pandas.core.frame.DataFrame'>\n",
      "RangeIndex: 550927 entries, 0 to 550926\n",
      "Data columns (total 29 columns):\n",
      " #   Column        Non-Null Count   Dtype          \n",
      "---  ------        --------------   -----          \n",
      " 0   raceId        550927 non-null  int64          \n",
      " 1   driverId      550927 non-null  int64          \n",
      " 2   lap           550927 non-null  int64          \n",
      " 3   position      550927 non-null  int64          \n",
      " 4   time_x        550884 non-null  timedelta64[ns]\n",
      " 5   milliseconds  550927 non-null  int64          \n",
      " 6   year          550927 non-null  int64          \n",
      " 7   round         550927 non-null  int64          \n",
      " 8   circuitId     550927 non-null  int64          \n",
      " 9   name          550927 non-null  object         \n",
      " 10  date          550927 non-null  datetime64[ns] \n",
      " 11  time_y        399976 non-null  timedelta64[ns]\n",
      " 12  fp1_date      60023 non-null   datetime64[ns] \n",
      " 13  fp1_time      36335 non-null   timedelta64[ns]\n",
      " 14  fp2_date      60023 non-null   datetime64[ns] \n",
      " 15  fp2_time      36335 non-null   timedelta64[ns]\n",
      " 16  fp3_date      50781 non-null   datetime64[ns] \n",
      " 17  fp3_time      30311 non-null   timedelta64[ns]\n",
      " 18  quali_date    60023 non-null   datetime64[ns] \n",
      " 19  quali_time    36335 non-null   timedelta64[ns]\n",
      " 20  sprint_date   9242 non-null    datetime64[ns] \n",
      " 21  sprint_time   6024 non-null    timedelta64[ns]\n",
      " 22  driverRef     550927 non-null  object         \n",
      " 23  number        550927 non-null  int64          \n",
      " 24  code          550927 non-null  object         \n",
      " 25  forename      550927 non-null  object         \n",
      " 26  surname       550927 non-null  object         \n",
      " 27  dob           550927 non-null  object         \n",
      " 28  nationality   550927 non-null  object         \n",
      "dtypes: datetime64[ns](6), int64(9), object(7), timedelta64[ns](7)\n",
      "memory usage: 121.9+ MB\n"
     ]
    }
   ],
   "source": [
    "merge_df.info()"
   ],
   "metadata": {
    "collapsed": false,
    "ExecuteTime": {
     "end_time": "2023-07-28T06:59:28.522363Z",
     "start_time": "2023-07-28T06:59:28.443210Z"
    }
   }
  },
  {
   "cell_type": "code",
   "execution_count": 41,
   "outputs": [],
   "source": [
    "merge_df['dob'] = merge_df['dob'].fillna(\"0\")\n",
    "merge_df['dob'] = pd.to_datetime(merge_df['dob'], errors='coerce')"
   ],
   "metadata": {
    "collapsed": false,
    "ExecuteTime": {
     "end_time": "2023-07-28T07:00:13.562388Z",
     "start_time": "2023-07-28T07:00:13.516476Z"
    }
   }
  },
  {
   "cell_type": "code",
   "execution_count": 42,
   "outputs": [],
   "source": [
    "merge_df.drop(['driverRef','code','forename','surname','nationality'], axis =1, inplace=True)"
   ],
   "metadata": {
    "collapsed": false,
    "ExecuteTime": {
     "end_time": "2023-07-28T07:01:14.275019Z",
     "start_time": "2023-07-28T07:01:14.255741Z"
    }
   }
  },
  {
   "cell_type": "code",
   "execution_count": 43,
   "outputs": [
    {
     "name": "stdout",
     "output_type": "stream",
     "text": [
      "<class 'pandas.core.frame.DataFrame'>\n",
      "RangeIndex: 550927 entries, 0 to 550926\n",
      "Data columns (total 24 columns):\n",
      " #   Column        Non-Null Count   Dtype          \n",
      "---  ------        --------------   -----          \n",
      " 0   raceId        550927 non-null  int64          \n",
      " 1   driverId      550927 non-null  int64          \n",
      " 2   lap           550927 non-null  int64          \n",
      " 3   position      550927 non-null  int64          \n",
      " 4   time_x        550884 non-null  timedelta64[ns]\n",
      " 5   milliseconds  550927 non-null  int64          \n",
      " 6   year          550927 non-null  int64          \n",
      " 7   round         550927 non-null  int64          \n",
      " 8   circuitId     550927 non-null  int64          \n",
      " 9   name          550927 non-null  object         \n",
      " 10  date          550927 non-null  datetime64[ns] \n",
      " 11  time_y        399976 non-null  timedelta64[ns]\n",
      " 12  fp1_date      60023 non-null   datetime64[ns] \n",
      " 13  fp1_time      36335 non-null   timedelta64[ns]\n",
      " 14  fp2_date      60023 non-null   datetime64[ns] \n",
      " 15  fp2_time      36335 non-null   timedelta64[ns]\n",
      " 16  fp3_date      50781 non-null   datetime64[ns] \n",
      " 17  fp3_time      30311 non-null   timedelta64[ns]\n",
      " 18  quali_date    60023 non-null   datetime64[ns] \n",
      " 19  quali_time    36335 non-null   timedelta64[ns]\n",
      " 20  sprint_date   9242 non-null    datetime64[ns] \n",
      " 21  sprint_time   6024 non-null    timedelta64[ns]\n",
      " 22  number        550927 non-null  int64          \n",
      " 23  dob           550927 non-null  datetime64[ns] \n",
      "dtypes: datetime64[ns](7), int64(9), object(1), timedelta64[ns](7)\n",
      "memory usage: 100.9+ MB\n"
     ]
    }
   ],
   "source": [
    "merge_df.info()"
   ],
   "metadata": {
    "collapsed": false,
    "ExecuteTime": {
     "end_time": "2023-07-28T07:01:16.517997Z",
     "start_time": "2023-07-28T07:01:16.499865Z"
    }
   }
  },
  {
   "cell_type": "code",
   "execution_count": 44,
   "outputs": [],
   "source": [
    "merge_df.to_csv(\"formula_1.csv\")"
   ],
   "metadata": {
    "collapsed": false,
    "ExecuteTime": {
     "end_time": "2023-07-28T07:02:39.917279Z",
     "start_time": "2023-07-28T07:02:33.067054Z"
    }
   }
  },
  {
   "cell_type": "markdown",
   "source": [
    "# Data Analysis"
   ],
   "metadata": {
    "collapsed": false
   }
  },
  {
   "cell_type": "code",
   "execution_count": 53,
   "outputs": [
    {
     "name": "stderr",
     "output_type": "stream",
     "text": [
      "/var/folders/2y/yvh1znjd4fgb59l_s7m1s_3c0000gn/T/ipykernel_24956/440918040.py:1: DtypeWarning: Columns (13,14,15,16,17,18,19,20,21,22) have mixed types. Specify dtype option on import or set low_memory=False.\n",
      "  f1_df = pd.read_csv(\"formula_1.csv\")\n"
     ]
    }
   ],
   "source": [
    "f1_df = pd.read_csv(\"formula_1.csv\")\n"
   ],
   "metadata": {
    "collapsed": false,
    "ExecuteTime": {
     "end_time": "2023-07-28T07:05:27.306314Z",
     "start_time": "2023-07-28T07:05:26.562749Z"
    }
   }
  },
  {
   "cell_type": "code",
   "execution_count": 51,
   "outputs": [],
   "source": [
    "import matplotlib.pyplot as plt\n",
    "import seaborn as sns\n",
    "import plotly.express as px"
   ],
   "metadata": {
    "collapsed": false,
    "ExecuteTime": {
     "end_time": "2023-07-28T07:04:07.693298Z",
     "start_time": "2023-07-28T07:04:03.927432Z"
    }
   }
  },
  {
   "cell_type": "code",
   "execution_count": 56,
   "outputs": [
    {
     "data": {
      "text/plain": "<Axes: xlabel='position', ylabel='lap'>"
     },
     "execution_count": 56,
     "metadata": {},
     "output_type": "execute_result"
    },
    {
     "data": {
      "text/plain": "<Figure size 640x480 with 1 Axes>",
      "image/png": "[encoded data removed]"
     },
     "metadata": {},
     "output_type": "display_data"
    }
   ],
   "source": [],
   "metadata": {
    "collapsed": false,
    "ExecuteTime": {
     "end_time": "2023-07-28T07:06:20.162831Z",
     "start_time": "2023-07-28T07:06:19.774077Z"
    }
   }
  },
  {
   "cell_type": "code",
   "execution_count": null,
   "outputs": [],
   "source": [],
   "metadata": {
    "collapsed": false
   }
  }
 ],
 "metadata": {
  "kernelspec": {
   "display_name": "Python 3",
   "language": "python",
   "name": "python3"
  },
  "language_info": {
   "codemirror_mode": {
    "name": "ipython",
    "version": 2
   },
   "file_extension": ".py",
   "mimetype": "text/x-python",
   "name": "python",
   "nbconvert_exporter": "python",
   "pygments_lexer": "ipython2",
   "version": "2.7.6"
  }
 },
 "nbformat": 4,
 "nbformat_minor": 0
}
