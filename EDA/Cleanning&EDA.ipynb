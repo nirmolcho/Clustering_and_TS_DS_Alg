{
 "cells": [
  {
   "cell_type": "code",
   "execution_count": 1,
   "outputs": [],
   "source": [
    "import pandas as pd"
   ],
   "metadata": {
    "collapsed": false,
    "ExecuteTime": {
     "end_time": "2023-07-28T08:47:31.605012Z",
     "start_time": "2023-07-28T08:47:31.603680Z"
    }
   }
  },
  {
   "cell_type": "code",
   "execution_count": 2,
   "outputs": [],
   "source": [
    "drivers = pd.read_csv(\"../Scraping/f1db_csv/drivers.csv\")\n",
    "lap_times = pd.read_csv(\"../Scraping/f1db_csv/lap_times.csv\")\n",
    "races = pd.read_csv(\"../Scraping/f1db_csv/races.csv\")"
   ],
   "metadata": {
    "collapsed": false,
    "ExecuteTime": {
     "end_time": "2023-07-28T08:47:31.762160Z",
     "start_time": "2023-07-28T08:47:31.605706Z"
    }
   }
  },
  {
   "cell_type": "code",
   "execution_count": 3,
   "outputs": [],
   "source": [
    "merge1 = pd.merge(lap_times, races, on='raceId')\n",
    "merge_df = pd.merge(merge1, drivers, on='driverId')"
   ],
   "metadata": {
    "collapsed": false,
    "ExecuteTime": {
     "end_time": "2023-07-28T08:47:32.125839Z",
     "start_time": "2023-07-28T08:47:31.763580Z"
    }
   }
  },
  {
   "cell_type": "code",
   "execution_count": 4,
   "outputs": [
    {
     "name": "stdout",
     "output_type": "stream",
     "text": [
      "<class 'pandas.core.frame.DataFrame'>\n",
      "RangeIndex: 550927 entries, 0 to 550926\n",
      "Data columns (total 31 columns):\n",
      " #   Column        Non-Null Count   Dtype \n",
      "---  ------        --------------   ----- \n",
      " 0   raceId        550927 non-null  int64 \n",
      " 1   driverId      550927 non-null  int64 \n",
      " 2   lap           550927 non-null  int64 \n",
      " 3   position      550927 non-null  int64 \n",
      " 4   time_x        550927 non-null  object\n",
      " 5   milliseconds  550927 non-null  int64 \n",
      " 6   year          550927 non-null  int64 \n",
      " 7   round         550927 non-null  int64 \n",
      " 8   circuitId     550927 non-null  int64 \n",
      " 9   name          550927 non-null  object\n",
      " 10  date          550927 non-null  object\n",
      " 11  time_y        550927 non-null  object\n",
      " 12  url_x         550927 non-null  object\n",
      " 13  fp1_date      550927 non-null  object\n",
      " 14  fp1_time      550927 non-null  object\n",
      " 15  fp2_date      550927 non-null  object\n",
      " 16  fp2_time      550927 non-null  object\n",
      " 17  fp3_date      550927 non-null  object\n",
      " 18  fp3_time      550927 non-null  object\n",
      " 19  quali_date    550927 non-null  object\n",
      " 20  quali_time    550927 non-null  object\n",
      " 21  sprint_date   550927 non-null  object\n",
      " 22  sprint_time   550927 non-null  object\n",
      " 23  driverRef     550927 non-null  object\n",
      " 24  number        550927 non-null  object\n",
      " 25  code          550927 non-null  object\n",
      " 26  forename      550927 non-null  object\n",
      " 27  surname       550927 non-null  object\n",
      " 28  dob           550927 non-null  object\n",
      " 29  nationality   550927 non-null  object\n",
      " 30  url_y         550927 non-null  object\n",
      "dtypes: int64(8), object(23)\n",
      "memory usage: 130.3+ MB\n"
     ]
    }
   ],
   "source": [
    "merge_df.info()"
   ],
   "metadata": {
    "collapsed": false,
    "ExecuteTime": {
     "end_time": "2023-07-28T08:47:32.338460Z",
     "start_time": "2023-07-28T08:47:32.126652Z"
    }
   }
  },
  {
   "cell_type": "code",
   "execution_count": 5,
   "outputs": [],
   "source": [
    "merge_df.drop(['time_y','code','driverRef','dob','nationality','time_y','url_x','url_y','fp1_date','fp2_date','fp3_date','fp1_time','fp2_time','fp3_time','quali_date','quali_time','sprint_date','sprint_time','driverRef'], axis=1, inplace=True)"
   ],
   "metadata": {
    "collapsed": false,
    "ExecuteTime": {
     "end_time": "2023-07-28T08:47:32.402880Z",
     "start_time": "2023-07-28T08:47:32.342717Z"
    }
   }
  },
  {
   "cell_type": "code",
   "execution_count": 6,
   "outputs": [
    {
     "name": "stdout",
     "output_type": "stream",
     "text": [
      "<class 'pandas.core.frame.DataFrame'>\n",
      "RangeIndex: 550927 entries, 0 to 550926\n",
      "Data columns (total 14 columns):\n",
      " #   Column        Non-Null Count   Dtype \n",
      "---  ------        --------------   ----- \n",
      " 0   raceId        550927 non-null  int64 \n",
      " 1   driverId      550927 non-null  int64 \n",
      " 2   lap           550927 non-null  int64 \n",
      " 3   position      550927 non-null  int64 \n",
      " 4   time_x        550927 non-null  object\n",
      " 5   milliseconds  550927 non-null  int64 \n",
      " 6   year          550927 non-null  int64 \n",
      " 7   round         550927 non-null  int64 \n",
      " 8   circuitId     550927 non-null  int64 \n",
      " 9   name          550927 non-null  object\n",
      " 10  date          550927 non-null  object\n",
      " 11  number        550927 non-null  object\n",
      " 12  forename      550927 non-null  object\n",
      " 13  surname       550927 non-null  object\n",
      "dtypes: int64(8), object(6)\n",
      "memory usage: 58.8+ MB\n"
     ]
    }
   ],
   "source": [
    "merge_df.info()"
   ],
   "metadata": {
    "collapsed": false,
    "ExecuteTime": {
     "end_time": "2023-07-28T08:47:32.466743Z",
     "start_time": "2023-07-28T08:47:32.459973Z"
    }
   }
  },
  {
   "cell_type": "code",
   "execution_count": 7,
   "outputs": [],
   "source": [
    "merge_df.rename(columns={'milliseconds':'lap_total_time', 'time_x':'time'}, inplace=True)\n",
    "merge_df['driver_name'] = merge_df['forename'] + ' ' + merge_df['surname']\n",
    "merge_df.drop(['forename','surname'], axis=1, inplace=True)"
   ],
   "metadata": {
    "collapsed": false,
    "ExecuteTime": {
     "end_time": "2023-07-28T08:47:32.546977Z",
     "start_time": "2023-07-28T08:47:32.467773Z"
    }
   }
  },
  {
   "cell_type": "code",
   "execution_count": 8,
   "outputs": [
    {
     "name": "stdout",
     "output_type": "stream",
     "text": [
      "<class 'pandas.core.frame.DataFrame'>\n",
      "RangeIndex: 550927 entries, 0 to 550926\n",
      "Data columns (total 13 columns):\n",
      " #   Column          Non-Null Count   Dtype \n",
      "---  ------          --------------   ----- \n",
      " 0   raceId          550927 non-null  int64 \n",
      " 1   driverId        550927 non-null  int64 \n",
      " 2   lap             550927 non-null  int64 \n",
      " 3   position        550927 non-null  int64 \n",
      " 4   time            550927 non-null  object\n",
      " 5   lap_total_time  550927 non-null  int64 \n",
      " 6   year            550927 non-null  int64 \n",
      " 7   round           550927 non-null  int64 \n",
      " 8   circuitId       550927 non-null  int64 \n",
      " 9   name            550927 non-null  object\n",
      " 10  date            550927 non-null  object\n",
      " 11  number          550927 non-null  object\n",
      " 12  driver_name     550927 non-null  object\n",
      "dtypes: int64(8), object(5)\n",
      "memory usage: 54.6+ MB\n"
     ]
    }
   ],
   "source": [
    "merge_df.info()"
   ],
   "metadata": {
    "collapsed": false,
    "ExecuteTime": {
     "end_time": "2023-07-28T08:47:32.604930Z",
     "start_time": "2023-07-28T08:47:32.562366Z"
    }
   }
  },
  {
   "cell_type": "markdown",
   "source": [
    "# Data Cleaning\n"
   ],
   "metadata": {
    "collapsed": false
   }
  },
  {
   "cell_type": "code",
   "execution_count": 9,
   "outputs": [
    {
     "data": {
      "text/plain": "        raceId  driverId  lap  position      time  lap_total_time  year  \\\n10723      989        20   58         1  1:28.863           88863  2018   \n10724      989        20   57         1  1:26.990           86990  2018   \n10725      989        20   56         1  1:27.236           87236  2018   \n10726      989        20   55         1  1:26.983           86983  2018   \n10727      989        20   54         1  1:26.711           86711  2018   \n...        ...       ...  ...       ...       ...             ...   ...   \n550922    1109       857   66         5  1:23.787           83787  2023   \n550923    1109       857   67         5  1:24.053           84053  2023   \n550924    1109       857   68         5  1:25.152           85152  2023   \n550925    1109       857   69         5  1:24.439           84439  2023   \n550926    1109       857   70         5  1:24.503           84503  2023   \n\n        round  circuitId                   name        date number  \\\n10723       1          1  Australian Grand Prix  2018-03-25      5   \n10724       1          1  Australian Grand Prix  2018-03-25      5   \n10725       1          1  Australian Grand Prix  2018-03-25      5   \n10726       1          1  Australian Grand Prix  2018-03-25      5   \n10727       1          1  Australian Grand Prix  2018-03-25      5   \n...       ...        ...                    ...         ...    ...   \n550922     11         11   Hungarian Grand Prix  2023-07-23     81   \n550923     11         11   Hungarian Grand Prix  2023-07-23     81   \n550924     11         11   Hungarian Grand Prix  2023-07-23     81   \n550925     11         11   Hungarian Grand Prix  2023-07-23     81   \n550926     11         11   Hungarian Grand Prix  2023-07-23     81   \n\n             driver_name  \n10723   Sebastian Vettel  \n10724   Sebastian Vettel  \n10725   Sebastian Vettel  \n10726   Sebastian Vettel  \n10727   Sebastian Vettel  \n...                  ...  \n550922     Oscar Piastri  \n550923     Oscar Piastri  \n550924     Oscar Piastri  \n550925     Oscar Piastri  \n550926     Oscar Piastri  \n\n[124294 rows x 13 columns]",
      "text/html": "<div>\n<style scoped>\n    .dataframe tbody tr th:only-of-type {\n        vertical-align: middle;\n    }\n\n    .dataframe tbody tr th {\n        vertical-align: top;\n    }\n\n    .dataframe thead th {\n        text-align: right;\n    }\n</style>\n<table border=\"1\" class=\"dataframe\">\n  <thead>\n    <tr style=\"text-align: right;\">\n      <th></th>\n      <th>raceId</th>\n      <th>driverId</th>\n      <th>lap</th>\n      <th>position</th>\n      <th>time</th>\n      <th>lap_total_time</th>\n      <th>year</th>\n      <th>round</th>\n      <th>circuitId</th>\n      <th>name</th>\n      <th>date</th>\n      <th>number</th>\n      <th>driver_name</th>\n    </tr>\n  </thead>\n  <tbody>\n    <tr>\n      <th>10723</th>\n      <td>989</td>\n      <td>20</td>\n      <td>58</td>\n      <td>1</td>\n      <td>1:28.863</td>\n      <td>88863</td>\n      <td>2018</td>\n      <td>1</td>\n      <td>1</td>\n      <td>Australian Grand Prix</td>\n      <td>2018-03-25</td>\n      <td>5</td>\n      <td>Sebastian Vettel</td>\n    </tr>\n    <tr>\n      <th>10724</th>\n      <td>989</td>\n      <td>20</td>\n      <td>57</td>\n      <td>1</td>\n      <td>1:26.990</td>\n      <td>86990</td>\n      <td>2018</td>\n      <td>1</td>\n      <td>1</td>\n      <td>Australian Grand Prix</td>\n      <td>2018-03-25</td>\n      <td>5</td>\n      <td>Sebastian Vettel</td>\n    </tr>\n    <tr>\n      <th>10725</th>\n      <td>989</td>\n      <td>20</td>\n      <td>56</td>\n      <td>1</td>\n      <td>1:27.236</td>\n      <td>87236</td>\n      <td>2018</td>\n      <td>1</td>\n      <td>1</td>\n      <td>Australian Grand Prix</td>\n      <td>2018-03-25</td>\n      <td>5</td>\n      <td>Sebastian Vettel</td>\n    </tr>\n    <tr>\n      <th>10726</th>\n      <td>989</td>\n      <td>20</td>\n      <td>55</td>\n      <td>1</td>\n      <td>1:26.983</td>\n      <td>86983</td>\n      <td>2018</td>\n      <td>1</td>\n      <td>1</td>\n      <td>Australian Grand Prix</td>\n      <td>2018-03-25</td>\n      <td>5</td>\n      <td>Sebastian Vettel</td>\n    </tr>\n    <tr>\n      <th>10727</th>\n      <td>989</td>\n      <td>20</td>\n      <td>54</td>\n      <td>1</td>\n      <td>1:26.711</td>\n      <td>86711</td>\n      <td>2018</td>\n      <td>1</td>\n      <td>1</td>\n      <td>Australian Grand Prix</td>\n      <td>2018-03-25</td>\n      <td>5</td>\n      <td>Sebastian Vettel</td>\n    </tr>\n    <tr>\n      <th>...</th>\n      <td>...</td>\n      <td>...</td>\n      <td>...</td>\n      <td>...</td>\n      <td>...</td>\n      <td>...</td>\n      <td>...</td>\n      <td>...</td>\n      <td>...</td>\n      <td>...</td>\n      <td>...</td>\n      <td>...</td>\n      <td>...</td>\n    </tr>\n    <tr>\n      <th>550922</th>\n      <td>1109</td>\n      <td>857</td>\n      <td>66</td>\n      <td>5</td>\n      <td>1:23.787</td>\n      <td>83787</td>\n      <td>2023</td>\n      <td>11</td>\n      <td>11</td>\n      <td>Hungarian Grand Prix</td>\n      <td>2023-07-23</td>\n      <td>81</td>\n      <td>Oscar Piastri</td>\n    </tr>\n    <tr>\n      <th>550923</th>\n      <td>1109</td>\n      <td>857</td>\n      <td>67</td>\n      <td>5</td>\n      <td>1:24.053</td>\n      <td>84053</td>\n      <td>2023</td>\n      <td>11</td>\n      <td>11</td>\n      <td>Hungarian Grand Prix</td>\n      <td>2023-07-23</td>\n      <td>81</td>\n      <td>Oscar Piastri</td>\n    </tr>\n    <tr>\n      <th>550924</th>\n      <td>1109</td>\n      <td>857</td>\n      <td>68</td>\n      <td>5</td>\n      <td>1:25.152</td>\n      <td>85152</td>\n      <td>2023</td>\n      <td>11</td>\n      <td>11</td>\n      <td>Hungarian Grand Prix</td>\n      <td>2023-07-23</td>\n      <td>81</td>\n      <td>Oscar Piastri</td>\n    </tr>\n    <tr>\n      <th>550925</th>\n      <td>1109</td>\n      <td>857</td>\n      <td>69</td>\n      <td>5</td>\n      <td>1:24.439</td>\n      <td>84439</td>\n      <td>2023</td>\n      <td>11</td>\n      <td>11</td>\n      <td>Hungarian Grand Prix</td>\n      <td>2023-07-23</td>\n      <td>81</td>\n      <td>Oscar Piastri</td>\n    </tr>\n    <tr>\n      <th>550926</th>\n      <td>1109</td>\n      <td>857</td>\n      <td>70</td>\n      <td>5</td>\n      <td>1:24.503</td>\n      <td>84503</td>\n      <td>2023</td>\n      <td>11</td>\n      <td>11</td>\n      <td>Hungarian Grand Prix</td>\n      <td>2023-07-23</td>\n      <td>81</td>\n      <td>Oscar Piastri</td>\n    </tr>\n  </tbody>\n</table>\n<p>124294 rows × 13 columns</p>\n</div>"
     },
     "execution_count": 9,
     "metadata": {},
     "output_type": "execute_result"
    }
   ],
   "source": [
    "merge_df = merge_df[merge_df['date'] > '2018-01-01']\n",
    "merge_df"
   ],
   "metadata": {
    "collapsed": false,
    "ExecuteTime": {
     "end_time": "2023-07-28T08:47:32.648607Z",
     "start_time": "2023-07-28T08:47:32.620207Z"
    }
   }
  },
  {
   "cell_type": "code",
   "execution_count": 10,
   "outputs": [],
   "source": [
    "merge_df.to_csv(\"formula_1.csv\", index=False)"
   ],
   "metadata": {
    "collapsed": false,
    "ExecuteTime": {
     "end_time": "2023-07-28T08:47:32.912511Z",
     "start_time": "2023-07-28T08:47:32.649527Z"
    }
   }
  },
  {
   "cell_type": "markdown",
   "source": [
    "# Data Analysis"
   ],
   "metadata": {
    "collapsed": false
   }
  },
  {
   "cell_type": "code",
   "execution_count": 11,
   "outputs": [],
   "source": [
    "import matplotlib.pyplot as plt\n",
    "import seaborn as sns\n",
    "import plotly.express as px\n",
    "import numpy as np"
   ],
   "metadata": {
    "collapsed": false,
    "ExecuteTime": {
     "end_time": "2023-07-28T08:47:32.963859Z",
     "start_time": "2023-07-28T08:47:32.913415Z"
    }
   }
  },
  {
   "cell_type": "code",
   "execution_count": 12,
   "outputs": [],
   "source": [
    "f1_df = pd.read_csv(\"formula_1.csv\")"
   ],
   "metadata": {
    "collapsed": false,
    "ExecuteTime": {
     "end_time": "2023-07-28T08:47:33.050303Z",
     "start_time": "2023-07-28T08:47:32.964368Z"
    }
   }
  },
  {
   "cell_type": "code",
   "execution_count": 13,
   "outputs": [
    {
     "name": "stdout",
     "output_type": "stream",
     "text": [
      "<class 'pandas.core.frame.DataFrame'>\n",
      "RangeIndex: 124294 entries, 0 to 124293\n",
      "Data columns (total 13 columns):\n",
      " #   Column          Non-Null Count   Dtype \n",
      "---  ------          --------------   ----- \n",
      " 0   raceId          124294 non-null  int64 \n",
      " 1   driverId        124294 non-null  int64 \n",
      " 2   lap             124294 non-null  int64 \n",
      " 3   position        124294 non-null  int64 \n",
      " 4   time            124294 non-null  object\n",
      " 5   lap_total_time  124294 non-null  int64 \n",
      " 6   year            124294 non-null  int64 \n",
      " 7   round           124294 non-null  int64 \n",
      " 8   circuitId       124294 non-null  int64 \n",
      " 9   name            124294 non-null  object\n",
      " 10  date            124294 non-null  object\n",
      " 11  number          124294 non-null  int64 \n",
      " 12  driver_name     124294 non-null  object\n",
      "dtypes: int64(9), object(4)\n",
      "memory usage: 12.3+ MB\n"
     ]
    }
   ],
   "source": [
    "f1_df.info()"
   ],
   "metadata": {
    "collapsed": false,
    "ExecuteTime": {
     "end_time": "2023-07-28T08:47:33.063632Z",
     "start_time": "2023-07-28T08:47:33.059463Z"
    }
   }
  },
  {
   "cell_type": "code",
   "execution_count": 14,
   "outputs": [
    {
     "data": {
      "text/plain": "Index(['raceId', 'driverId', 'lap', 'position', 'time', 'lap_total_time',\n       'year', 'round', 'circuitId', 'name', 'date', 'number', 'driver_name'],\n      dtype='object')"
     },
     "execution_count": 14,
     "metadata": {},
     "output_type": "execute_result"
    }
   ],
   "source": [
    "f1_df.keys()"
   ],
   "metadata": {
    "collapsed": false,
    "ExecuteTime": {
     "end_time": "2023-07-28T08:47:33.067253Z",
     "start_time": "2023-07-28T08:47:33.065169Z"
    }
   }
  },
  {
   "cell_type": "code",
   "execution_count": 16,
   "outputs": [
    {
     "name": "stdout",
     "output_type": "stream",
     "text": [
      "Lower bound: 50202.375\n",
      "Upper bound: 130833.375\n"
     ]
    }
   ],
   "source": [
    "q1 = f1_df.lap_total_time.quantile(0.25)\n",
    "q3 = f1_df.lap_total_time.quantile(0.75)\n",
    "iqr = q3 - q1\n",
    "lower_bound = q1 - (1.5 * iqr)\n",
    "upper_bound = q3 + (1.5 * iqr)\n",
    "print(f'Lower bound: {lower_bound}')\n",
    "print(f'Upper bound: {upper_bound}')"
   ],
   "metadata": {
    "collapsed": false,
    "ExecuteTime": {
     "end_time": "2023-07-28T08:47:38.561752Z",
     "start_time": "2023-07-28T08:47:38.551487Z"
    }
   }
  },
  {
   "cell_type": "code",
   "execution_count": 17,
   "outputs": [],
   "source": [
    "f1_df = f1_df[(f1_df.lap_total_time > lower_bound) & (f1_df.lap_total_time < upper_bound)]"
   ],
   "metadata": {
    "collapsed": false,
    "ExecuteTime": {
     "end_time": "2023-07-28T08:47:39.446731Z",
     "start_time": "2023-07-28T08:47:39.436373Z"
    }
   }
  },
  {
   "cell_type": "code",
   "execution_count": 18,
   "outputs": [
    {
     "data": {
      "text/plain": "<Axes: >"
     },
     "execution_count": 18,
     "metadata": {},
     "output_type": "execute_result"
    },
    {
     "data": {
      "text/plain": "<Figure size 640x480 with 1 Axes>",
      "image/png": "[encoded data removed]"
     },
     "metadata": {},
     "output_type": "display_data"
    }
   ],
   "source": [
    "sns.boxplot(data=f1_df)"
   ],
   "metadata": {
    "collapsed": false,
    "ExecuteTime": {
     "end_time": "2023-07-28T08:47:40.118084Z",
     "start_time": "2023-07-28T08:47:39.854042Z"
    }
   }
  },
  {
   "cell_type": "code",
   "execution_count": null,
   "outputs": [],
   "source": [
    "# merge pit_stop and"
   ],
   "metadata": {
    "collapsed": false
   }
  }
 ],
 "metadata": {
  "kernelspec": {
   "display_name": "Python 3",
   "language": "python",
   "name": "python3"
  },
  "language_info": {
   "codemirror_mode": {
    "name": "ipython",
    "version": 2
   },
   "file_extension": ".py",
   "mimetype": "text/x-python",
   "name": "python",
   "nbconvert_exporter": "python",
   "pygments_lexer": "ipython2",
   "version": "2.7.6"
  }
 },
 "nbformat": 4,
 "nbformat_minor": 0
}
