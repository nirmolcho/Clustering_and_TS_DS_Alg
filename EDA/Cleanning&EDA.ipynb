{
 "cells": [
  {
   "cell_type": "code",
   "execution_count": 1,
   "outputs": [],
   "source": [
    "import pandas as pd"
   ],
   "metadata": {
    "collapsed": false,
    "ExecuteTime": {
     "end_time": "2023-07-28T06:30:39.701131Z",
     "start_time": "2023-07-28T06:30:39.073970Z"
    }
   }
  },
  {
   "cell_type": "code",
   "execution_count": 2,
   "outputs": [],
   "source": [
    "circuits = pd.read_csv(\"../Scraping/f1db_csv/circuits.csv\")\n",
    "constructor_results = pd.read_csv(\"../Scraping/f1db_csv/constructor_results.csv\")\n",
    "constructor_standings = pd.read_csv(\"../Scraping/f1db_csv/constructor_standings.csv\")\n",
    "constructors = pd.read_csv(\"../Scraping/f1db_csv/constructors.csv\")\n",
    "driver_standings = pd.read_csv(\"../Scraping/f1db_csv/driver_standings.csv\")\n",
    "drivers = pd.read_csv(\"../Scraping/f1db_csv/drivers.csv\")\n",
    "lap_times = pd.read_csv(\"../Scraping/f1db_csv/lap_times.csv\")\n",
    "pit_stops = pd.read_csv(\"../Scraping/f1db_csv/pit_stops.csv\")\n",
    "qualifying = pd.read_csv(\"../Scraping/f1db_csv/qualifying.csv\")\n",
    "races = pd.read_csv(\"../Scraping/f1db_csv/races.csv\")\n",
    "results = pd.read_csv(\"../Scraping/f1db_csv/results.csv\")\n",
    "seasons = pd.read_csv(\"../Scraping/f1db_csv/seasons.csv\")\n",
    "sprint_results = pd.read_csv(\"../Scraping/f1db_csv/sprint_results.csv\")\n",
    "status = pd.read_csv(\"../Scraping/f1db_csv/status.csv\")"
   ],
   "metadata": {
    "collapsed": false,
    "ExecuteTime": {
     "end_time": "2023-07-28T06:30:39.701506Z",
     "start_time": "2023-07-28T06:30:39.699759Z"
    }
   }
  },
  {
   "cell_type": "code",
   "execution_count": 9,
   "outputs": [],
   "source": [
    "#merge lap_times and results on raceId\n",
    "marge1 = pd.merge(lap_times, races, on='raceId')\n",
    "merge_df = pd.merge(marge1, drivers, on='driverId')\n"
   ],
   "metadata": {
    "collapsed": false,
    "ExecuteTime": {
     "end_time": "2023-07-28T06:35:08.935309Z",
     "start_time": "2023-07-28T06:35:08.559446Z"
    }
   }
  },
  {
   "cell_type": "code",
   "execution_count": 10,
   "outputs": [
    {
     "data": {
      "text/plain": "        raceId  driverId  lap  position    time_x  milliseconds  year  round  \\\n0          841        20    1         1  1:38.109         98109  2011      1   \n1          841        20    2         1  1:33.006         93006  2011      1   \n2          841        20    3         1  1:32.713         92713  2011      1   \n3          841        20    4         1  1:32.803         92803  2011      1   \n4          841        20    5         1  1:32.342         92342  2011      1   \n...        ...       ...  ...       ...       ...           ...   ...    ...   \n550922    1109       857   66         5  1:23.787         83787  2023     11   \n550923    1109       857   67         5  1:24.053         84053  2023     11   \n550924    1109       857   68         5  1:25.152         85152  2023     11   \n550925    1109       857   69         5  1:24.439         84439  2023     11   \n550926    1109       857   70         5  1:24.503         84503  2023     11   \n\n        circuitId                   name  ... sprint_date sprint_time  \\\n0               1  Australian Grand Prix  ...          \\N          \\N   \n1               1  Australian Grand Prix  ...          \\N          \\N   \n2               1  Australian Grand Prix  ...          \\N          \\N   \n3               1  Australian Grand Prix  ...          \\N          \\N   \n4               1  Australian Grand Prix  ...          \\N          \\N   \n...           ...                    ...  ...         ...         ...   \n550922         11   Hungarian Grand Prix  ...          \\N          \\N   \n550923         11   Hungarian Grand Prix  ...          \\N          \\N   \n550924         11   Hungarian Grand Prix  ...          \\N          \\N   \n550925         11   Hungarian Grand Prix  ...          \\N          \\N   \n550926         11   Hungarian Grand Prix  ...          \\N          \\N   \n\n       driverRef number code   forename  surname         dob nationality  \\\n0         vettel      5  VET  Sebastian   Vettel  1987-07-03      German   \n1         vettel      5  VET  Sebastian   Vettel  1987-07-03      German   \n2         vettel      5  VET  Sebastian   Vettel  1987-07-03      German   \n3         vettel      5  VET  Sebastian   Vettel  1987-07-03      German   \n4         vettel      5  VET  Sebastian   Vettel  1987-07-03      German   \n...          ...    ...  ...        ...      ...         ...         ...   \n550922   piastri     81  PIA      Oscar  Piastri  2001-04-06  Australian   \n550923   piastri     81  PIA      Oscar  Piastri  2001-04-06  Australian   \n550924   piastri     81  PIA      Oscar  Piastri  2001-04-06  Australian   \n550925   piastri     81  PIA      Oscar  Piastri  2001-04-06  Australian   \n550926   piastri     81  PIA      Oscar  Piastri  2001-04-06  Australian   \n\n                                                url_y  \n0       http://en.wikipedia.org/wiki/Sebastian_Vettel  \n1       http://en.wikipedia.org/wiki/Sebastian_Vettel  \n2       http://en.wikipedia.org/wiki/Sebastian_Vettel  \n3       http://en.wikipedia.org/wiki/Sebastian_Vettel  \n4       http://en.wikipedia.org/wiki/Sebastian_Vettel  \n...                                               ...  \n550922     http://en.wikipedia.org/wiki/Oscar_Piastri  \n550923     http://en.wikipedia.org/wiki/Oscar_Piastri  \n550924     http://en.wikipedia.org/wiki/Oscar_Piastri  \n550925     http://en.wikipedia.org/wiki/Oscar_Piastri  \n550926     http://en.wikipedia.org/wiki/Oscar_Piastri  \n\n[550927 rows x 31 columns]",
      "text/html": "<div>\n<style scoped>\n    .dataframe tbody tr th:only-of-type {\n        vertical-align: middle;\n    }\n\n    .dataframe tbody tr th {\n        vertical-align: top;\n    }\n\n    .dataframe thead th {\n        text-align: right;\n    }\n</style>\n<table border=\"1\" class=\"dataframe\">\n  <thead>\n    <tr style=\"text-align: right;\">\n      <th></th>\n      <th>raceId</th>\n      <th>driverId</th>\n      <th>lap</th>\n      <th>position</th>\n      <th>time_x</th>\n      <th>milliseconds</th>\n      <th>year</th>\n      <th>round</th>\n      <th>circuitId</th>\n      <th>name</th>\n      <th>...</th>\n      <th>sprint_date</th>\n      <th>sprint_time</th>\n      <th>driverRef</th>\n      <th>number</th>\n      <th>code</th>\n      <th>forename</th>\n      <th>surname</th>\n      <th>dob</th>\n      <th>nationality</th>\n      <th>url_y</th>\n    </tr>\n  </thead>\n  <tbody>\n    <tr>\n      <th>0</th>\n      <td>841</td>\n      <td>20</td>\n      <td>1</td>\n      <td>1</td>\n      <td>1:38.109</td>\n      <td>98109</td>\n      <td>2011</td>\n      <td>1</td>\n      <td>1</td>\n      <td>Australian Grand Prix</td>\n      <td>...</td>\n      <td>\\N</td>\n      <td>\\N</td>\n      <td>vettel</td>\n      <td>5</td>\n      <td>VET</td>\n      <td>Sebastian</td>\n      <td>Vettel</td>\n      <td>1987-07-03</td>\n      <td>German</td>\n      <td>http://en.wikipedia.org/wiki/Sebastian_Vettel</td>\n    </tr>\n    <tr>\n      <th>1</th>\n      <td>841</td>\n      <td>20</td>\n      <td>2</td>\n      <td>1</td>\n      <td>1:33.006</td>\n      <td>93006</td>\n      <td>2011</td>\n      <td>1</td>\n      <td>1</td>\n      <td>Australian Grand Prix</td>\n      <td>...</td>\n      <td>\\N</td>\n      <td>\\N</td>\n      <td>vettel</td>\n      <td>5</td>\n      <td>VET</td>\n      <td>Sebastian</td>\n      <td>Vettel</td>\n      <td>1987-07-03</td>\n      <td>German</td>\n      <td>http://en.wikipedia.org/wiki/Sebastian_Vettel</td>\n    </tr>\n    <tr>\n      <th>2</th>\n      <td>841</td>\n      <td>20</td>\n      <td>3</td>\n      <td>1</td>\n      <td>1:32.713</td>\n      <td>92713</td>\n      <td>2011</td>\n      <td>1</td>\n      <td>1</td>\n      <td>Australian Grand Prix</td>\n      <td>...</td>\n      <td>\\N</td>\n      <td>\\N</td>\n      <td>vettel</td>\n      <td>5</td>\n      <td>VET</td>\n      <td>Sebastian</td>\n      <td>Vettel</td>\n      <td>1987-07-03</td>\n      <td>German</td>\n      <td>http://en.wikipedia.org/wiki/Sebastian_Vettel</td>\n    </tr>\n    <tr>\n      <th>3</th>\n      <td>841</td>\n      <td>20</td>\n      <td>4</td>\n      <td>1</td>\n      <td>1:32.803</td>\n      <td>92803</td>\n      <td>2011</td>\n      <td>1</td>\n      <td>1</td>\n      <td>Australian Grand Prix</td>\n      <td>...</td>\n      <td>\\N</td>\n      <td>\\N</td>\n      <td>vettel</td>\n      <td>5</td>\n      <td>VET</td>\n      <td>Sebastian</td>\n      <td>Vettel</td>\n      <td>1987-07-03</td>\n      <td>German</td>\n      <td>http://en.wikipedia.org/wiki/Sebastian_Vettel</td>\n    </tr>\n    <tr>\n      <th>4</th>\n      <td>841</td>\n      <td>20</td>\n      <td>5</td>\n      <td>1</td>\n      <td>1:32.342</td>\n      <td>92342</td>\n      <td>2011</td>\n      <td>1</td>\n      <td>1</td>\n      <td>Australian Grand Prix</td>\n      <td>...</td>\n      <td>\\N</td>\n      <td>\\N</td>\n      <td>vettel</td>\n      <td>5</td>\n      <td>VET</td>\n      <td>Sebastian</td>\n      <td>Vettel</td>\n      <td>1987-07-03</td>\n      <td>German</td>\n      <td>http://en.wikipedia.org/wiki/Sebastian_Vettel</td>\n    </tr>\n    <tr>\n      <th>...</th>\n      <td>...</td>\n      <td>...</td>\n      <td>...</td>\n      <td>...</td>\n      <td>...</td>\n      <td>...</td>\n      <td>...</td>\n      <td>...</td>\n      <td>...</td>\n      <td>...</td>\n      <td>...</td>\n      <td>...</td>\n      <td>...</td>\n      <td>...</td>\n      <td>...</td>\n      <td>...</td>\n      <td>...</td>\n      <td>...</td>\n      <td>...</td>\n      <td>...</td>\n      <td>...</td>\n    </tr>\n    <tr>\n      <th>550922</th>\n      <td>1109</td>\n      <td>857</td>\n      <td>66</td>\n      <td>5</td>\n      <td>1:23.787</td>\n      <td>83787</td>\n      <td>2023</td>\n      <td>11</td>\n      <td>11</td>\n      <td>Hungarian Grand Prix</td>\n      <td>...</td>\n      <td>\\N</td>\n      <td>\\N</td>\n      <td>piastri</td>\n      <td>81</td>\n      <td>PIA</td>\n      <td>Oscar</td>\n      <td>Piastri</td>\n      <td>2001-04-06</td>\n      <td>Australian</td>\n      <td>http://en.wikipedia.org/wiki/Oscar_Piastri</td>\n    </tr>\n    <tr>\n      <th>550923</th>\n      <td>1109</td>\n      <td>857</td>\n      <td>67</td>\n      <td>5</td>\n      <td>1:24.053</td>\n      <td>84053</td>\n      <td>2023</td>\n      <td>11</td>\n      <td>11</td>\n      <td>Hungarian Grand Prix</td>\n      <td>...</td>\n      <td>\\N</td>\n      <td>\\N</td>\n      <td>piastri</td>\n      <td>81</td>\n      <td>PIA</td>\n      <td>Oscar</td>\n      <td>Piastri</td>\n      <td>2001-04-06</td>\n      <td>Australian</td>\n      <td>http://en.wikipedia.org/wiki/Oscar_Piastri</td>\n    </tr>\n    <tr>\n      <th>550924</th>\n      <td>1109</td>\n      <td>857</td>\n      <td>68</td>\n      <td>5</td>\n      <td>1:25.152</td>\n      <td>85152</td>\n      <td>2023</td>\n      <td>11</td>\n      <td>11</td>\n      <td>Hungarian Grand Prix</td>\n      <td>...</td>\n      <td>\\N</td>\n      <td>\\N</td>\n      <td>piastri</td>\n      <td>81</td>\n      <td>PIA</td>\n      <td>Oscar</td>\n      <td>Piastri</td>\n      <td>2001-04-06</td>\n      <td>Australian</td>\n      <td>http://en.wikipedia.org/wiki/Oscar_Piastri</td>\n    </tr>\n    <tr>\n      <th>550925</th>\n      <td>1109</td>\n      <td>857</td>\n      <td>69</td>\n      <td>5</td>\n      <td>1:24.439</td>\n      <td>84439</td>\n      <td>2023</td>\n      <td>11</td>\n      <td>11</td>\n      <td>Hungarian Grand Prix</td>\n      <td>...</td>\n      <td>\\N</td>\n      <td>\\N</td>\n      <td>piastri</td>\n      <td>81</td>\n      <td>PIA</td>\n      <td>Oscar</td>\n      <td>Piastri</td>\n      <td>2001-04-06</td>\n      <td>Australian</td>\n      <td>http://en.wikipedia.org/wiki/Oscar_Piastri</td>\n    </tr>\n    <tr>\n      <th>550926</th>\n      <td>1109</td>\n      <td>857</td>\n      <td>70</td>\n      <td>5</td>\n      <td>1:24.503</td>\n      <td>84503</td>\n      <td>2023</td>\n      <td>11</td>\n      <td>11</td>\n      <td>Hungarian Grand Prix</td>\n      <td>...</td>\n      <td>\\N</td>\n      <td>\\N</td>\n      <td>piastri</td>\n      <td>81</td>\n      <td>PIA</td>\n      <td>Oscar</td>\n      <td>Piastri</td>\n      <td>2001-04-06</td>\n      <td>Australian</td>\n      <td>http://en.wikipedia.org/wiki/Oscar_Piastri</td>\n    </tr>\n  </tbody>\n</table>\n<p>550927 rows × 31 columns</p>\n</div>"
     },
     "execution_count": 10,
     "metadata": {},
     "output_type": "execute_result"
    }
   ],
   "source": [
    "merge_df"
   ],
   "metadata": {
    "collapsed": false,
    "ExecuteTime": {
     "end_time": "2023-07-28T06:35:12.186062Z",
     "start_time": "2023-07-28T06:35:11.931134Z"
    }
   }
  },
  {
   "cell_type": "code",
   "execution_count": 11,
   "outputs": [
    {
     "data": {
      "text/plain": "                 count          mean           std      min      25%      50%  \\\nraceId        550927.0    564.072055    425.681172      1.0    131.0    846.0   \ndriverId      550927.0    296.253732    377.687720      1.0     15.0     39.0   \nlap           550927.0     30.001712     18.425121      1.0     14.0     29.0   \nposition      550927.0      9.658537      5.538281      1.0      5.0      9.0   \nmilliseconds  550927.0  95678.774551  74837.811818  55404.0  81984.0  90641.0   \nyear          550927.0   2010.211903      7.789661   1996.0   2004.0   2011.0   \nround         550927.0      9.765740      5.431533      1.0      5.0      9.0   \ncircuitId     550927.0     18.671094     19.936578      1.0      6.0     12.0   \n\n                   75%        max  \nraceId           975.0     1109.0  \ndriverId         817.0      858.0  \nlap               44.0       87.0  \nposition          14.0       24.0  \nmilliseconds  102183.0  7507547.0  \nyear            2017.0     2023.0  \nround             14.0       22.0  \ncircuitId         21.0       79.0  ",
      "text/html": "<div>\n<style scoped>\n    .dataframe tbody tr th:only-of-type {\n        vertical-align: middle;\n    }\n\n    .dataframe tbody tr th {\n        vertical-align: top;\n    }\n\n    .dataframe thead th {\n        text-align: right;\n    }\n</style>\n<table border=\"1\" class=\"dataframe\">\n  <thead>\n    <tr style=\"text-align: right;\">\n      <th></th>\n      <th>count</th>\n      <th>mean</th>\n      <th>std</th>\n      <th>min</th>\n      <th>25%</th>\n      <th>50%</th>\n      <th>75%</th>\n      <th>max</th>\n    </tr>\n  </thead>\n  <tbody>\n    <tr>\n      <th>raceId</th>\n      <td>550927.0</td>\n      <td>564.072055</td>\n      <td>425.681172</td>\n      <td>1.0</td>\n      <td>131.0</td>\n      <td>846.0</td>\n      <td>975.0</td>\n      <td>1109.0</td>\n    </tr>\n    <tr>\n      <th>driverId</th>\n      <td>550927.0</td>\n      <td>296.253732</td>\n      <td>377.687720</td>\n      <td>1.0</td>\n      <td>15.0</td>\n      <td>39.0</td>\n      <td>817.0</td>\n      <td>858.0</td>\n    </tr>\n    <tr>\n      <th>lap</th>\n      <td>550927.0</td>\n      <td>30.001712</td>\n      <td>18.425121</td>\n      <td>1.0</td>\n      <td>14.0</td>\n      <td>29.0</td>\n      <td>44.0</td>\n      <td>87.0</td>\n    </tr>\n    <tr>\n      <th>position</th>\n      <td>550927.0</td>\n      <td>9.658537</td>\n      <td>5.538281</td>\n      <td>1.0</td>\n      <td>5.0</td>\n      <td>9.0</td>\n      <td>14.0</td>\n      <td>24.0</td>\n    </tr>\n    <tr>\n      <th>milliseconds</th>\n      <td>550927.0</td>\n      <td>95678.774551</td>\n      <td>74837.811818</td>\n      <td>55404.0</td>\n      <td>81984.0</td>\n      <td>90641.0</td>\n      <td>102183.0</td>\n      <td>7507547.0</td>\n    </tr>\n    <tr>\n      <th>year</th>\n      <td>550927.0</td>\n      <td>2010.211903</td>\n      <td>7.789661</td>\n      <td>1996.0</td>\n      <td>2004.0</td>\n      <td>2011.0</td>\n      <td>2017.0</td>\n      <td>2023.0</td>\n    </tr>\n    <tr>\n      <th>round</th>\n      <td>550927.0</td>\n      <td>9.765740</td>\n      <td>5.431533</td>\n      <td>1.0</td>\n      <td>5.0</td>\n      <td>9.0</td>\n      <td>14.0</td>\n      <td>22.0</td>\n    </tr>\n    <tr>\n      <th>circuitId</th>\n      <td>550927.0</td>\n      <td>18.671094</td>\n      <td>19.936578</td>\n      <td>1.0</td>\n      <td>6.0</td>\n      <td>12.0</td>\n      <td>21.0</td>\n      <td>79.0</td>\n    </tr>\n  </tbody>\n</table>\n</div>"
     },
     "execution_count": 11,
     "metadata": {},
     "output_type": "execute_result"
    }
   ],
   "source": [
    "merge_df.describe().T"
   ],
   "metadata": {
    "collapsed": false,
    "ExecuteTime": {
     "end_time": "2023-07-28T06:35:14.616246Z",
     "start_time": "2023-07-28T06:35:14.552858Z"
    }
   }
  },
  {
   "cell_type": "code",
   "execution_count": null,
   "outputs": [],
   "source": [],
   "metadata": {
    "collapsed": false
   }
  }
 ],
 "metadata": {
  "kernelspec": {
   "display_name": "Python 3",
   "language": "python",
   "name": "python3"
  },
  "language_info": {
   "codemirror_mode": {
    "name": "ipython",
    "version": 2
   },
   "file_extension": ".py",
   "mimetype": "text/x-python",
   "name": "python",
   "nbconvert_exporter": "python",
   "pygments_lexer": "ipython2",
   "version": "2.7.6"
  }
 },
 "nbformat": 4,
 "nbformat_minor": 0
}
