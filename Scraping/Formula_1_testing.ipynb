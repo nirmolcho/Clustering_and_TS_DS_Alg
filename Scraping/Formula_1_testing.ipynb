{
 "cells": [
  {
   "cell_type": "markdown",
   "source": [
    "#pip install fastf1"
   ],
   "metadata": {
    "collapsed": false
   }
  },
  {
   "cell_type": "code",
   "execution_count": null,
   "metadata": {
    "collapsed": true
   },
   "outputs": [],
   "source": [
    "import pandas as pd\n",
    "import requests\n",
    "import fastf1\n",
    "import json\n",
    "import ergast_py"
   ]
  },
  {
   "cell_type": "code",
   "execution_count": null,
   "outputs": [],
   "source": [
    "e = ergast_py.Ergast()"
   ],
   "metadata": {
    "collapsed": false
   }
  },
  {
   "cell_type": "code",
   "execution_count": null,
   "outputs": [],
   "source": [
    "laps_urls = []\n",
    "\n",
    "for season in range(1996, 2024):\n",
    "    for race_round in range(1, 25):\n",
    "        for lap_num in range(1, 78):\n",
    "            url = f\"https://ergast.com/api/f1/{season}/{race_round}/laps/{lap_num}\"\n",
    "            laps_urls.append(url)\n",
    "\n",
    "pit_speed_urls = []\n",
    "for season in range(2012, 2024):\n",
    "    for race_round in range(1, 25):\n",
    "            url = f\"https://ergast.com/api/f1/{season}/{race_round}/pitstops.json\"\n",
    "            pit_speed_urls.append(url)\n",
    "pit_speed_urls"
   ],
   "metadata": {
    "collapsed": false
   }
  },
  {
   "cell_type": "code",
   "execution_count": 22,
   "outputs": [
    {
     "name": "stdout",
     "output_type": "stream",
     "text": [
      "Downloaded file: circuits.json\n",
      "Downloaded file: constructorStandings.json\n",
      "Downloaded file: constructors.json\n",
      "Downloaded file: driverstandings.json\n",
      "Downloaded file: drivers.json\n",
      "Downloaded file: qualifying.json\n",
      "Downloaded file: races.json\n",
      "Downloaded file: results.json\n",
      "Downloaded file: seasons.json\n",
      "Downloaded file: sprint.json\n",
      "Downloaded file: status.json\n"
     ]
    }
   ],
   "source": [
    "import requests\n",
    "import os\n",
    "\n",
    "base_urls = [\n",
    "    \"http://ergast.com/api/f1/circuits.json\",\n",
    "    \"https://ergast.com/api/f1/constructorStandings.json\",\n",
    "    \"http://ergast.com/api/f1/constructors.json\",\n",
    "    \"http://ergast.com/api/f1/driverstandings.json\",\n",
    "    \"http://ergast.com/api/f1/drivers.json\",\n",
    "    \"http://ergast.com/api/f1/qualifying.json\",\n",
    "    \"http://ergast.com/api/f1/races.json\",\n",
    "    \"https://ergast.com/api/f1/results.json\",\n",
    "    \"http://ergast.com/api/f1/seasons.json\",\n",
    "    \"https://ergast.com/api/f1/sprint.json\",\n",
    "    \"http://ergast.com/api/f1/status.json\",\n",
    "]\n",
    "\n",
    "for url in base_urls:\n",
    "    response = requests.get(url)\n",
    "    file_name = os.path.basename(url)\n",
    "    with open(file_name, 'wb') as file:\n",
    "        file.write(response.content)\n",
    "    print(f'Downloaded file: {file_name}')\n"
   ],
   "metadata": {
    "collapsed": false,
    "ExecuteTime": {
     "end_time": "2023-07-22T10:45:18.570314Z",
     "start_time": "2023-07-22T10:45:06.061528Z"
    }
   }
  },
  {
   "cell_type": "code",
   "execution_count": 28,
   "outputs": [
    {
     "ename": "KeyError",
     "evalue": "'DriverStandings'",
     "output_type": "error",
     "traceback": [
      "\u001B[0;31m---------------------------------------------------------------------------\u001B[0m",
      "\u001B[0;31mKeyError\u001B[0m                                  Traceback (most recent call last)",
      "Cell \u001B[0;32mIn[28], line 46\u001B[0m\n\u001B[1;32m     44\u001B[0m \u001B[38;5;66;03m# convert each JSON file to CSV\u001B[39;00m\n\u001B[1;32m     45\u001B[0m \u001B[38;5;28;01mfor\u001B[39;00m json_filename, csv_filename \u001B[38;5;129;01min\u001B[39;00m \u001B[38;5;28mzip\u001B[39m(filenames, csv_filenames):\n\u001B[0;32m---> 46\u001B[0m     \u001B[43mconvert_json_to_csv\u001B[49m\u001B[43m(\u001B[49m\u001B[43mjson_filename\u001B[49m\u001B[43m,\u001B[49m\u001B[43m \u001B[49m\u001B[43mcsv_filename\u001B[49m\u001B[43m)\u001B[49m\n",
      "Cell \u001B[0;32mIn[26], line 11\u001B[0m, in \u001B[0;36mconvert_json_to_csv\u001B[0;34m(json_filename, csv_filename)\u001B[0m\n\u001B[1;32m      9\u001B[0m     df \u001B[38;5;241m=\u001B[39m pd\u001B[38;5;241m.\u001B[39mjson_normalize(data[\u001B[38;5;124m'\u001B[39m\u001B[38;5;124mMRData\u001B[39m\u001B[38;5;124m'\u001B[39m][\u001B[38;5;124m'\u001B[39m\u001B[38;5;124mRaceTable\u001B[39m\u001B[38;5;124m'\u001B[39m][\u001B[38;5;124m'\u001B[39m\u001B[38;5;124mRaces\u001B[39m\u001B[38;5;124m'\u001B[39m])\n\u001B[1;32m     10\u001B[0m \u001B[38;5;28;01melif\u001B[39;00m \u001B[38;5;124m'\u001B[39m\u001B[38;5;124mStandingsTable\u001B[39m\u001B[38;5;124m'\u001B[39m \u001B[38;5;129;01min\u001B[39;00m data[\u001B[38;5;124m'\u001B[39m\u001B[38;5;124mMRData\u001B[39m\u001B[38;5;124m'\u001B[39m]:\n\u001B[0;32m---> 11\u001B[0m     df \u001B[38;5;241m=\u001B[39m pd\u001B[38;5;241m.\u001B[39mjson_normalize(\u001B[43mdata\u001B[49m\u001B[43m[\u001B[49m\u001B[38;5;124;43m'\u001B[39;49m\u001B[38;5;124;43mMRData\u001B[39;49m\u001B[38;5;124;43m'\u001B[39;49m\u001B[43m]\u001B[49m\u001B[43m[\u001B[49m\u001B[38;5;124;43m'\u001B[39;49m\u001B[38;5;124;43mStandingsTable\u001B[39;49m\u001B[38;5;124;43m'\u001B[39;49m\u001B[43m]\u001B[49m\u001B[43m[\u001B[49m\u001B[38;5;124;43m'\u001B[39;49m\u001B[38;5;124;43mStandingsLists\u001B[39;49m\u001B[38;5;124;43m'\u001B[39;49m\u001B[43m]\u001B[49m\u001B[43m[\u001B[49m\u001B[38;5;241;43m0\u001B[39;49m\u001B[43m]\u001B[49m\u001B[43m[\u001B[49m\u001B[38;5;124;43m'\u001B[39;49m\u001B[38;5;124;43mDriverStandings\u001B[39;49m\u001B[38;5;124;43m'\u001B[39;49m\u001B[43m]\u001B[49m)\n\u001B[1;32m     12\u001B[0m \u001B[38;5;28;01melse\u001B[39;00m:\n\u001B[1;32m     13\u001B[0m     df \u001B[38;5;241m=\u001B[39m pd\u001B[38;5;241m.\u001B[39mjson_normalize(data[\u001B[38;5;124m'\u001B[39m\u001B[38;5;124mMRData\u001B[39m\u001B[38;5;124m'\u001B[39m])\n",
      "\u001B[0;31mKeyError\u001B[0m: 'DriverStandings'"
     ]
    }
   ],
   "source": [
    "import pandas as pd\n",
    "import json\n",
    "\n",
    "def get_and_save_data(url, filename):\n",
    "    response = requests.get(url)\n",
    "    data = response.json()\n",
    "\n",
    "    if 'RaceTable' in data['MRData']:\n",
    "        df = pd.json_normalize(data['MRData']['RaceTable']['Races'])\n",
    "    elif 'StandingsTable' in data['MRData']:\n",
    "        df = pd.json_normalize(data['MRData']['StandingsTable']['StandingsLists'][0]['DriverStandings'])\n",
    "    else:\n",
    "        df = pd.json_normalize(data['MRData'])\n",
    "\n",
    "    df.to_csv(csv_filename, index=False)\n",
    "\n",
    "# list of JSON filenames\n",
    "filenames = [\n",
    "    \"circuits.json\",\n",
    "    \"constructorStandings.json\",\n",
    "    \"constructors.json\",\n",
    "    \"driverstandings.json\",\n",
    "    \"drivers.json\",\n",
    "    \"qualifying.json\",\n",
    "    \"races.json\",\n",
    "    \"results.json\",\n",
    "    \"seasons.json\",\n",
    "    \"status.json\",\n",
    "]\n",
    "\n",
    "csv_filenames = [\n",
    "    \"circuits.csv\",\n",
    "    \"constructor_standings.csv\",\n",
    "    \"constructors.csv\",\n",
    "    \"driver_standings.csv\",\n",
    "    \"drivers.csv\",\n",
    "    \"qualifying.csv\",\n",
    "    \"races.csv\",\n",
    "    \"results.csv\",\n",
    "    \"seasons.csv\",\n",
    "    \"status.csv\",\n",
    "]\n",
    "\n",
    "# convert each JSON file to CSV\n",
    "for json_filename, csv_filename in zip(filenames, csv_filenames):\n",
    "    convert_json_to_csv(json_filename, csv_filename)\n"
   ],
   "metadata": {
    "collapsed": false,
    "ExecuteTime": {
     "end_time": "2023-07-22T10:48:27.806314Z",
     "start_time": "2023-07-22T10:48:27.780507Z"
    }
   }
  },
  {
   "cell_type": "code",
   "execution_count": null,
   "outputs": [],
   "source": [],
   "metadata": {
    "collapsed": false
   }
  }
 ],
 "metadata": {
  "kernelspec": {
   "display_name": "Python 3",
   "language": "python",
   "name": "python3"
  },
  "language_info": {
   "codemirror_mode": {
    "name": "ipython",
    "version": 2
   },
   "file_extension": ".py",
   "mimetype": "text/x-python",
   "name": "python",
   "nbconvert_exporter": "python",
   "pygments_lexer": "ipython2",
   "version": "2.7.6"
  }
 },
 "nbformat": 4,
 "nbformat_minor": 0
}
