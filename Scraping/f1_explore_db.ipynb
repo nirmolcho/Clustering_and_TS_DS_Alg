{
 "cells": [
  {
   "cell_type": "code",
   "execution_count": 3,
   "outputs": [],
   "source": [
    "import numpy as np\n",
    "import pandas as pd"
   ],
   "metadata": {
    "collapsed": false,
    "ExecuteTime": {
     "end_time": "2023-07-26T07:10:38.986938Z",
     "start_time": "2023-07-26T07:10:38.625699Z"
    }
   }
  },
  {
   "cell_type": "code",
   "execution_count": 1,
   "outputs": [
    {
     "ename": "NameError",
     "evalue": "name 'pd' is not defined",
     "output_type": "error",
     "traceback": [
      "\u001B[0;31m---------------------------------------------------------------------------\u001B[0m",
      "\u001B[0;31mNameError\u001B[0m                                 Traceback (most recent call last)",
      "Cell \u001B[0;32mIn[1], line 1\u001B[0m\n\u001B[0;32m----> 1\u001B[0m circuits \u001B[38;5;241m=\u001B[39m \u001B[43mpd\u001B[49m\u001B[38;5;241m.\u001B[39mread_csv(\u001B[38;5;124m'\u001B[39m\u001B[38;5;124mf1db_csv/circuits.csv\u001B[39m\u001B[38;5;124m'\u001B[39m)\n\u001B[1;32m      2\u001B[0m constructor_results \u001B[38;5;241m=\u001B[39m pd\u001B[38;5;241m.\u001B[39mread_csv(\u001B[38;5;124m'\u001B[39m\u001B[38;5;124mf1db_csv/constructor_results.csv\u001B[39m\u001B[38;5;124m'\u001B[39m)\n\u001B[1;32m      3\u001B[0m constructor_standings \u001B[38;5;241m=\u001B[39m pd\u001B[38;5;241m.\u001B[39mread_csv(\u001B[38;5;124m'\u001B[39m\u001B[38;5;124mf1db_csv/constructor_standings.csv\u001B[39m\u001B[38;5;124m'\u001B[39m)\n",
      "\u001B[0;31mNameError\u001B[0m: name 'pd' is not defined"
     ]
    }
   ],
   "source": [
    "circuits = pd.read_csv('f1db_csv/circuits.csv')\n",
    "constructor_results = pd.read_csv('f1db_csv/constructor_results.csv')\n",
    "constructor_standings = pd.read_csv('f1db_csv/constructor_standings.csv')\n",
    "constructors = pd.read_csv('f1db_csv/constructors.csv')\n",
    "driver_standings = pd.read_csv('f1db_csv/driver_standings.csv')\n",
    "drivers = pd.read_csv('f1db_csv/drivers.csv')\n",
    "lap_times = pd.read_csv('f1db_csv/lap_times.csv')\n",
    "pit_stops = pd.read_csv('f1db_csv/pit_stops.csv')\n",
    "qualifying = pd.read_csv('f1db_csv/qualifying.csv')\n",
    "races = pd.read_csv('f1db_csv/races.csv')\n",
    "results = pd.read_csv('f1db_csv/results.csv')\n",
    "seasons = pd.read_csv('f1db_csv/seasons.csv')\n",
    "sprint_results = pd.read_csv('f1db_csv/sprint_results.csv')\n",
    "status = pd.read_csv('f1db_csv/status.csv')"
   ],
   "metadata": {
    "collapsed": false,
    "ExecuteTime": {
     "end_time": "2023-08-14T08:12:23.268852Z",
     "start_time": "2023-08-14T08:12:23.011727Z"
    }
   }
  },
  {
   "cell_type": "code",
   "execution_count": null,
   "outputs": [],
   "source": [],
   "metadata": {
    "collapsed": false
   }
  },
  {
   "cell_type": "code",
   "execution_count": 8,
   "outputs": [
    {
     "name": "stdout",
     "output_type": "stream",
     "text": [
      "<class 'pandas.core.frame.DataFrame'>\n",
      "RangeIndex: 77 entries, 0 to 76\n",
      "Data columns (total 9 columns):\n",
      " #   Column      Non-Null Count  Dtype  \n",
      "---  ------      --------------  -----  \n",
      " 0   circuitId   77 non-null     int64  \n",
      " 1   circuitRef  77 non-null     object \n",
      " 2   name        77 non-null     object \n",
      " 3   location    77 non-null     object \n",
      " 4   country     77 non-null     object \n",
      " 5   lat         77 non-null     float64\n",
      " 6   lng         77 non-null     float64\n",
      " 7   alt         77 non-null     object \n",
      " 8   url         77 non-null     object \n",
      "dtypes: float64(2), int64(1), object(6)\n",
      "memory usage: 5.5+ KB\n"
     ]
    }
   ],
   "source": [
    "circuits.head()\n",
    "circuits.describe().T\n",
    "circuits.info()"
   ],
   "metadata": {
    "collapsed": false,
    "ExecuteTime": {
     "end_time": "2023-07-26T07:16:00.920297Z",
     "start_time": "2023-07-26T07:16:00.906461Z"
    }
   }
  },
  {
   "cell_type": "code",
   "execution_count": 9,
   "outputs": [
    {
     "name": "stdout",
     "output_type": "stream",
     "text": [
      "<class 'pandas.core.frame.DataFrame'>\n",
      "RangeIndex: 12280 entries, 0 to 12279\n",
      "Data columns (total 5 columns):\n",
      " #   Column                Non-Null Count  Dtype  \n",
      "---  ------                --------------  -----  \n",
      " 0   constructorResultsId  12280 non-null  int64  \n",
      " 1   raceId                12280 non-null  int64  \n",
      " 2   constructorId         12280 non-null  int64  \n",
      " 3   points                12280 non-null  float64\n",
      " 4   status                12280 non-null  object \n",
      "dtypes: float64(1), int64(3), object(1)\n",
      "memory usage: 479.8+ KB\n"
     ]
    }
   ],
   "source": [
    "constructor_results.head()\n",
    "constructor_results.describe().T\n",
    "constructor_results.info()"
   ],
   "metadata": {
    "collapsed": false,
    "ExecuteTime": {
     "end_time": "2023-07-26T07:16:08.853303Z",
     "start_time": "2023-07-26T07:16:08.838508Z"
    }
   }
  },
  {
   "cell_type": "code",
   "execution_count": 10,
   "outputs": [
    {
     "name": "stdout",
     "output_type": "stream",
     "text": [
      "<class 'pandas.core.frame.DataFrame'>\n",
      "RangeIndex: 13041 entries, 0 to 13040\n",
      "Data columns (total 7 columns):\n",
      " #   Column                  Non-Null Count  Dtype  \n",
      "---  ------                  --------------  -----  \n",
      " 0   constructorStandingsId  13041 non-null  int64  \n",
      " 1   raceId                  13041 non-null  int64  \n",
      " 2   constructorId           13041 non-null  int64  \n",
      " 3   points                  13041 non-null  float64\n",
      " 4   position                13041 non-null  int64  \n",
      " 5   positionText            13041 non-null  object \n",
      " 6   wins                    13041 non-null  int64  \n",
      "dtypes: float64(1), int64(5), object(1)\n",
      "memory usage: 713.3+ KB\n"
     ]
    }
   ],
   "source": [
    "constructor_standings.head()\n",
    "constructor_standings.describe().T\n",
    "constructor_standings.info()"
   ],
   "metadata": {
    "collapsed": false,
    "ExecuteTime": {
     "end_time": "2023-07-26T07:16:12.358343Z",
     "start_time": "2023-07-26T07:16:12.342279Z"
    }
   }
  },
  {
   "cell_type": "code",
   "execution_count": 11,
   "outputs": [
    {
     "name": "stdout",
     "output_type": "stream",
     "text": [
      "<class 'pandas.core.frame.DataFrame'>\n",
      "RangeIndex: 211 entries, 0 to 210\n",
      "Data columns (total 5 columns):\n",
      " #   Column          Non-Null Count  Dtype \n",
      "---  ------          --------------  ----- \n",
      " 0   constructorId   211 non-null    int64 \n",
      " 1   constructorRef  211 non-null    object\n",
      " 2   name            211 non-null    object\n",
      " 3   nationality     211 non-null    object\n",
      " 4   url             211 non-null    object\n",
      "dtypes: int64(1), object(4)\n",
      "memory usage: 8.4+ KB\n"
     ]
    }
   ],
   "source": [
    "constructors.head()\n",
    "constructors.describe().T\n",
    "constructors.info()\n"
   ],
   "metadata": {
    "collapsed": false,
    "ExecuteTime": {
     "end_time": "2023-07-26T07:16:15.555408Z",
     "start_time": "2023-07-26T07:16:15.550190Z"
    }
   }
  },
  {
   "cell_type": "code",
   "execution_count": 12,
   "outputs": [
    {
     "name": "stdout",
     "output_type": "stream",
     "text": [
      "<class 'pandas.core.frame.DataFrame'>\n",
      "RangeIndex: 34103 entries, 0 to 34102\n",
      "Data columns (total 7 columns):\n",
      " #   Column             Non-Null Count  Dtype  \n",
      "---  ------             --------------  -----  \n",
      " 0   driverStandingsId  34103 non-null  int64  \n",
      " 1   raceId             34103 non-null  int64  \n",
      " 2   driverId           34103 non-null  int64  \n",
      " 3   points             34103 non-null  float64\n",
      " 4   position           34103 non-null  int64  \n",
      " 5   positionText       34103 non-null  object \n",
      " 6   wins               34103 non-null  int64  \n",
      "dtypes: float64(1), int64(5), object(1)\n",
      "memory usage: 1.8+ MB\n"
     ]
    }
   ],
   "source": [
    "driver_standings.head()\n",
    "driver_standings.describe().T\n",
    "driver_standings.info()"
   ],
   "metadata": {
    "collapsed": false,
    "ExecuteTime": {
     "end_time": "2023-07-26T07:16:24.841521Z",
     "start_time": "2023-07-26T07:16:24.825505Z"
    }
   }
  },
  {
   "cell_type": "code",
   "execution_count": 13,
   "outputs": [
    {
     "name": "stdout",
     "output_type": "stream",
     "text": [
      "<class 'pandas.core.frame.DataFrame'>\n",
      "RangeIndex: 857 entries, 0 to 856\n",
      "Data columns (total 9 columns):\n",
      " #   Column       Non-Null Count  Dtype \n",
      "---  ------       --------------  ----- \n",
      " 0   driverId     857 non-null    int64 \n",
      " 1   driverRef    857 non-null    object\n",
      " 2   number       857 non-null    object\n",
      " 3   code         857 non-null    object\n",
      " 4   forename     857 non-null    object\n",
      " 5   surname      857 non-null    object\n",
      " 6   dob          857 non-null    object\n",
      " 7   nationality  857 non-null    object\n",
      " 8   url          857 non-null    object\n",
      "dtypes: int64(1), object(8)\n",
      "memory usage: 60.4+ KB\n"
     ]
    }
   ],
   "source": [
    "drivers.head()\n",
    "drivers.describe().T\n",
    "drivers.info()"
   ],
   "metadata": {
    "collapsed": false,
    "ExecuteTime": {
     "end_time": "2023-07-26T07:16:32.579156Z",
     "start_time": "2023-07-26T07:16:32.572076Z"
    }
   }
  },
  {
   "cell_type": "code",
   "execution_count": 14,
   "outputs": [
    {
     "name": "stdout",
     "output_type": "stream",
     "text": [
      "<class 'pandas.core.frame.DataFrame'>\n",
      "RangeIndex: 550927 entries, 0 to 550926\n",
      "Data columns (total 6 columns):\n",
      " #   Column        Non-Null Count   Dtype \n",
      "---  ------        --------------   ----- \n",
      " 0   raceId        550927 non-null  int64 \n",
      " 1   driverId      550927 non-null  int64 \n",
      " 2   lap           550927 non-null  int64 \n",
      " 3   position      550927 non-null  int64 \n",
      " 4   time          550927 non-null  object\n",
      " 5   milliseconds  550927 non-null  int64 \n",
      "dtypes: int64(5), object(1)\n",
      "memory usage: 25.2+ MB\n"
     ]
    }
   ],
   "source": [
    "lap_times.head()\n",
    "lap_times.describe().T\n",
    "lap_times.info()\n"
   ],
   "metadata": {
    "collapsed": false,
    "ExecuteTime": {
     "end_time": "2023-07-26T07:16:36.428183Z",
     "start_time": "2023-07-26T07:16:36.331957Z"
    }
   }
  },
  {
   "cell_type": "code",
   "execution_count": 15,
   "outputs": [
    {
     "name": "stdout",
     "output_type": "stream",
     "text": [
      "<class 'pandas.core.frame.DataFrame'>\n",
      "RangeIndex: 10052 entries, 0 to 10051\n",
      "Data columns (total 7 columns):\n",
      " #   Column        Non-Null Count  Dtype \n",
      "---  ------        --------------  ----- \n",
      " 0   raceId        10052 non-null  int64 \n",
      " 1   driverId      10052 non-null  int64 \n",
      " 2   stop          10052 non-null  int64 \n",
      " 3   lap           10052 non-null  int64 \n",
      " 4   time          10052 non-null  object\n",
      " 5   duration      10052 non-null  object\n",
      " 6   milliseconds  10052 non-null  int64 \n",
      "dtypes: int64(5), object(2)\n",
      "memory usage: 549.8+ KB\n"
     ]
    }
   ],
   "source": [
    "pit_stops.head()\n",
    "pit_stops.describe().T\n",
    "pit_stops.info()\n"
   ],
   "metadata": {
    "collapsed": false,
    "ExecuteTime": {
     "end_time": "2023-07-26T07:16:40.591319Z",
     "start_time": "2023-07-26T07:16:40.581374Z"
    }
   }
  },
  {
   "cell_type": "code",
   "execution_count": 16,
   "outputs": [
    {
     "name": "stdout",
     "output_type": "stream",
     "text": [
      "<class 'pandas.core.frame.DataFrame'>\n",
      "RangeIndex: 9795 entries, 0 to 9794\n",
      "Data columns (total 9 columns):\n",
      " #   Column         Non-Null Count  Dtype \n",
      "---  ------         --------------  ----- \n",
      " 0   qualifyId      9795 non-null   int64 \n",
      " 1   raceId         9795 non-null   int64 \n",
      " 2   driverId       9795 non-null   int64 \n",
      " 3   constructorId  9795 non-null   int64 \n",
      " 4   number         9795 non-null   int64 \n",
      " 5   position       9795 non-null   int64 \n",
      " 6   q1             9787 non-null   object\n",
      " 7   q2             9631 non-null   object\n",
      " 8   q3             9468 non-null   object\n",
      "dtypes: int64(6), object(3)\n",
      "memory usage: 688.8+ KB\n"
     ]
    }
   ],
   "source": [
    "qualifying.head()\n",
    "qualifying.describe().T\n",
    "qualifying.info()"
   ],
   "metadata": {
    "collapsed": false,
    "ExecuteTime": {
     "end_time": "2023-07-26T07:16:56.547644Z",
     "start_time": "2023-07-26T07:16:56.525993Z"
    }
   }
  },
  {
   "cell_type": "code",
   "execution_count": 17,
   "outputs": [
    {
     "name": "stdout",
     "output_type": "stream",
     "text": [
      "<class 'pandas.core.frame.DataFrame'>\n",
      "RangeIndex: 1101 entries, 0 to 1100\n",
      "Data columns (total 18 columns):\n",
      " #   Column       Non-Null Count  Dtype \n",
      "---  ------       --------------  ----- \n",
      " 0   raceId       1101 non-null   int64 \n",
      " 1   year         1101 non-null   int64 \n",
      " 2   round        1101 non-null   int64 \n",
      " 3   circuitId    1101 non-null   int64 \n",
      " 4   name         1101 non-null   object\n",
      " 5   date         1101 non-null   object\n",
      " 6   time         1101 non-null   object\n",
      " 7   url          1101 non-null   object\n",
      " 8   fp1_date     1101 non-null   object\n",
      " 9   fp1_time     1101 non-null   object\n",
      " 10  fp2_date     1101 non-null   object\n",
      " 11  fp2_time     1101 non-null   object\n",
      " 12  fp3_date     1101 non-null   object\n",
      " 13  fp3_time     1101 non-null   object\n",
      " 14  quali_date   1101 non-null   object\n",
      " 15  quali_time   1101 non-null   object\n",
      " 16  sprint_date  1101 non-null   object\n",
      " 17  sprint_time  1101 non-null   object\n",
      "dtypes: int64(4), object(14)\n",
      "memory usage: 155.0+ KB\n"
     ]
    }
   ],
   "source": [
    "races.head()\n",
    "races.describe().T\n",
    "races.info()"
   ],
   "metadata": {
    "collapsed": false,
    "ExecuteTime": {
     "end_time": "2023-07-26T07:17:47.228559Z",
     "start_time": "2023-07-26T07:17:47.190576Z"
    }
   }
  },
  {
   "cell_type": "code",
   "execution_count": 18,
   "outputs": [
    {
     "name": "stdout",
     "output_type": "stream",
     "text": [
      "<class 'pandas.core.frame.DataFrame'>\n",
      "RangeIndex: 26060 entries, 0 to 26059\n",
      "Data columns (total 18 columns):\n",
      " #   Column           Non-Null Count  Dtype  \n",
      "---  ------           --------------  -----  \n",
      " 0   resultId         26060 non-null  int64  \n",
      " 1   raceId           26060 non-null  int64  \n",
      " 2   driverId         26060 non-null  int64  \n",
      " 3   constructorId    26060 non-null  int64  \n",
      " 4   number           26060 non-null  object \n",
      " 5   grid             26060 non-null  int64  \n",
      " 6   position         26060 non-null  object \n",
      " 7   positionText     26060 non-null  object \n",
      " 8   positionOrder    26060 non-null  int64  \n",
      " 9   points           26060 non-null  float64\n",
      " 10  laps             26060 non-null  int64  \n",
      " 11  time             26060 non-null  object \n",
      " 12  milliseconds     26060 non-null  object \n",
      " 13  fastestLap       26060 non-null  object \n",
      " 14  rank             26060 non-null  object \n",
      " 15  fastestLapTime   26060 non-null  object \n",
      " 16  fastestLapSpeed  26060 non-null  object \n",
      " 17  statusId         26060 non-null  int64  \n",
      "dtypes: float64(1), int64(8), object(9)\n",
      "memory usage: 3.6+ MB\n"
     ]
    }
   ],
   "source": [
    "results.head()\n",
    "results.describe().T\n",
    "results.info()\n"
   ],
   "metadata": {
    "collapsed": false,
    "ExecuteTime": {
     "end_time": "2023-07-26T07:17:52.107092Z",
     "start_time": "2023-07-26T07:17:52.078313Z"
    }
   }
  },
  {
   "cell_type": "code",
   "execution_count": 19,
   "outputs": [
    {
     "name": "stdout",
     "output_type": "stream",
     "text": [
      "<class 'pandas.core.frame.DataFrame'>\n",
      "RangeIndex: 74 entries, 0 to 73\n",
      "Data columns (total 2 columns):\n",
      " #   Column  Non-Null Count  Dtype \n",
      "---  ------  --------------  ----- \n",
      " 0   year    74 non-null     int64 \n",
      " 1   url     74 non-null     object\n",
      "dtypes: int64(1), object(1)\n",
      "memory usage: 1.3+ KB\n"
     ]
    }
   ],
   "source": [
    "seasons.head()\n",
    "seasons.describe().T\n",
    "seasons.info()\n"
   ],
   "metadata": {
    "collapsed": false,
    "ExecuteTime": {
     "end_time": "2023-07-26T07:17:58.140644Z",
     "start_time": "2023-07-26T07:17:58.136483Z"
    }
   }
  },
  {
   "cell_type": "code",
   "execution_count": 20,
   "outputs": [
    {
     "name": "stdout",
     "output_type": "stream",
     "text": [
      "<class 'pandas.core.frame.DataFrame'>\n",
      "RangeIndex: 139 entries, 0 to 138\n",
      "Data columns (total 2 columns):\n",
      " #   Column    Non-Null Count  Dtype \n",
      "---  ------    --------------  ----- \n",
      " 0   statusId  139 non-null    int64 \n",
      " 1   status    139 non-null    object\n",
      "dtypes: int64(1), object(1)\n",
      "memory usage: 2.3+ KB\n"
     ]
    }
   ],
   "source": [
    "status.head()\n",
    "status.describe().T\n",
    "status.info()\n"
   ],
   "metadata": {
    "collapsed": false,
    "ExecuteTime": {
     "end_time": "2023-07-26T07:18:02.716520Z",
     "start_time": "2023-07-26T07:18:02.711662Z"
    }
   }
  },
  {
   "cell_type": "code",
   "execution_count": 22,
   "outputs": [
    {
     "name": "stdout",
     "output_type": "stream",
     "text": [
      "<class 'pandas.core.frame.DataFrame'>\n",
      "RangeIndex: 160 entries, 0 to 159\n",
      "Data columns (total 16 columns):\n",
      " #   Column          Non-Null Count  Dtype \n",
      "---  ------          --------------  ----- \n",
      " 0   resultId        160 non-null    int64 \n",
      " 1   raceId          160 non-null    int64 \n",
      " 2   driverId        160 non-null    int64 \n",
      " 3   constructorId   160 non-null    int64 \n",
      " 4   number          160 non-null    int64 \n",
      " 5   grid            160 non-null    int64 \n",
      " 6   position        160 non-null    object\n",
      " 7   positionText    160 non-null    object\n",
      " 8   positionOrder   160 non-null    int64 \n",
      " 9   points          160 non-null    int64 \n",
      " 10  laps            160 non-null    int64 \n",
      " 11  time            160 non-null    object\n",
      " 12  milliseconds    160 non-null    object\n",
      " 13  fastestLap      160 non-null    object\n",
      " 14  fastestLapTime  160 non-null    object\n",
      " 15  statusId        160 non-null    int64 \n",
      "dtypes: int64(10), object(6)\n",
      "memory usage: 20.1+ KB\n"
     ]
    }
   ],
   "source": [
    "sprint_results.head()\n",
    "sprint_results.describe().T\n",
    "sprint_results.info()\n"
   ],
   "metadata": {
    "collapsed": false,
    "ExecuteTime": {
     "end_time": "2023-07-26T07:18:45.012838Z",
     "start_time": "2023-07-26T07:18:45.000323Z"
    }
   }
  },
  {
   "cell_type": "code",
   "execution_count": null,
   "outputs": [],
   "source": [],
   "metadata": {
    "collapsed": false
   }
  }
 ],
 "metadata": {
  "kernelspec": {
   "display_name": "Python 3",
   "language": "python",
   "name": "python3"
  },
  "language_info": {
   "codemirror_mode": {
    "name": "ipython",
    "version": 2
   },
   "file_extension": ".py",
   "mimetype": "text/x-python",
   "name": "python",
   "nbconvert_exporter": "python",
   "pygments_lexer": "ipython2",
   "version": "2.7.6"
  }
 },
 "nbformat": 4,
 "nbformat_minor": 0
}
