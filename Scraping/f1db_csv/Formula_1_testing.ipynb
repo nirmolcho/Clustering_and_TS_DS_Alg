{
 "cells": [
  {
   "cell_type": "code",
   "execution_count": 1,
   "metadata": {
    "collapsed": true,
    "ExecuteTime": {
     "end_time": "2023-07-21T08:02:19.728229Z",
     "start_time": "2023-07-21T08:02:18.477329Z"
    }
   },
   "outputs": [],
   "source": [
    "import pandas as pd"
   ]
  },
  {
   "cell_type": "code",
   "execution_count": 2,
   "outputs": [
    {
     "data": {
      "text/plain": "    circuitId   circuitRef                                  name  \\\n0           1  albert_park        Albert Park Grand Prix Circuit   \n1           2       sepang          Sepang International Circuit   \n2           3      bahrain         Bahrain International Circuit   \n3           4    catalunya        Circuit de Barcelona-Catalunya   \n4           5     istanbul                         Istanbul Park   \n..        ...          ...                                   ...   \n72         75     portimao    Autódromo Internacional do Algarve   \n73         76      mugello  Autodromo Internazionale del Mugello   \n74         77       jeddah               Jeddah Corniche Circuit   \n75         78       losail          Losail International Circuit   \n76         79        miami         Miami International Autodrome   \n\n        location       country       lat        lng  alt  \\\n0      Melbourne     Australia -37.84970  144.96800   10   \n1   Kuala Lumpur      Malaysia   2.76083  101.73800   18   \n2         Sakhir       Bahrain  26.03250   50.51060    7   \n3       Montmeló         Spain  41.57000    2.26111  109   \n4       Istanbul        Turkey  40.95170   29.40500  130   \n..           ...           ...       ...        ...  ...   \n72      Portimão      Portugal  37.22700   -8.62670  108   \n73       Mugello         Italy  43.99750   11.37190  255   \n74        Jeddah  Saudi Arabia  21.63190   39.10440   15   \n75     Al Daayen         Qatar  25.49000   51.45420   \\N   \n76         Miami           USA  25.95810  -80.23890   \\N   \n\n                                                  url  \n0   http://en.wikipedia.org/wiki/Melbourne_Grand_P...  \n1   http://en.wikipedia.org/wiki/Sepang_Internatio...  \n2   http://en.wikipedia.org/wiki/Bahrain_Internati...  \n3   http://en.wikipedia.org/wiki/Circuit_de_Barcel...  \n4          http://en.wikipedia.org/wiki/Istanbul_Park  \n..                                                ...  \n72  http://en.wikipedia.org/wiki/Algarve_Internati...  \n73       http://en.wikipedia.org/wiki/Mugello_Circuit  \n74  http://en.wikipedia.org/wiki/Jeddah_Street_Cir...  \n75  http://en.wikipedia.org/wiki/Losail_Internatio...  \n76  http://en.wikipedia.org/wiki/Miami_Internation...  \n\n[77 rows x 9 columns]",
      "text/html": "<div>\n<style scoped>\n    .dataframe tbody tr th:only-of-type {\n        vertical-align: middle;\n    }\n\n    .dataframe tbody tr th {\n        vertical-align: top;\n    }\n\n    .dataframe thead th {\n        text-align: right;\n    }\n</style>\n<table border=\"1\" class=\"dataframe\">\n  <thead>\n    <tr style=\"text-align: right;\">\n      <th></th>\n      <th>circuitId</th>\n      <th>circuitRef</th>\n      <th>name</th>\n      <th>location</th>\n      <th>country</th>\n      <th>lat</th>\n      <th>lng</th>\n      <th>alt</th>\n      <th>url</th>\n    </tr>\n  </thead>\n  <tbody>\n    <tr>\n      <th>0</th>\n      <td>1</td>\n      <td>albert_park</td>\n      <td>Albert Park Grand Prix Circuit</td>\n      <td>Melbourne</td>\n      <td>Australia</td>\n      <td>-37.84970</td>\n      <td>144.96800</td>\n      <td>10</td>\n      <td>http://en.wikipedia.org/wiki/Melbourne_Grand_P...</td>\n    </tr>\n    <tr>\n      <th>1</th>\n      <td>2</td>\n      <td>sepang</td>\n      <td>Sepang International Circuit</td>\n      <td>Kuala Lumpur</td>\n      <td>Malaysia</td>\n      <td>2.76083</td>\n      <td>101.73800</td>\n      <td>18</td>\n      <td>http://en.wikipedia.org/wiki/Sepang_Internatio...</td>\n    </tr>\n    <tr>\n      <th>2</th>\n      <td>3</td>\n      <td>bahrain</td>\n      <td>Bahrain International Circuit</td>\n      <td>Sakhir</td>\n      <td>Bahrain</td>\n      <td>26.03250</td>\n      <td>50.51060</td>\n      <td>7</td>\n      <td>http://en.wikipedia.org/wiki/Bahrain_Internati...</td>\n    </tr>\n    <tr>\n      <th>3</th>\n      <td>4</td>\n      <td>catalunya</td>\n      <td>Circuit de Barcelona-Catalunya</td>\n      <td>Montmeló</td>\n      <td>Spain</td>\n      <td>41.57000</td>\n      <td>2.26111</td>\n      <td>109</td>\n      <td>http://en.wikipedia.org/wiki/Circuit_de_Barcel...</td>\n    </tr>\n    <tr>\n      <th>4</th>\n      <td>5</td>\n      <td>istanbul</td>\n      <td>Istanbul Park</td>\n      <td>Istanbul</td>\n      <td>Turkey</td>\n      <td>40.95170</td>\n      <td>29.40500</td>\n      <td>130</td>\n      <td>http://en.wikipedia.org/wiki/Istanbul_Park</td>\n    </tr>\n    <tr>\n      <th>...</th>\n      <td>...</td>\n      <td>...</td>\n      <td>...</td>\n      <td>...</td>\n      <td>...</td>\n      <td>...</td>\n      <td>...</td>\n      <td>...</td>\n      <td>...</td>\n    </tr>\n    <tr>\n      <th>72</th>\n      <td>75</td>\n      <td>portimao</td>\n      <td>Autódromo Internacional do Algarve</td>\n      <td>Portimão</td>\n      <td>Portugal</td>\n      <td>37.22700</td>\n      <td>-8.62670</td>\n      <td>108</td>\n      <td>http://en.wikipedia.org/wiki/Algarve_Internati...</td>\n    </tr>\n    <tr>\n      <th>73</th>\n      <td>76</td>\n      <td>mugello</td>\n      <td>Autodromo Internazionale del Mugello</td>\n      <td>Mugello</td>\n      <td>Italy</td>\n      <td>43.99750</td>\n      <td>11.37190</td>\n      <td>255</td>\n      <td>http://en.wikipedia.org/wiki/Mugello_Circuit</td>\n    </tr>\n    <tr>\n      <th>74</th>\n      <td>77</td>\n      <td>jeddah</td>\n      <td>Jeddah Corniche Circuit</td>\n      <td>Jeddah</td>\n      <td>Saudi Arabia</td>\n      <td>21.63190</td>\n      <td>39.10440</td>\n      <td>15</td>\n      <td>http://en.wikipedia.org/wiki/Jeddah_Street_Cir...</td>\n    </tr>\n    <tr>\n      <th>75</th>\n      <td>78</td>\n      <td>losail</td>\n      <td>Losail International Circuit</td>\n      <td>Al Daayen</td>\n      <td>Qatar</td>\n      <td>25.49000</td>\n      <td>51.45420</td>\n      <td>\\N</td>\n      <td>http://en.wikipedia.org/wiki/Losail_Internatio...</td>\n    </tr>\n    <tr>\n      <th>76</th>\n      <td>79</td>\n      <td>miami</td>\n      <td>Miami International Autodrome</td>\n      <td>Miami</td>\n      <td>USA</td>\n      <td>25.95810</td>\n      <td>-80.23890</td>\n      <td>\\N</td>\n      <td>http://en.wikipedia.org/wiki/Miami_Internation...</td>\n    </tr>\n  </tbody>\n</table>\n<p>77 rows × 9 columns</p>\n</div>"
     },
     "execution_count": 2,
     "metadata": {},
     "output_type": "execute_result"
    }
   ],
   "source": [
    "circuits = pd.read_csv('circuits.csv')\n",
    "circuits"
   ],
   "metadata": {
    "collapsed": false,
    "ExecuteTime": {
     "end_time": "2023-07-21T08:06:33.550964Z",
     "start_time": "2023-07-21T08:06:33.497128Z"
    }
   }
  },
  {
   "cell_type": "code",
   "execution_count": 3,
   "outputs": [
    {
     "data": {
      "text/plain": "       constructorResultsId  raceId  constructorId  points status\n0                         1      18              1    14.0     \\N\n1                         2      18              2     8.0     \\N\n2                         3      18              3     9.0     \\N\n3                         4      18              4     5.0     \\N\n4                         5      18              5     2.0     \\N\n...                     ...     ...            ...     ...    ...\n12265                 16765    1108              6     3.0     \\N\n12266                 16766    1108             51     0.0     \\N\n12267                 16767    1108            210     0.0     \\N\n12268                 16768    1108            213     0.0     \\N\n12269                 16769    1108            214     0.0     \\N\n\n[12270 rows x 5 columns]",
      "text/html": "<div>\n<style scoped>\n    .dataframe tbody tr th:only-of-type {\n        vertical-align: middle;\n    }\n\n    .dataframe tbody tr th {\n        vertical-align: top;\n    }\n\n    .dataframe thead th {\n        text-align: right;\n    }\n</style>\n<table border=\"1\" class=\"dataframe\">\n  <thead>\n    <tr style=\"text-align: right;\">\n      <th></th>\n      <th>constructorResultsId</th>\n      <th>raceId</th>\n      <th>constructorId</th>\n      <th>points</th>\n      <th>status</th>\n    </tr>\n  </thead>\n  <tbody>\n    <tr>\n      <th>0</th>\n      <td>1</td>\n      <td>18</td>\n      <td>1</td>\n      <td>14.0</td>\n      <td>\\N</td>\n    </tr>\n    <tr>\n      <th>1</th>\n      <td>2</td>\n      <td>18</td>\n      <td>2</td>\n      <td>8.0</td>\n      <td>\\N</td>\n    </tr>\n    <tr>\n      <th>2</th>\n      <td>3</td>\n      <td>18</td>\n      <td>3</td>\n      <td>9.0</td>\n      <td>\\N</td>\n    </tr>\n    <tr>\n      <th>3</th>\n      <td>4</td>\n      <td>18</td>\n      <td>4</td>\n      <td>5.0</td>\n      <td>\\N</td>\n    </tr>\n    <tr>\n      <th>4</th>\n      <td>5</td>\n      <td>18</td>\n      <td>5</td>\n      <td>2.0</td>\n      <td>\\N</td>\n    </tr>\n    <tr>\n      <th>...</th>\n      <td>...</td>\n      <td>...</td>\n      <td>...</td>\n      <td>...</td>\n      <td>...</td>\n    </tr>\n    <tr>\n      <th>12265</th>\n      <td>16765</td>\n      <td>1108</td>\n      <td>6</td>\n      <td>3.0</td>\n      <td>\\N</td>\n    </tr>\n    <tr>\n      <th>12266</th>\n      <td>16766</td>\n      <td>1108</td>\n      <td>51</td>\n      <td>0.0</td>\n      <td>\\N</td>\n    </tr>\n    <tr>\n      <th>12267</th>\n      <td>16767</td>\n      <td>1108</td>\n      <td>210</td>\n      <td>0.0</td>\n      <td>\\N</td>\n    </tr>\n    <tr>\n      <th>12268</th>\n      <td>16768</td>\n      <td>1108</td>\n      <td>213</td>\n      <td>0.0</td>\n      <td>\\N</td>\n    </tr>\n    <tr>\n      <th>12269</th>\n      <td>16769</td>\n      <td>1108</td>\n      <td>214</td>\n      <td>0.0</td>\n      <td>\\N</td>\n    </tr>\n  </tbody>\n</table>\n<p>12270 rows × 5 columns</p>\n</div>"
     },
     "execution_count": 3,
     "metadata": {},
     "output_type": "execute_result"
    }
   ],
   "source": [
    "constructor_results = pd.read_csv('constructor_results.csv')\n",
    "constructor_results"
   ],
   "metadata": {
    "collapsed": false,
    "ExecuteTime": {
     "end_time": "2023-07-21T08:07:01.819380Z",
     "start_time": "2023-07-21T08:07:01.808916Z"
    }
   }
  },
  {
   "cell_type": "code",
   "execution_count": 4,
   "outputs": [
    {
     "data": {
      "text/plain": "       constructorStandingsId  raceId  constructorId  points  position  \\\n0                           1      18              1    14.0         1   \n1                           2      18              2     8.0         3   \n2                           3      18              3     9.0         2   \n3                           4      18              4     5.0         4   \n4                           5      18              5     2.0         5   \n...                       ...     ...            ...     ...       ...   \n13026                   28548    1108            214    47.0         6   \n13027                   28549    1108              3    11.0         7   \n13028                   28550    1108            213     2.0        10   \n13029                   28551    1108            210    11.0         8   \n13030                   28552    1108              1    59.0         5   \n\n      positionText  wins  \n0                1     1  \n1                3     0  \n2                2     0  \n3                4     0  \n4                5     0  \n...            ...   ...  \n13026            6     0  \n13027            7     0  \n13028           10     0  \n13029            8     0  \n13030            5     0  \n\n[13031 rows x 7 columns]",
      "text/html": "<div>\n<style scoped>\n    .dataframe tbody tr th:only-of-type {\n        vertical-align: middle;\n    }\n\n    .dataframe tbody tr th {\n        vertical-align: top;\n    }\n\n    .dataframe thead th {\n        text-align: right;\n    }\n</style>\n<table border=\"1\" class=\"dataframe\">\n  <thead>\n    <tr style=\"text-align: right;\">\n      <th></th>\n      <th>constructorStandingsId</th>\n      <th>raceId</th>\n      <th>constructorId</th>\n      <th>points</th>\n      <th>position</th>\n      <th>positionText</th>\n      <th>wins</th>\n    </tr>\n  </thead>\n  <tbody>\n    <tr>\n      <th>0</th>\n      <td>1</td>\n      <td>18</td>\n      <td>1</td>\n      <td>14.0</td>\n      <td>1</td>\n      <td>1</td>\n      <td>1</td>\n    </tr>\n    <tr>\n      <th>1</th>\n      <td>2</td>\n      <td>18</td>\n      <td>2</td>\n      <td>8.0</td>\n      <td>3</td>\n      <td>3</td>\n      <td>0</td>\n    </tr>\n    <tr>\n      <th>2</th>\n      <td>3</td>\n      <td>18</td>\n      <td>3</td>\n      <td>9.0</td>\n      <td>2</td>\n      <td>2</td>\n      <td>0</td>\n    </tr>\n    <tr>\n      <th>3</th>\n      <td>4</td>\n      <td>18</td>\n      <td>4</td>\n      <td>5.0</td>\n      <td>4</td>\n      <td>4</td>\n      <td>0</td>\n    </tr>\n    <tr>\n      <th>4</th>\n      <td>5</td>\n      <td>18</td>\n      <td>5</td>\n      <td>2.0</td>\n      <td>5</td>\n      <td>5</td>\n      <td>0</td>\n    </tr>\n    <tr>\n      <th>...</th>\n      <td>...</td>\n      <td>...</td>\n      <td>...</td>\n      <td>...</td>\n      <td>...</td>\n      <td>...</td>\n      <td>...</td>\n    </tr>\n    <tr>\n      <th>13026</th>\n      <td>28548</td>\n      <td>1108</td>\n      <td>214</td>\n      <td>47.0</td>\n      <td>6</td>\n      <td>6</td>\n      <td>0</td>\n    </tr>\n    <tr>\n      <th>13027</th>\n      <td>28549</td>\n      <td>1108</td>\n      <td>3</td>\n      <td>11.0</td>\n      <td>7</td>\n      <td>7</td>\n      <td>0</td>\n    </tr>\n    <tr>\n      <th>13028</th>\n      <td>28550</td>\n      <td>1108</td>\n      <td>213</td>\n      <td>2.0</td>\n      <td>10</td>\n      <td>10</td>\n      <td>0</td>\n    </tr>\n    <tr>\n      <th>13029</th>\n      <td>28551</td>\n      <td>1108</td>\n      <td>210</td>\n      <td>11.0</td>\n      <td>8</td>\n      <td>8</td>\n      <td>0</td>\n    </tr>\n    <tr>\n      <th>13030</th>\n      <td>28552</td>\n      <td>1108</td>\n      <td>1</td>\n      <td>59.0</td>\n      <td>5</td>\n      <td>5</td>\n      <td>0</td>\n    </tr>\n  </tbody>\n</table>\n<p>13031 rows × 7 columns</p>\n</div>"
     },
     "execution_count": 4,
     "metadata": {},
     "output_type": "execute_result"
    }
   ],
   "source": [
    "constructor_standings = pd.read_csv('constructor_standings.csv')\n",
    "constructor_standings"
   ],
   "metadata": {
    "collapsed": false,
    "ExecuteTime": {
     "end_time": "2023-07-21T08:07:25.962741Z",
     "start_time": "2023-07-21T08:07:25.945030Z"
    }
   }
  },
  {
   "cell_type": "code",
   "execution_count": 5,
   "outputs": [
    {
     "data": {
      "text/plain": "     constructorId constructorRef            name nationality  \\\n0                1        mclaren         McLaren     British   \n1                2     bmw_sauber      BMW Sauber      German   \n2                3       williams        Williams     British   \n3                4        renault         Renault      French   \n4                5     toro_rosso      Toro Rosso     Italian   \n..             ...            ...             ...         ...   \n206            209          manor  Manor Marussia     British   \n207            210           haas    Haas F1 Team    American   \n208            211   racing_point    Racing Point     British   \n209            213     alphatauri      AlphaTauri     Italian   \n210            214         alpine  Alpine F1 Team      French   \n\n                                                   url  \n0                 http://en.wikipedia.org/wiki/McLaren  \n1              http://en.wikipedia.org/wiki/BMW_Sauber  \n2    http://en.wikipedia.org/wiki/Williams_Grand_Pr...  \n3    http://en.wikipedia.org/wiki/Renault_in_Formul...  \n4     http://en.wikipedia.org/wiki/Scuderia_Toro_Rosso  \n..                                                 ...  \n206      http://en.wikipedia.org/wiki/Manor_Motorsport  \n207          http://en.wikipedia.org/wiki/Haas_F1_Team  \n208  http://en.wikipedia.org/wiki/Racing_Point_F1_Team  \n209   http://en.wikipedia.org/wiki/Scuderia_AlphaTauri  \n210        http://en.wikipedia.org/wiki/Alpine_F1_Team  \n\n[211 rows x 5 columns]",
      "text/html": "<div>\n<style scoped>\n    .dataframe tbody tr th:only-of-type {\n        vertical-align: middle;\n    }\n\n    .dataframe tbody tr th {\n        vertical-align: top;\n    }\n\n    .dataframe thead th {\n        text-align: right;\n    }\n</style>\n<table border=\"1\" class=\"dataframe\">\n  <thead>\n    <tr style=\"text-align: right;\">\n      <th></th>\n      <th>constructorId</th>\n      <th>constructorRef</th>\n      <th>name</th>\n      <th>nationality</th>\n      <th>url</th>\n    </tr>\n  </thead>\n  <tbody>\n    <tr>\n      <th>0</th>\n      <td>1</td>\n      <td>mclaren</td>\n      <td>McLaren</td>\n      <td>British</td>\n      <td>http://en.wikipedia.org/wiki/McLaren</td>\n    </tr>\n    <tr>\n      <th>1</th>\n      <td>2</td>\n      <td>bmw_sauber</td>\n      <td>BMW Sauber</td>\n      <td>German</td>\n      <td>http://en.wikipedia.org/wiki/BMW_Sauber</td>\n    </tr>\n    <tr>\n      <th>2</th>\n      <td>3</td>\n      <td>williams</td>\n      <td>Williams</td>\n      <td>British</td>\n      <td>http://en.wikipedia.org/wiki/Williams_Grand_Pr...</td>\n    </tr>\n    <tr>\n      <th>3</th>\n      <td>4</td>\n      <td>renault</td>\n      <td>Renault</td>\n      <td>French</td>\n      <td>http://en.wikipedia.org/wiki/Renault_in_Formul...</td>\n    </tr>\n    <tr>\n      <th>4</th>\n      <td>5</td>\n      <td>toro_rosso</td>\n      <td>Toro Rosso</td>\n      <td>Italian</td>\n      <td>http://en.wikipedia.org/wiki/Scuderia_Toro_Rosso</td>\n    </tr>\n    <tr>\n      <th>...</th>\n      <td>...</td>\n      <td>...</td>\n      <td>...</td>\n      <td>...</td>\n      <td>...</td>\n    </tr>\n    <tr>\n      <th>206</th>\n      <td>209</td>\n      <td>manor</td>\n      <td>Manor Marussia</td>\n      <td>British</td>\n      <td>http://en.wikipedia.org/wiki/Manor_Motorsport</td>\n    </tr>\n    <tr>\n      <th>207</th>\n      <td>210</td>\n      <td>haas</td>\n      <td>Haas F1 Team</td>\n      <td>American</td>\n      <td>http://en.wikipedia.org/wiki/Haas_F1_Team</td>\n    </tr>\n    <tr>\n      <th>208</th>\n      <td>211</td>\n      <td>racing_point</td>\n      <td>Racing Point</td>\n      <td>British</td>\n      <td>http://en.wikipedia.org/wiki/Racing_Point_F1_Team</td>\n    </tr>\n    <tr>\n      <th>209</th>\n      <td>213</td>\n      <td>alphatauri</td>\n      <td>AlphaTauri</td>\n      <td>Italian</td>\n      <td>http://en.wikipedia.org/wiki/Scuderia_AlphaTauri</td>\n    </tr>\n    <tr>\n      <th>210</th>\n      <td>214</td>\n      <td>alpine</td>\n      <td>Alpine F1 Team</td>\n      <td>French</td>\n      <td>http://en.wikipedia.org/wiki/Alpine_F1_Team</td>\n    </tr>\n  </tbody>\n</table>\n<p>211 rows × 5 columns</p>\n</div>"
     },
     "execution_count": 5,
     "metadata": {},
     "output_type": "execute_result"
    }
   ],
   "source": [
    "constructors = pd.read_csv(\"constructors.csv\")\n",
    "constructors"
   ],
   "metadata": {
    "collapsed": false,
    "ExecuteTime": {
     "end_time": "2023-07-21T08:07:48.002054Z",
     "start_time": "2023-07-21T08:07:47.995239Z"
    }
   }
  },
  {
   "cell_type": "code",
   "execution_count": 6,
   "outputs": [
    {
     "data": {
      "text/plain": "       driverStandingsId  raceId  driverId  points  position positionText  \\\n0                      1      18         1    10.0         1            1   \n1                      2      18         2     8.0         2            2   \n2                      3      18         3     6.0         3            3   \n3                      4      18         4     5.0         4            4   \n4                      5      18         5     4.0         5            5   \n...                  ...     ...       ...     ...       ...          ...   \n34077              72141    1108       855     4.0        16           16   \n34078              72142    1108       846    42.0         9            9   \n34079              72143    1108       839    31.0        10           10   \n34080              72144    1108       844    74.0         7            7   \n34081              72145    1108       857    17.0        11           11   \n\n       wins  \n0         1  \n1         0  \n2         0  \n3         0  \n4         0  \n...     ...  \n34077     0  \n34078     0  \n34079     0  \n34080     0  \n34081     0  \n\n[34082 rows x 7 columns]",
      "text/html": "<div>\n<style scoped>\n    .dataframe tbody tr th:only-of-type {\n        vertical-align: middle;\n    }\n\n    .dataframe tbody tr th {\n        vertical-align: top;\n    }\n\n    .dataframe thead th {\n        text-align: right;\n    }\n</style>\n<table border=\"1\" class=\"dataframe\">\n  <thead>\n    <tr style=\"text-align: right;\">\n      <th></th>\n      <th>driverStandingsId</th>\n      <th>raceId</th>\n      <th>driverId</th>\n      <th>points</th>\n      <th>position</th>\n      <th>positionText</th>\n      <th>wins</th>\n    </tr>\n  </thead>\n  <tbody>\n    <tr>\n      <th>0</th>\n      <td>1</td>\n      <td>18</td>\n      <td>1</td>\n      <td>10.0</td>\n      <td>1</td>\n      <td>1</td>\n      <td>1</td>\n    </tr>\n    <tr>\n      <th>1</th>\n      <td>2</td>\n      <td>18</td>\n      <td>2</td>\n      <td>8.0</td>\n      <td>2</td>\n      <td>2</td>\n      <td>0</td>\n    </tr>\n    <tr>\n      <th>2</th>\n      <td>3</td>\n      <td>18</td>\n      <td>3</td>\n      <td>6.0</td>\n      <td>3</td>\n      <td>3</td>\n      <td>0</td>\n    </tr>\n    <tr>\n      <th>3</th>\n      <td>4</td>\n      <td>18</td>\n      <td>4</td>\n      <td>5.0</td>\n      <td>4</td>\n      <td>4</td>\n      <td>0</td>\n    </tr>\n    <tr>\n      <th>4</th>\n      <td>5</td>\n      <td>18</td>\n      <td>5</td>\n      <td>4.0</td>\n      <td>5</td>\n      <td>5</td>\n      <td>0</td>\n    </tr>\n    <tr>\n      <th>...</th>\n      <td>...</td>\n      <td>...</td>\n      <td>...</td>\n      <td>...</td>\n      <td>...</td>\n      <td>...</td>\n      <td>...</td>\n    </tr>\n    <tr>\n      <th>34077</th>\n      <td>72141</td>\n      <td>1108</td>\n      <td>855</td>\n      <td>4.0</td>\n      <td>16</td>\n      <td>16</td>\n      <td>0</td>\n    </tr>\n    <tr>\n      <th>34078</th>\n      <td>72142</td>\n      <td>1108</td>\n      <td>846</td>\n      <td>42.0</td>\n      <td>9</td>\n      <td>9</td>\n      <td>0</td>\n    </tr>\n    <tr>\n      <th>34079</th>\n      <td>72143</td>\n      <td>1108</td>\n      <td>839</td>\n      <td>31.0</td>\n      <td>10</td>\n      <td>10</td>\n      <td>0</td>\n    </tr>\n    <tr>\n      <th>34080</th>\n      <td>72144</td>\n      <td>1108</td>\n      <td>844</td>\n      <td>74.0</td>\n      <td>7</td>\n      <td>7</td>\n      <td>0</td>\n    </tr>\n    <tr>\n      <th>34081</th>\n      <td>72145</td>\n      <td>1108</td>\n      <td>857</td>\n      <td>17.0</td>\n      <td>11</td>\n      <td>11</td>\n      <td>0</td>\n    </tr>\n  </tbody>\n</table>\n<p>34082 rows × 7 columns</p>\n</div>"
     },
     "execution_count": 6,
     "metadata": {},
     "output_type": "execute_result"
    }
   ],
   "source": [
    "driver_standings = pd.read_csv(\"driver_standings.csv\")\n",
    "driver_standings"
   ],
   "metadata": {
    "collapsed": false,
    "ExecuteTime": {
     "end_time": "2023-07-21T08:08:05.288736Z",
     "start_time": "2023-07-21T08:08:05.273221Z"
    }
   }
  },
  {
   "cell_type": "code",
   "execution_count": 7,
   "outputs": [
    {
     "data": {
      "text/plain": "     driverId        driverRef number code  forename     surname         dob  \\\n0           1         hamilton     44  HAM     Lewis    Hamilton  1985-01-07   \n1           2         heidfeld     \\N  HEI      Nick    Heidfeld  1977-05-10   \n2           3          rosberg      6  ROS      Nico     Rosberg  1985-06-27   \n3           4           alonso     14  ALO  Fernando      Alonso  1981-07-29   \n4           5       kovalainen     \\N  KOV    Heikki  Kovalainen  1981-10-19   \n..        ...              ...    ...  ...       ...         ...         ...   \n852       854  mick_schumacher     47  MSC      Mick  Schumacher  1999-03-22   \n853       855             zhou     24  ZHO    Guanyu        Zhou  1999-05-30   \n854       856         de_vries     21  DEV      Nyck    de Vries  1995-02-06   \n855       857          piastri     81  PIA     Oscar     Piastri  2001-04-06   \n856       858         sargeant      2  SAR     Logan    Sargeant  2000-12-31   \n\n    nationality                                             url  \n0       British     http://en.wikipedia.org/wiki/Lewis_Hamilton  \n1        German      http://en.wikipedia.org/wiki/Nick_Heidfeld  \n2        German       http://en.wikipedia.org/wiki/Nico_Rosberg  \n3       Spanish    http://en.wikipedia.org/wiki/Fernando_Alonso  \n4       Finnish  http://en.wikipedia.org/wiki/Heikki_Kovalainen  \n..          ...                                             ...  \n852      German    http://en.wikipedia.org/wiki/Mick_Schumacher  \n853     Chinese        http://en.wikipedia.org/wiki/Guanyu_Zhou  \n854       Dutch      http://en.wikipedia.org/wiki/Nyck_de_Vries  \n855  Australian      http://en.wikipedia.org/wiki/Oscar_Piastri  \n856    American     http://en.wikipedia.org/wiki/Logan_Sargeant  \n\n[857 rows x 9 columns]",
      "text/html": "<div>\n<style scoped>\n    .dataframe tbody tr th:only-of-type {\n        vertical-align: middle;\n    }\n\n    .dataframe tbody tr th {\n        vertical-align: top;\n    }\n\n    .dataframe thead th {\n        text-align: right;\n    }\n</style>\n<table border=\"1\" class=\"dataframe\">\n  <thead>\n    <tr style=\"text-align: right;\">\n      <th></th>\n      <th>driverId</th>\n      <th>driverRef</th>\n      <th>number</th>\n      <th>code</th>\n      <th>forename</th>\n      <th>surname</th>\n      <th>dob</th>\n      <th>nationality</th>\n      <th>url</th>\n    </tr>\n  </thead>\n  <tbody>\n    <tr>\n      <th>0</th>\n      <td>1</td>\n      <td>hamilton</td>\n      <td>44</td>\n      <td>HAM</td>\n      <td>Lewis</td>\n      <td>Hamilton</td>\n      <td>1985-01-07</td>\n      <td>British</td>\n      <td>http://en.wikipedia.org/wiki/Lewis_Hamilton</td>\n    </tr>\n    <tr>\n      <th>1</th>\n      <td>2</td>\n      <td>heidfeld</td>\n      <td>\\N</td>\n      <td>HEI</td>\n      <td>Nick</td>\n      <td>Heidfeld</td>\n      <td>1977-05-10</td>\n      <td>German</td>\n      <td>http://en.wikipedia.org/wiki/Nick_Heidfeld</td>\n    </tr>\n    <tr>\n      <th>2</th>\n      <td>3</td>\n      <td>rosberg</td>\n      <td>6</td>\n      <td>ROS</td>\n      <td>Nico</td>\n      <td>Rosberg</td>\n      <td>1985-06-27</td>\n      <td>German</td>\n      <td>http://en.wikipedia.org/wiki/Nico_Rosberg</td>\n    </tr>\n    <tr>\n      <th>3</th>\n      <td>4</td>\n      <td>alonso</td>\n      <td>14</td>\n      <td>ALO</td>\n      <td>Fernando</td>\n      <td>Alonso</td>\n      <td>1981-07-29</td>\n      <td>Spanish</td>\n      <td>http://en.wikipedia.org/wiki/Fernando_Alonso</td>\n    </tr>\n    <tr>\n      <th>4</th>\n      <td>5</td>\n      <td>kovalainen</td>\n      <td>\\N</td>\n      <td>KOV</td>\n      <td>Heikki</td>\n      <td>Kovalainen</td>\n      <td>1981-10-19</td>\n      <td>Finnish</td>\n      <td>http://en.wikipedia.org/wiki/Heikki_Kovalainen</td>\n    </tr>\n    <tr>\n      <th>...</th>\n      <td>...</td>\n      <td>...</td>\n      <td>...</td>\n      <td>...</td>\n      <td>...</td>\n      <td>...</td>\n      <td>...</td>\n      <td>...</td>\n      <td>...</td>\n    </tr>\n    <tr>\n      <th>852</th>\n      <td>854</td>\n      <td>mick_schumacher</td>\n      <td>47</td>\n      <td>MSC</td>\n      <td>Mick</td>\n      <td>Schumacher</td>\n      <td>1999-03-22</td>\n      <td>German</td>\n      <td>http://en.wikipedia.org/wiki/Mick_Schumacher</td>\n    </tr>\n    <tr>\n      <th>853</th>\n      <td>855</td>\n      <td>zhou</td>\n      <td>24</td>\n      <td>ZHO</td>\n      <td>Guanyu</td>\n      <td>Zhou</td>\n      <td>1999-05-30</td>\n      <td>Chinese</td>\n      <td>http://en.wikipedia.org/wiki/Guanyu_Zhou</td>\n    </tr>\n    <tr>\n      <th>854</th>\n      <td>856</td>\n      <td>de_vries</td>\n      <td>21</td>\n      <td>DEV</td>\n      <td>Nyck</td>\n      <td>de Vries</td>\n      <td>1995-02-06</td>\n      <td>Dutch</td>\n      <td>http://en.wikipedia.org/wiki/Nyck_de_Vries</td>\n    </tr>\n    <tr>\n      <th>855</th>\n      <td>857</td>\n      <td>piastri</td>\n      <td>81</td>\n      <td>PIA</td>\n      <td>Oscar</td>\n      <td>Piastri</td>\n      <td>2001-04-06</td>\n      <td>Australian</td>\n      <td>http://en.wikipedia.org/wiki/Oscar_Piastri</td>\n    </tr>\n    <tr>\n      <th>856</th>\n      <td>858</td>\n      <td>sargeant</td>\n      <td>2</td>\n      <td>SAR</td>\n      <td>Logan</td>\n      <td>Sargeant</td>\n      <td>2000-12-31</td>\n      <td>American</td>\n      <td>http://en.wikipedia.org/wiki/Logan_Sargeant</td>\n    </tr>\n  </tbody>\n</table>\n<p>857 rows × 9 columns</p>\n</div>"
     },
     "execution_count": 7,
     "metadata": {},
     "output_type": "execute_result"
    }
   ],
   "source": [
    "drivers = pd.read_csv(\"drivers.csv\")\n",
    "drivers"
   ],
   "metadata": {
    "collapsed": false,
    "ExecuteTime": {
     "end_time": "2023-07-21T08:08:23.010113Z",
     "start_time": "2023-07-21T08:08:22.996152Z"
    }
   }
  },
  {
   "cell_type": "code",
   "execution_count": 18,
   "outputs": [
    {
     "data": {
      "text/plain": "        raceId  driverId  lap  position      time  milliseconds\n0          841        20    1         1  1:38.109         98109\n1          841        20    2         1  1:33.006         93006\n2          841        20    3         1  1:32.713         92713\n3          841        20    4         1  1:32.803         92803\n4          841        20    5         1  1:32.342         92342\n...        ...       ...  ...       ...       ...           ...\n549670    1108       825   27        16  1:33.935         93935\n549671    1108       825   28        15  1:33.760         93760\n549672    1108       825   29        15  1:33.356         93356\n549673    1108       825   30        14  1:33.466         93466\n549674    1108       825   31        14  1:33.464         93464\n\n[549675 rows x 6 columns]",
      "text/html": "<div>\n<style scoped>\n    .dataframe tbody tr th:only-of-type {\n        vertical-align: middle;\n    }\n\n    .dataframe tbody tr th {\n        vertical-align: top;\n    }\n\n    .dataframe thead th {\n        text-align: right;\n    }\n</style>\n<table border=\"1\" class=\"dataframe\">\n  <thead>\n    <tr style=\"text-align: right;\">\n      <th></th>\n      <th>raceId</th>\n      <th>driverId</th>\n      <th>lap</th>\n      <th>position</th>\n      <th>time</th>\n      <th>milliseconds</th>\n    </tr>\n  </thead>\n  <tbody>\n    <tr>\n      <th>0</th>\n      <td>841</td>\n      <td>20</td>\n      <td>1</td>\n      <td>1</td>\n      <td>1:38.109</td>\n      <td>98109</td>\n    </tr>\n    <tr>\n      <th>1</th>\n      <td>841</td>\n      <td>20</td>\n      <td>2</td>\n      <td>1</td>\n      <td>1:33.006</td>\n      <td>93006</td>\n    </tr>\n    <tr>\n      <th>2</th>\n      <td>841</td>\n      <td>20</td>\n      <td>3</td>\n      <td>1</td>\n      <td>1:32.713</td>\n      <td>92713</td>\n    </tr>\n    <tr>\n      <th>3</th>\n      <td>841</td>\n      <td>20</td>\n      <td>4</td>\n      <td>1</td>\n      <td>1:32.803</td>\n      <td>92803</td>\n    </tr>\n    <tr>\n      <th>4</th>\n      <td>841</td>\n      <td>20</td>\n      <td>5</td>\n      <td>1</td>\n      <td>1:32.342</td>\n      <td>92342</td>\n    </tr>\n    <tr>\n      <th>...</th>\n      <td>...</td>\n      <td>...</td>\n      <td>...</td>\n      <td>...</td>\n      <td>...</td>\n      <td>...</td>\n    </tr>\n    <tr>\n      <th>549670</th>\n      <td>1108</td>\n      <td>825</td>\n      <td>27</td>\n      <td>16</td>\n      <td>1:33.935</td>\n      <td>93935</td>\n    </tr>\n    <tr>\n      <th>549671</th>\n      <td>1108</td>\n      <td>825</td>\n      <td>28</td>\n      <td>15</td>\n      <td>1:33.760</td>\n      <td>93760</td>\n    </tr>\n    <tr>\n      <th>549672</th>\n      <td>1108</td>\n      <td>825</td>\n      <td>29</td>\n      <td>15</td>\n      <td>1:33.356</td>\n      <td>93356</td>\n    </tr>\n    <tr>\n      <th>549673</th>\n      <td>1108</td>\n      <td>825</td>\n      <td>30</td>\n      <td>14</td>\n      <td>1:33.466</td>\n      <td>93466</td>\n    </tr>\n    <tr>\n      <th>549674</th>\n      <td>1108</td>\n      <td>825</td>\n      <td>31</td>\n      <td>14</td>\n      <td>1:33.464</td>\n      <td>93464</td>\n    </tr>\n  </tbody>\n</table>\n<p>549675 rows × 6 columns</p>\n</div>"
     },
     "execution_count": 18,
     "metadata": {},
     "output_type": "execute_result"
    }
   ],
   "source": [
    "lap_times = pd.read_csv(\"lap_times.csv\")\n",
    "lap_times"
   ],
   "metadata": {
    "collapsed": false,
    "ExecuteTime": {
     "end_time": "2023-07-21T08:12:51.646132Z",
     "start_time": "2023-07-21T08:12:51.420346Z"
    }
   }
  },
  {
   "cell_type": "code",
   "execution_count": 9,
   "outputs": [
    {
     "data": {
      "text/plain": "       raceId  driverId  stop  lap      time duration  milliseconds\n0         841       153     1    1  17:05:23   26.898         26898\n1         841        30     1    1  17:05:52   25.021         25021\n2         841        17     1   11  17:20:48   23.426         23426\n3         841         4     1   12  17:22:34   23.251         23251\n4         841        13     1   13  17:24:10   23.842         23842\n...       ...       ...   ...  ...       ...      ...           ...\n10011    1108       846     1   33  15:54:43   28.438         28438\n10012    1108         1     1   33  15:54:58   29.169         29169\n10013    1108         4     1   33  15:55:09   28.679         28679\n10014    1108       855     2   33  15:56:08   28.709         28709\n10015    1108       855     3   36  16:02:39   34.374         34374\n\n[10016 rows x 7 columns]",
      "text/html": "<div>\n<style scoped>\n    .dataframe tbody tr th:only-of-type {\n        vertical-align: middle;\n    }\n\n    .dataframe tbody tr th {\n        vertical-align: top;\n    }\n\n    .dataframe thead th {\n        text-align: right;\n    }\n</style>\n<table border=\"1\" class=\"dataframe\">\n  <thead>\n    <tr style=\"text-align: right;\">\n      <th></th>\n      <th>raceId</th>\n      <th>driverId</th>\n      <th>stop</th>\n      <th>lap</th>\n      <th>time</th>\n      <th>duration</th>\n      <th>milliseconds</th>\n    </tr>\n  </thead>\n  <tbody>\n    <tr>\n      <th>0</th>\n      <td>841</td>\n      <td>153</td>\n      <td>1</td>\n      <td>1</td>\n      <td>17:05:23</td>\n      <td>26.898</td>\n      <td>26898</td>\n    </tr>\n    <tr>\n      <th>1</th>\n      <td>841</td>\n      <td>30</td>\n      <td>1</td>\n      <td>1</td>\n      <td>17:05:52</td>\n      <td>25.021</td>\n      <td>25021</td>\n    </tr>\n    <tr>\n      <th>2</th>\n      <td>841</td>\n      <td>17</td>\n      <td>1</td>\n      <td>11</td>\n      <td>17:20:48</td>\n      <td>23.426</td>\n      <td>23426</td>\n    </tr>\n    <tr>\n      <th>3</th>\n      <td>841</td>\n      <td>4</td>\n      <td>1</td>\n      <td>12</td>\n      <td>17:22:34</td>\n      <td>23.251</td>\n      <td>23251</td>\n    </tr>\n    <tr>\n      <th>4</th>\n      <td>841</td>\n      <td>13</td>\n      <td>1</td>\n      <td>13</td>\n      <td>17:24:10</td>\n      <td>23.842</td>\n      <td>23842</td>\n    </tr>\n    <tr>\n      <th>...</th>\n      <td>...</td>\n      <td>...</td>\n      <td>...</td>\n      <td>...</td>\n      <td>...</td>\n      <td>...</td>\n      <td>...</td>\n    </tr>\n    <tr>\n      <th>10011</th>\n      <td>1108</td>\n      <td>846</td>\n      <td>1</td>\n      <td>33</td>\n      <td>15:54:43</td>\n      <td>28.438</td>\n      <td>28438</td>\n    </tr>\n    <tr>\n      <th>10012</th>\n      <td>1108</td>\n      <td>1</td>\n      <td>1</td>\n      <td>33</td>\n      <td>15:54:58</td>\n      <td>29.169</td>\n      <td>29169</td>\n    </tr>\n    <tr>\n      <th>10013</th>\n      <td>1108</td>\n      <td>4</td>\n      <td>1</td>\n      <td>33</td>\n      <td>15:55:09</td>\n      <td>28.679</td>\n      <td>28679</td>\n    </tr>\n    <tr>\n      <th>10014</th>\n      <td>1108</td>\n      <td>855</td>\n      <td>2</td>\n      <td>33</td>\n      <td>15:56:08</td>\n      <td>28.709</td>\n      <td>28709</td>\n    </tr>\n    <tr>\n      <th>10015</th>\n      <td>1108</td>\n      <td>855</td>\n      <td>3</td>\n      <td>36</td>\n      <td>16:02:39</td>\n      <td>34.374</td>\n      <td>34374</td>\n    </tr>\n  </tbody>\n</table>\n<p>10016 rows × 7 columns</p>\n</div>"
     },
     "execution_count": 9,
     "metadata": {},
     "output_type": "execute_result"
    }
   ],
   "source": [
    "pit_stops = pd.read_csv(\"pit_stops.csv\")\n",
    "pit_stops"
   ],
   "metadata": {
    "collapsed": false,
    "ExecuteTime": {
     "end_time": "2023-07-21T08:09:07.414183Z",
     "start_time": "2023-07-21T08:09:07.396095Z"
    }
   }
  },
  {
   "cell_type": "code",
   "execution_count": 10,
   "outputs": [
    {
     "data": {
      "text/plain": "      qualifyId  raceId  driverId  constructorId  number  position        q1  \\\n0             1      18         1              1      22         1  1:26.572   \n1             2      18         9              2       4         2  1:26.103   \n2             3      18         5              1      23         3  1:25.664   \n3             4      18        13              6       2         4  1:25.994   \n4             5      18         2              2       3         5  1:25.960   \n...         ...     ...       ...            ...     ...       ...       ...   \n9770       9828    1108       815              9      11        16  1:29.968   \n9771       9829    1108       852            213      22        17  1:30.025   \n9772       9830    1108       855             51      24        18  1:30.123   \n9773       9831    1108       856            213      21        19  1:30.513   \n9774       9832    1108       825            210      20        20  1:32.378   \n\n            q2        q3  \n0     1:25.187  1:26.714  \n1     1:25.315  1:26.869  \n2     1:25.452  1:27.079  \n3     1:25.691  1:27.178  \n4     1:25.518  1:27.236  \n...        ...       ...  \n9770        \\N        \\N  \n9771        \\N        \\N  \n9772        \\N        \\N  \n9773        \\N        \\N  \n9774        \\N        \\N  \n\n[9775 rows x 9 columns]",
      "text/html": "<div>\n<style scoped>\n    .dataframe tbody tr th:only-of-type {\n        vertical-align: middle;\n    }\n\n    .dataframe tbody tr th {\n        vertical-align: top;\n    }\n\n    .dataframe thead th {\n        text-align: right;\n    }\n</style>\n<table border=\"1\" class=\"dataframe\">\n  <thead>\n    <tr style=\"text-align: right;\">\n      <th></th>\n      <th>qualifyId</th>\n      <th>raceId</th>\n      <th>driverId</th>\n      <th>constructorId</th>\n      <th>number</th>\n      <th>position</th>\n      <th>q1</th>\n      <th>q2</th>\n      <th>q3</th>\n    </tr>\n  </thead>\n  <tbody>\n    <tr>\n      <th>0</th>\n      <td>1</td>\n      <td>18</td>\n      <td>1</td>\n      <td>1</td>\n      <td>22</td>\n      <td>1</td>\n      <td>1:26.572</td>\n      <td>1:25.187</td>\n      <td>1:26.714</td>\n    </tr>\n    <tr>\n      <th>1</th>\n      <td>2</td>\n      <td>18</td>\n      <td>9</td>\n      <td>2</td>\n      <td>4</td>\n      <td>2</td>\n      <td>1:26.103</td>\n      <td>1:25.315</td>\n      <td>1:26.869</td>\n    </tr>\n    <tr>\n      <th>2</th>\n      <td>3</td>\n      <td>18</td>\n      <td>5</td>\n      <td>1</td>\n      <td>23</td>\n      <td>3</td>\n      <td>1:25.664</td>\n      <td>1:25.452</td>\n      <td>1:27.079</td>\n    </tr>\n    <tr>\n      <th>3</th>\n      <td>4</td>\n      <td>18</td>\n      <td>13</td>\n      <td>6</td>\n      <td>2</td>\n      <td>4</td>\n      <td>1:25.994</td>\n      <td>1:25.691</td>\n      <td>1:27.178</td>\n    </tr>\n    <tr>\n      <th>4</th>\n      <td>5</td>\n      <td>18</td>\n      <td>2</td>\n      <td>2</td>\n      <td>3</td>\n      <td>5</td>\n      <td>1:25.960</td>\n      <td>1:25.518</td>\n      <td>1:27.236</td>\n    </tr>\n    <tr>\n      <th>...</th>\n      <td>...</td>\n      <td>...</td>\n      <td>...</td>\n      <td>...</td>\n      <td>...</td>\n      <td>...</td>\n      <td>...</td>\n      <td>...</td>\n      <td>...</td>\n    </tr>\n    <tr>\n      <th>9770</th>\n      <td>9828</td>\n      <td>1108</td>\n      <td>815</td>\n      <td>9</td>\n      <td>11</td>\n      <td>16</td>\n      <td>1:29.968</td>\n      <td>\\N</td>\n      <td>\\N</td>\n    </tr>\n    <tr>\n      <th>9771</th>\n      <td>9829</td>\n      <td>1108</td>\n      <td>852</td>\n      <td>213</td>\n      <td>22</td>\n      <td>17</td>\n      <td>1:30.025</td>\n      <td>\\N</td>\n      <td>\\N</td>\n    </tr>\n    <tr>\n      <th>9772</th>\n      <td>9830</td>\n      <td>1108</td>\n      <td>855</td>\n      <td>51</td>\n      <td>24</td>\n      <td>18</td>\n      <td>1:30.123</td>\n      <td>\\N</td>\n      <td>\\N</td>\n    </tr>\n    <tr>\n      <th>9773</th>\n      <td>9831</td>\n      <td>1108</td>\n      <td>856</td>\n      <td>213</td>\n      <td>21</td>\n      <td>19</td>\n      <td>1:30.513</td>\n      <td>\\N</td>\n      <td>\\N</td>\n    </tr>\n    <tr>\n      <th>9774</th>\n      <td>9832</td>\n      <td>1108</td>\n      <td>825</td>\n      <td>210</td>\n      <td>20</td>\n      <td>20</td>\n      <td>1:32.378</td>\n      <td>\\N</td>\n      <td>\\N</td>\n    </tr>\n  </tbody>\n</table>\n<p>9775 rows × 9 columns</p>\n</div>"
     },
     "execution_count": 10,
     "metadata": {},
     "output_type": "execute_result"
    }
   ],
   "source": [
    "qualifying = pd.read_csv(\"qualifying.csv\")\n",
    "qualifying"
   ],
   "metadata": {
    "collapsed": false,
    "ExecuteTime": {
     "end_time": "2023-07-21T08:09:20.498336Z",
     "start_time": "2023-07-21T08:09:20.484616Z"
    }
   }
  },
  {
   "cell_type": "code",
   "execution_count": 11,
   "outputs": [
    {
     "data": {
      "text/plain": "      raceId  year  round  circuitId                      name        date  \\\n0          1  2009      1          1     Australian Grand Prix  2009-03-29   \n1          2  2009      2          2      Malaysian Grand Prix  2009-04-05   \n2          3  2009      3         17        Chinese Grand Prix  2009-04-19   \n3          4  2009      4          3        Bahrain Grand Prix  2009-04-26   \n4          5  2009      5          4        Spanish Grand Prix  2009-05-10   \n...      ...   ...    ...        ...                       ...         ...   \n1096    1116  2023     18         69  United States Grand Prix  2023-10-22   \n1097    1117  2023     19         32    Mexico City Grand Prix  2023-10-29   \n1098    1118  2023     20         18      São Paulo Grand Prix  2023-11-05   \n1099    1119  2023     21         80      Las Vegas Grand Prix  2023-11-19   \n1100    1120  2023     22         24      Abu Dhabi Grand Prix  2023-11-26   \n\n          time                                                url    fp1_date  \\\n0     06:00:00  http://en.wikipedia.org/wiki/2009_Australian_G...          \\N   \n1     09:00:00  http://en.wikipedia.org/wiki/2009_Malaysian_Gr...          \\N   \n2     07:00:00  http://en.wikipedia.org/wiki/2009_Chinese_Gran...          \\N   \n3     12:00:00  http://en.wikipedia.org/wiki/2009_Bahrain_Gran...          \\N   \n4     12:00:00  http://en.wikipedia.org/wiki/2009_Spanish_Gran...          \\N   \n...        ...                                                ...         ...   \n1096  19:00:00  https://en.wikipedia.org/wiki/2023_United_Stat...  2023-10-20   \n1097  20:00:00  https://en.wikipedia.org/wiki/2023_Mexico_City...  2023-10-27   \n1098  17:00:00  https://en.wikipedia.org/wiki/2023_S%C3%A3o_Pa...  2023-11-03   \n1099  06:00:00  https://en.wikipedia.org/wiki/2023_Las_Vegas_G...  2023-11-17   \n1100  13:00:00  https://en.wikipedia.org/wiki/2023_Abu_Dhabi_G...  2023-11-24   \n\n      fp1_time    fp2_date  fp2_time    fp3_date  fp3_time  quali_date  \\\n0           \\N          \\N        \\N          \\N        \\N          \\N   \n1           \\N          \\N        \\N          \\N        \\N          \\N   \n2           \\N          \\N        \\N          \\N        \\N          \\N   \n3           \\N          \\N        \\N          \\N        \\N          \\N   \n4           \\N          \\N        \\N          \\N        \\N          \\N   \n...        ...         ...       ...         ...       ...         ...   \n1096  17:30:00  2023-10-21  18:00:00          \\N        \\N  2023-10-20   \n1097  18:30:00  2023-10-27  22:00:00  2023-10-28  17:30:00  2023-10-28   \n1098  14:30:00  2023-11-04  14:30:00          \\N        \\N  2023-11-03   \n1099  04:30:00  2023-11-17  08:00:00  2023-11-18  04:30:00  2023-11-18   \n1100  09:30:00  2023-11-24  13:00:00  2023-11-25  10:30:00  2023-11-25   \n\n     quali_time sprint_date sprint_time  \n0            \\N          \\N          \\N  \n1            \\N          \\N          \\N  \n2            \\N          \\N          \\N  \n3            \\N          \\N          \\N  \n4            \\N          \\N          \\N  \n...         ...         ...         ...  \n1096   21:00:00  2023-10-21    22:00:00  \n1097   21:00:00          \\N          \\N  \n1098   18:00:00  2023-11-04    18:30:00  \n1099   08:00:00          \\N          \\N  \n1100   14:00:00          \\N          \\N  \n\n[1101 rows x 18 columns]",
      "text/html": "<div>\n<style scoped>\n    .dataframe tbody tr th:only-of-type {\n        vertical-align: middle;\n    }\n\n    .dataframe tbody tr th {\n        vertical-align: top;\n    }\n\n    .dataframe thead th {\n        text-align: right;\n    }\n</style>\n<table border=\"1\" class=\"dataframe\">\n  <thead>\n    <tr style=\"text-align: right;\">\n      <th></th>\n      <th>raceId</th>\n      <th>year</th>\n      <th>round</th>\n      <th>circuitId</th>\n      <th>name</th>\n      <th>date</th>\n      <th>time</th>\n      <th>url</th>\n      <th>fp1_date</th>\n      <th>fp1_time</th>\n      <th>fp2_date</th>\n      <th>fp2_time</th>\n      <th>fp3_date</th>\n      <th>fp3_time</th>\n      <th>quali_date</th>\n      <th>quali_time</th>\n      <th>sprint_date</th>\n      <th>sprint_time</th>\n    </tr>\n  </thead>\n  <tbody>\n    <tr>\n      <th>0</th>\n      <td>1</td>\n      <td>2009</td>\n      <td>1</td>\n      <td>1</td>\n      <td>Australian Grand Prix</td>\n      <td>2009-03-29</td>\n      <td>06:00:00</td>\n      <td>http://en.wikipedia.org/wiki/2009_Australian_G...</td>\n      <td>\\N</td>\n      <td>\\N</td>\n      <td>\\N</td>\n      <td>\\N</td>\n      <td>\\N</td>\n      <td>\\N</td>\n      <td>\\N</td>\n      <td>\\N</td>\n      <td>\\N</td>\n      <td>\\N</td>\n    </tr>\n    <tr>\n      <th>1</th>\n      <td>2</td>\n      <td>2009</td>\n      <td>2</td>\n      <td>2</td>\n      <td>Malaysian Grand Prix</td>\n      <td>2009-04-05</td>\n      <td>09:00:00</td>\n      <td>http://en.wikipedia.org/wiki/2009_Malaysian_Gr...</td>\n      <td>\\N</td>\n      <td>\\N</td>\n      <td>\\N</td>\n      <td>\\N</td>\n      <td>\\N</td>\n      <td>\\N</td>\n      <td>\\N</td>\n      <td>\\N</td>\n      <td>\\N</td>\n      <td>\\N</td>\n    </tr>\n    <tr>\n      <th>2</th>\n      <td>3</td>\n      <td>2009</td>\n      <td>3</td>\n      <td>17</td>\n      <td>Chinese Grand Prix</td>\n      <td>2009-04-19</td>\n      <td>07:00:00</td>\n      <td>http://en.wikipedia.org/wiki/2009_Chinese_Gran...</td>\n      <td>\\N</td>\n      <td>\\N</td>\n      <td>\\N</td>\n      <td>\\N</td>\n      <td>\\N</td>\n      <td>\\N</td>\n      <td>\\N</td>\n      <td>\\N</td>\n      <td>\\N</td>\n      <td>\\N</td>\n    </tr>\n    <tr>\n      <th>3</th>\n      <td>4</td>\n      <td>2009</td>\n      <td>4</td>\n      <td>3</td>\n      <td>Bahrain Grand Prix</td>\n      <td>2009-04-26</td>\n      <td>12:00:00</td>\n      <td>http://en.wikipedia.org/wiki/2009_Bahrain_Gran...</td>\n      <td>\\N</td>\n      <td>\\N</td>\n      <td>\\N</td>\n      <td>\\N</td>\n      <td>\\N</td>\n      <td>\\N</td>\n      <td>\\N</td>\n      <td>\\N</td>\n      <td>\\N</td>\n      <td>\\N</td>\n    </tr>\n    <tr>\n      <th>4</th>\n      <td>5</td>\n      <td>2009</td>\n      <td>5</td>\n      <td>4</td>\n      <td>Spanish Grand Prix</td>\n      <td>2009-05-10</td>\n      <td>12:00:00</td>\n      <td>http://en.wikipedia.org/wiki/2009_Spanish_Gran...</td>\n      <td>\\N</td>\n      <td>\\N</td>\n      <td>\\N</td>\n      <td>\\N</td>\n      <td>\\N</td>\n      <td>\\N</td>\n      <td>\\N</td>\n      <td>\\N</td>\n      <td>\\N</td>\n      <td>\\N</td>\n    </tr>\n    <tr>\n      <th>...</th>\n      <td>...</td>\n      <td>...</td>\n      <td>...</td>\n      <td>...</td>\n      <td>...</td>\n      <td>...</td>\n      <td>...</td>\n      <td>...</td>\n      <td>...</td>\n      <td>...</td>\n      <td>...</td>\n      <td>...</td>\n      <td>...</td>\n      <td>...</td>\n      <td>...</td>\n      <td>...</td>\n      <td>...</td>\n      <td>...</td>\n    </tr>\n    <tr>\n      <th>1096</th>\n      <td>1116</td>\n      <td>2023</td>\n      <td>18</td>\n      <td>69</td>\n      <td>United States Grand Prix</td>\n      <td>2023-10-22</td>\n      <td>19:00:00</td>\n      <td>https://en.wikipedia.org/wiki/2023_United_Stat...</td>\n      <td>2023-10-20</td>\n      <td>17:30:00</td>\n      <td>2023-10-21</td>\n      <td>18:00:00</td>\n      <td>\\N</td>\n      <td>\\N</td>\n      <td>2023-10-20</td>\n      <td>21:00:00</td>\n      <td>2023-10-21</td>\n      <td>22:00:00</td>\n    </tr>\n    <tr>\n      <th>1097</th>\n      <td>1117</td>\n      <td>2023</td>\n      <td>19</td>\n      <td>32</td>\n      <td>Mexico City Grand Prix</td>\n      <td>2023-10-29</td>\n      <td>20:00:00</td>\n      <td>https://en.wikipedia.org/wiki/2023_Mexico_City...</td>\n      <td>2023-10-27</td>\n      <td>18:30:00</td>\n      <td>2023-10-27</td>\n      <td>22:00:00</td>\n      <td>2023-10-28</td>\n      <td>17:30:00</td>\n      <td>2023-10-28</td>\n      <td>21:00:00</td>\n      <td>\\N</td>\n      <td>\\N</td>\n    </tr>\n    <tr>\n      <th>1098</th>\n      <td>1118</td>\n      <td>2023</td>\n      <td>20</td>\n      <td>18</td>\n      <td>São Paulo Grand Prix</td>\n      <td>2023-11-05</td>\n      <td>17:00:00</td>\n      <td>https://en.wikipedia.org/wiki/2023_S%C3%A3o_Pa...</td>\n      <td>2023-11-03</td>\n      <td>14:30:00</td>\n      <td>2023-11-04</td>\n      <td>14:30:00</td>\n      <td>\\N</td>\n      <td>\\N</td>\n      <td>2023-11-03</td>\n      <td>18:00:00</td>\n      <td>2023-11-04</td>\n      <td>18:30:00</td>\n    </tr>\n    <tr>\n      <th>1099</th>\n      <td>1119</td>\n      <td>2023</td>\n      <td>21</td>\n      <td>80</td>\n      <td>Las Vegas Grand Prix</td>\n      <td>2023-11-19</td>\n      <td>06:00:00</td>\n      <td>https://en.wikipedia.org/wiki/2023_Las_Vegas_G...</td>\n      <td>2023-11-17</td>\n      <td>04:30:00</td>\n      <td>2023-11-17</td>\n      <td>08:00:00</td>\n      <td>2023-11-18</td>\n      <td>04:30:00</td>\n      <td>2023-11-18</td>\n      <td>08:00:00</td>\n      <td>\\N</td>\n      <td>\\N</td>\n    </tr>\n    <tr>\n      <th>1100</th>\n      <td>1120</td>\n      <td>2023</td>\n      <td>22</td>\n      <td>24</td>\n      <td>Abu Dhabi Grand Prix</td>\n      <td>2023-11-26</td>\n      <td>13:00:00</td>\n      <td>https://en.wikipedia.org/wiki/2023_Abu_Dhabi_G...</td>\n      <td>2023-11-24</td>\n      <td>09:30:00</td>\n      <td>2023-11-24</td>\n      <td>13:00:00</td>\n      <td>2023-11-25</td>\n      <td>10:30:00</td>\n      <td>2023-11-25</td>\n      <td>14:00:00</td>\n      <td>\\N</td>\n      <td>\\N</td>\n    </tr>\n  </tbody>\n</table>\n<p>1101 rows × 18 columns</p>\n</div>"
     },
     "execution_count": 11,
     "metadata": {},
     "output_type": "execute_result"
    }
   ],
   "source": [
    "races = pd.read_csv(\"races.csv\")\n",
    "races"
   ],
   "metadata": {
    "collapsed": false,
    "ExecuteTime": {
     "end_time": "2023-07-21T08:09:35.652052Z",
     "start_time": "2023-07-21T08:09:35.638038Z"
    }
   }
  },
  {
   "cell_type": "code",
   "execution_count": 14,
   "outputs": [
    {
     "data": {
      "text/plain": "                 count          mean          std  min      25%      50%  \\\nresultId       26040.0  13021.366321  7518.454114  1.0  6510.75  13020.5   \nraceId         26040.0    535.815783   302.433898  1.0   294.00    518.0   \ndriverId       26040.0    265.528303   271.941384  1.0    57.00    163.0   \nconstructorId  26040.0     48.988326    60.140682  1.0     6.00     25.0   \ngrid           26040.0     11.169355     7.234649  0.0     5.00     11.0   \npositionOrder  26040.0     12.857757     7.702111  1.0     6.00     12.0   \npoints         26040.0      1.901730     4.211471  0.0     0.00      0.0   \nlaps           26040.0     46.068088    29.738227  0.0    22.00     53.0   \nstatusId       26040.0     17.477343    26.107039  1.0     1.00     10.0   \n\n                    75%      max  \nresultId       19530.25  26045.0  \nraceId           790.00   1108.0  \ndriverId         364.00    858.0  \nconstructorId     58.00    214.0  \ngrid              17.00     34.0  \npositionOrder     18.00     39.0  \npoints             2.00     50.0  \nlaps              66.00    200.0  \nstatusId          14.00    141.0  ",
      "text/html": "<div>\n<style scoped>\n    .dataframe tbody tr th:only-of-type {\n        vertical-align: middle;\n    }\n\n    .dataframe tbody tr th {\n        vertical-align: top;\n    }\n\n    .dataframe thead th {\n        text-align: right;\n    }\n</style>\n<table border=\"1\" class=\"dataframe\">\n  <thead>\n    <tr style=\"text-align: right;\">\n      <th></th>\n      <th>count</th>\n      <th>mean</th>\n      <th>std</th>\n      <th>min</th>\n      <th>25%</th>\n      <th>50%</th>\n      <th>75%</th>\n      <th>max</th>\n    </tr>\n  </thead>\n  <tbody>\n    <tr>\n      <th>resultId</th>\n      <td>26040.0</td>\n      <td>13021.366321</td>\n      <td>7518.454114</td>\n      <td>1.0</td>\n      <td>6510.75</td>\n      <td>13020.5</td>\n      <td>19530.25</td>\n      <td>26045.0</td>\n    </tr>\n    <tr>\n      <th>raceId</th>\n      <td>26040.0</td>\n      <td>535.815783</td>\n      <td>302.433898</td>\n      <td>1.0</td>\n      <td>294.00</td>\n      <td>518.0</td>\n      <td>790.00</td>\n      <td>1108.0</td>\n    </tr>\n    <tr>\n      <th>driverId</th>\n      <td>26040.0</td>\n      <td>265.528303</td>\n      <td>271.941384</td>\n      <td>1.0</td>\n      <td>57.00</td>\n      <td>163.0</td>\n      <td>364.00</td>\n      <td>858.0</td>\n    </tr>\n    <tr>\n      <th>constructorId</th>\n      <td>26040.0</td>\n      <td>48.988326</td>\n      <td>60.140682</td>\n      <td>1.0</td>\n      <td>6.00</td>\n      <td>25.0</td>\n      <td>58.00</td>\n      <td>214.0</td>\n    </tr>\n    <tr>\n      <th>grid</th>\n      <td>26040.0</td>\n      <td>11.169355</td>\n      <td>7.234649</td>\n      <td>0.0</td>\n      <td>5.00</td>\n      <td>11.0</td>\n      <td>17.00</td>\n      <td>34.0</td>\n    </tr>\n    <tr>\n      <th>positionOrder</th>\n      <td>26040.0</td>\n      <td>12.857757</td>\n      <td>7.702111</td>\n      <td>1.0</td>\n      <td>6.00</td>\n      <td>12.0</td>\n      <td>18.00</td>\n      <td>39.0</td>\n    </tr>\n    <tr>\n      <th>points</th>\n      <td>26040.0</td>\n      <td>1.901730</td>\n      <td>4.211471</td>\n      <td>0.0</td>\n      <td>0.00</td>\n      <td>0.0</td>\n      <td>2.00</td>\n      <td>50.0</td>\n    </tr>\n    <tr>\n      <th>laps</th>\n      <td>26040.0</td>\n      <td>46.068088</td>\n      <td>29.738227</td>\n      <td>0.0</td>\n      <td>22.00</td>\n      <td>53.0</td>\n      <td>66.00</td>\n      <td>200.0</td>\n    </tr>\n    <tr>\n      <th>statusId</th>\n      <td>26040.0</td>\n      <td>17.477343</td>\n      <td>26.107039</td>\n      <td>1.0</td>\n      <td>1.00</td>\n      <td>10.0</td>\n      <td>14.00</td>\n      <td>141.0</td>\n    </tr>\n  </tbody>\n</table>\n</div>"
     },
     "execution_count": 14,
     "metadata": {},
     "output_type": "execute_result"
    }
   ],
   "source": [
    "results = pd.read_csv(\"results.csv\")\n",
    "results.describe().T"
   ],
   "metadata": {
    "collapsed": false,
    "ExecuteTime": {
     "end_time": "2023-07-21T08:10:36.130532Z",
     "start_time": "2023-07-21T08:10:36.075568Z"
    }
   }
  },
  {
   "cell_type": "code",
   "execution_count": 15,
   "outputs": [
    {
     "data": {
      "text/plain": "    year                                                url\n0   2009  http://en.wikipedia.org/wiki/2009_Formula_One_...\n1   2008  http://en.wikipedia.org/wiki/2008_Formula_One_...\n2   2007  http://en.wikipedia.org/wiki/2007_Formula_One_...\n3   2006  http://en.wikipedia.org/wiki/2006_Formula_One_...\n4   2005  http://en.wikipedia.org/wiki/2005_Formula_One_...\n..   ...                                                ...\n69  2019  http://en.wikipedia.org/wiki/2019_Formula_One_...\n70  2020  http://en.wikipedia.org/wiki/2020_Formula_One_...\n71  2021  http://en.wikipedia.org/wiki/2021_Formula_One_...\n72  2022  http://en.wikipedia.org/wiki/2022_Formula_One_...\n73  2023  https://en.wikipedia.org/wiki/2023_Formula_One...\n\n[74 rows x 2 columns]",
      "text/html": "<div>\n<style scoped>\n    .dataframe tbody tr th:only-of-type {\n        vertical-align: middle;\n    }\n\n    .dataframe tbody tr th {\n        vertical-align: top;\n    }\n\n    .dataframe thead th {\n        text-align: right;\n    }\n</style>\n<table border=\"1\" class=\"dataframe\">\n  <thead>\n    <tr style=\"text-align: right;\">\n      <th></th>\n      <th>year</th>\n      <th>url</th>\n    </tr>\n  </thead>\n  <tbody>\n    <tr>\n      <th>0</th>\n      <td>2009</td>\n      <td>http://en.wikipedia.org/wiki/2009_Formula_One_...</td>\n    </tr>\n    <tr>\n      <th>1</th>\n      <td>2008</td>\n      <td>http://en.wikipedia.org/wiki/2008_Formula_One_...</td>\n    </tr>\n    <tr>\n      <th>2</th>\n      <td>2007</td>\n      <td>http://en.wikipedia.org/wiki/2007_Formula_One_...</td>\n    </tr>\n    <tr>\n      <th>3</th>\n      <td>2006</td>\n      <td>http://en.wikipedia.org/wiki/2006_Formula_One_...</td>\n    </tr>\n    <tr>\n      <th>4</th>\n      <td>2005</td>\n      <td>http://en.wikipedia.org/wiki/2005_Formula_One_...</td>\n    </tr>\n    <tr>\n      <th>...</th>\n      <td>...</td>\n      <td>...</td>\n    </tr>\n    <tr>\n      <th>69</th>\n      <td>2019</td>\n      <td>http://en.wikipedia.org/wiki/2019_Formula_One_...</td>\n    </tr>\n    <tr>\n      <th>70</th>\n      <td>2020</td>\n      <td>http://en.wikipedia.org/wiki/2020_Formula_One_...</td>\n    </tr>\n    <tr>\n      <th>71</th>\n      <td>2021</td>\n      <td>http://en.wikipedia.org/wiki/2021_Formula_One_...</td>\n    </tr>\n    <tr>\n      <th>72</th>\n      <td>2022</td>\n      <td>http://en.wikipedia.org/wiki/2022_Formula_One_...</td>\n    </tr>\n    <tr>\n      <th>73</th>\n      <td>2023</td>\n      <td>https://en.wikipedia.org/wiki/2023_Formula_One...</td>\n    </tr>\n  </tbody>\n</table>\n<p>74 rows × 2 columns</p>\n</div>"
     },
     "execution_count": 15,
     "metadata": {},
     "output_type": "execute_result"
    }
   ],
   "source": [
    "seasons = pd.read_csv(\"seasons.csv\")\n",
    "seasons"
   ],
   "metadata": {
    "collapsed": false,
    "ExecuteTime": {
     "end_time": "2023-07-21T08:11:04.015195Z",
     "start_time": "2023-07-21T08:11:04.007149Z"
    }
   }
  },
  {
   "cell_type": "code",
   "execution_count": 16,
   "outputs": [
    {
     "data": {
      "text/plain": "     resultId  raceId  driverId  constructorId  number  grid position  \\\n0           1    1061       830              9      33     2        1   \n1           2    1061         1            131      44     1        2   \n2           3    1061       822            131      77     3        3   \n3           4    1061       844              6      16     4        4   \n4           5    1061       846              1       4     6        5   \n..        ...     ...       ...            ...     ...   ...      ...   \n155       156    1107       852            213      22    13       16   \n156       157    1107       856            213      21    14       17   \n157       158    1107       858              3       2    20       18   \n158       159    1107       855             51      24    16       19   \n159       160    1107       822             51      77     0       20   \n\n    positionText  positionOrder  points  laps       time milliseconds  \\\n0              1              1       3    17  25:38.426      1538426   \n1              2              2       2    17     +1.430      1539856   \n2              3              3       1    17     +7.502      1545928   \n3              4              4       0    17    +11.278      1549704   \n4              5              5       0    17    +24.111      1562537   \n..           ...            ...     ...   ...        ...          ...   \n155           16             16       0    24  +1:04.822      1891552   \n156           17             17       0    24  +1:05.617      1892347   \n157           18             18       0    24  +1:06.059      1892789   \n158           19             19       0    24  +1:10.825      1897555   \n159           20             20       0    24  +1:16.435      1903165   \n\n    fastestLap fastestLapTime  statusId  \n0           14       1:30.013         1  \n1           17       1:29.937         1  \n2           17       1:29.958         1  \n3           16       1:30.163         1  \n4           16       1:30.566         1  \n..         ...            ...       ...  \n155         23       1:11.363         1  \n156         22       1:11.701         1  \n157         21       1:11.829         1  \n158         22       1:11.305         1  \n159         22       1:16.758         1  \n\n[160 rows x 16 columns]",
      "text/html": "<div>\n<style scoped>\n    .dataframe tbody tr th:only-of-type {\n        vertical-align: middle;\n    }\n\n    .dataframe tbody tr th {\n        vertical-align: top;\n    }\n\n    .dataframe thead th {\n        text-align: right;\n    }\n</style>\n<table border=\"1\" class=\"dataframe\">\n  <thead>\n    <tr style=\"text-align: right;\">\n      <th></th>\n      <th>resultId</th>\n      <th>raceId</th>\n      <th>driverId</th>\n      <th>constructorId</th>\n      <th>number</th>\n      <th>grid</th>\n      <th>position</th>\n      <th>positionText</th>\n      <th>positionOrder</th>\n      <th>points</th>\n      <th>laps</th>\n      <th>time</th>\n      <th>milliseconds</th>\n      <th>fastestLap</th>\n      <th>fastestLapTime</th>\n      <th>statusId</th>\n    </tr>\n  </thead>\n  <tbody>\n    <tr>\n      <th>0</th>\n      <td>1</td>\n      <td>1061</td>\n      <td>830</td>\n      <td>9</td>\n      <td>33</td>\n      <td>2</td>\n      <td>1</td>\n      <td>1</td>\n      <td>1</td>\n      <td>3</td>\n      <td>17</td>\n      <td>25:38.426</td>\n      <td>1538426</td>\n      <td>14</td>\n      <td>1:30.013</td>\n      <td>1</td>\n    </tr>\n    <tr>\n      <th>1</th>\n      <td>2</td>\n      <td>1061</td>\n      <td>1</td>\n      <td>131</td>\n      <td>44</td>\n      <td>1</td>\n      <td>2</td>\n      <td>2</td>\n      <td>2</td>\n      <td>2</td>\n      <td>17</td>\n      <td>+1.430</td>\n      <td>1539856</td>\n      <td>17</td>\n      <td>1:29.937</td>\n      <td>1</td>\n    </tr>\n    <tr>\n      <th>2</th>\n      <td>3</td>\n      <td>1061</td>\n      <td>822</td>\n      <td>131</td>\n      <td>77</td>\n      <td>3</td>\n      <td>3</td>\n      <td>3</td>\n      <td>3</td>\n      <td>1</td>\n      <td>17</td>\n      <td>+7.502</td>\n      <td>1545928</td>\n      <td>17</td>\n      <td>1:29.958</td>\n      <td>1</td>\n    </tr>\n    <tr>\n      <th>3</th>\n      <td>4</td>\n      <td>1061</td>\n      <td>844</td>\n      <td>6</td>\n      <td>16</td>\n      <td>4</td>\n      <td>4</td>\n      <td>4</td>\n      <td>4</td>\n      <td>0</td>\n      <td>17</td>\n      <td>+11.278</td>\n      <td>1549704</td>\n      <td>16</td>\n      <td>1:30.163</td>\n      <td>1</td>\n    </tr>\n    <tr>\n      <th>4</th>\n      <td>5</td>\n      <td>1061</td>\n      <td>846</td>\n      <td>1</td>\n      <td>4</td>\n      <td>6</td>\n      <td>5</td>\n      <td>5</td>\n      <td>5</td>\n      <td>0</td>\n      <td>17</td>\n      <td>+24.111</td>\n      <td>1562537</td>\n      <td>16</td>\n      <td>1:30.566</td>\n      <td>1</td>\n    </tr>\n    <tr>\n      <th>...</th>\n      <td>...</td>\n      <td>...</td>\n      <td>...</td>\n      <td>...</td>\n      <td>...</td>\n      <td>...</td>\n      <td>...</td>\n      <td>...</td>\n      <td>...</td>\n      <td>...</td>\n      <td>...</td>\n      <td>...</td>\n      <td>...</td>\n      <td>...</td>\n      <td>...</td>\n      <td>...</td>\n    </tr>\n    <tr>\n      <th>155</th>\n      <td>156</td>\n      <td>1107</td>\n      <td>852</td>\n      <td>213</td>\n      <td>22</td>\n      <td>13</td>\n      <td>16</td>\n      <td>16</td>\n      <td>16</td>\n      <td>0</td>\n      <td>24</td>\n      <td>+1:04.822</td>\n      <td>1891552</td>\n      <td>23</td>\n      <td>1:11.363</td>\n      <td>1</td>\n    </tr>\n    <tr>\n      <th>156</th>\n      <td>157</td>\n      <td>1107</td>\n      <td>856</td>\n      <td>213</td>\n      <td>21</td>\n      <td>14</td>\n      <td>17</td>\n      <td>17</td>\n      <td>17</td>\n      <td>0</td>\n      <td>24</td>\n      <td>+1:05.617</td>\n      <td>1892347</td>\n      <td>22</td>\n      <td>1:11.701</td>\n      <td>1</td>\n    </tr>\n    <tr>\n      <th>157</th>\n      <td>158</td>\n      <td>1107</td>\n      <td>858</td>\n      <td>3</td>\n      <td>2</td>\n      <td>20</td>\n      <td>18</td>\n      <td>18</td>\n      <td>18</td>\n      <td>0</td>\n      <td>24</td>\n      <td>+1:06.059</td>\n      <td>1892789</td>\n      <td>21</td>\n      <td>1:11.829</td>\n      <td>1</td>\n    </tr>\n    <tr>\n      <th>158</th>\n      <td>159</td>\n      <td>1107</td>\n      <td>855</td>\n      <td>51</td>\n      <td>24</td>\n      <td>16</td>\n      <td>19</td>\n      <td>19</td>\n      <td>19</td>\n      <td>0</td>\n      <td>24</td>\n      <td>+1:10.825</td>\n      <td>1897555</td>\n      <td>22</td>\n      <td>1:11.305</td>\n      <td>1</td>\n    </tr>\n    <tr>\n      <th>159</th>\n      <td>160</td>\n      <td>1107</td>\n      <td>822</td>\n      <td>51</td>\n      <td>77</td>\n      <td>0</td>\n      <td>20</td>\n      <td>20</td>\n      <td>20</td>\n      <td>0</td>\n      <td>24</td>\n      <td>+1:16.435</td>\n      <td>1903165</td>\n      <td>22</td>\n      <td>1:16.758</td>\n      <td>1</td>\n    </tr>\n  </tbody>\n</table>\n<p>160 rows × 16 columns</p>\n</div>"
     },
     "execution_count": 16,
     "metadata": {},
     "output_type": "execute_result"
    }
   ],
   "source": [
    "sprint_results = pd.read_csv(\"sprint_results.csv\")\n",
    "sprint_results"
   ],
   "metadata": {
    "collapsed": false,
    "ExecuteTime": {
     "end_time": "2023-07-21T08:11:35.296971Z",
     "start_time": "2023-07-21T08:11:35.284828Z"
    }
   }
  },
  {
   "cell_type": "code",
   "execution_count": 17,
   "outputs": [
    {
     "data": {
      "text/plain": "     statusId          status\n0           1        Finished\n1           2    Disqualified\n2           3        Accident\n3           4       Collision\n4           5          Engine\n..        ...             ...\n134       137          Damage\n135       138          Debris\n136       139         Illness\n137       140       Undertray\n138       141  Cooling system\n\n[139 rows x 2 columns]",
      "text/html": "<div>\n<style scoped>\n    .dataframe tbody tr th:only-of-type {\n        vertical-align: middle;\n    }\n\n    .dataframe tbody tr th {\n        vertical-align: top;\n    }\n\n    .dataframe thead th {\n        text-align: right;\n    }\n</style>\n<table border=\"1\" class=\"dataframe\">\n  <thead>\n    <tr style=\"text-align: right;\">\n      <th></th>\n      <th>statusId</th>\n      <th>status</th>\n    </tr>\n  </thead>\n  <tbody>\n    <tr>\n      <th>0</th>\n      <td>1</td>\n      <td>Finished</td>\n    </tr>\n    <tr>\n      <th>1</th>\n      <td>2</td>\n      <td>Disqualified</td>\n    </tr>\n    <tr>\n      <th>2</th>\n      <td>3</td>\n      <td>Accident</td>\n    </tr>\n    <tr>\n      <th>3</th>\n      <td>4</td>\n      <td>Collision</td>\n    </tr>\n    <tr>\n      <th>4</th>\n      <td>5</td>\n      <td>Engine</td>\n    </tr>\n    <tr>\n      <th>...</th>\n      <td>...</td>\n      <td>...</td>\n    </tr>\n    <tr>\n      <th>134</th>\n      <td>137</td>\n      <td>Damage</td>\n    </tr>\n    <tr>\n      <th>135</th>\n      <td>138</td>\n      <td>Debris</td>\n    </tr>\n    <tr>\n      <th>136</th>\n      <td>139</td>\n      <td>Illness</td>\n    </tr>\n    <tr>\n      <th>137</th>\n      <td>140</td>\n      <td>Undertray</td>\n    </tr>\n    <tr>\n      <th>138</th>\n      <td>141</td>\n      <td>Cooling system</td>\n    </tr>\n  </tbody>\n</table>\n<p>139 rows × 2 columns</p>\n</div>"
     },
     "execution_count": 17,
     "metadata": {},
     "output_type": "execute_result"
    }
   ],
   "source": [
    "status = pd.read_csv(\"status.csv\")\n",
    "status"
   ],
   "metadata": {
    "collapsed": false,
    "ExecuteTime": {
     "end_time": "2023-07-21T08:11:52.069763Z",
     "start_time": "2023-07-21T08:11:52.066058Z"
    }
   }
  },
  {
   "cell_type": "code",
   "execution_count": null,
   "outputs": [],
   "source": [],
   "metadata": {
    "collapsed": false
   }
  }
 ],
 "metadata": {
  "kernelspec": {
   "display_name": "Python 3",
   "language": "python",
   "name": "python3"
  },
  "language_info": {
   "codemirror_mode": {
    "name": "ipython",
    "version": 2
   },
   "file_extension": ".py",
   "mimetype": "text/x-python",
   "name": "python",
   "nbconvert_exporter": "python",
   "pygments_lexer": "ipython2",
   "version": "2.7.6"
  }
 },
 "nbformat": 4,
 "nbformat_minor": 0
}
