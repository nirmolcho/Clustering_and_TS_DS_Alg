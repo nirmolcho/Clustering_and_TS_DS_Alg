{
 "cells": [
  {
   "cell_type": "code",
   "execution_count": 2,
   "outputs": [
    {
     "name": "stderr",
     "output_type": "stream",
     "text": [
      "/Users/nirmolcho/opt/anaconda3/final_task_df/lib/python3.9/site-packages/urllib3/__init__.py:34: NotOpenSSLWarning: urllib3 v2.0 only supports OpenSSL 1.1.1+, currently the 'ssl' module is compiled with 'LibreSSL 2.8.3'. See: https://github.com/urllib3/urllib3/issues/3020\n",
      "  warnings.warn(\n"
     ]
    }
   ],
   "source": [
    "import yfinance as yf\n",
    "import pandas as pd\n",
    "import numpy as np\n",
    "import matplotlib.pyplot as plt\n",
    "import seaborn as sns\n",
    "import os\n",
    "import re\n",
    "import pickle\n",
    "import time\n",
    "import datetime\n",
    "\n",
    "import warnings\n",
    "warnings.filterwarnings('ignore')"
   ],
   "metadata": {
    "collapsed": false,
    "ExecuteTime": {
     "end_time": "2023-08-23T11:08:49.227107Z",
     "start_time": "2023-08-23T11:08:47.897431Z"
    }
   },
   "id": "3261c056ed70b24a"
  },
  {
   "cell_type": "code",
   "execution_count": 3,
   "outputs": [],
   "source": [
    "s_p500_df = pd.read_csv(\"final_s&p500_df.csv\")"
   ],
   "metadata": {
    "collapsed": false,
    "ExecuteTime": {
     "end_time": "2023-08-23T11:08:49.562187Z",
     "start_time": "2023-08-23T11:08:49.228137Z"
    }
   },
   "id": "6dd80a63cdfe86f9"
  },
  {
   "cell_type": "code",
   "execution_count": 21,
   "outputs": [
    {
     "name": "stdout",
     "output_type": "stream",
     "text": [
      "<class 'pandas.core.frame.DataFrame'>\n",
      "RangeIndex: 378557 entries, 0 to 378556\n",
      "Data columns (total 14 columns):\n",
      " #   Column               Non-Null Count   Dtype  \n",
      "---  ------               --------------   -----  \n",
      " 0   Ticker               378557 non-null  object \n",
      " 1   Open                 378557 non-null  float64\n",
      " 2   High                 378557 non-null  float64\n",
      " 3   Low                  378557 non-null  float64\n",
      " 4   Close                378557 non-null  float64\n",
      " 5   Adj Close            378557 non-null  float64\n",
      " 6   Volume               378557 non-null  int64  \n",
      " 7   Holder               377801 non-null  object \n",
      " 8   Holder_%_in_company  352097 non-null  float64\n",
      " 9   Industry             321445 non-null  object \n",
      " 10  Dividend_Value       378557 non-null  float64\n",
      " 11  day_holder_bought    378557 non-null  int64  \n",
      " 12  month_holder_bought  378557 non-null  int64  \n",
      " 13  year_holder_bought   378557 non-null  int64  \n",
      "dtypes: float64(7), int64(4), object(3)\n",
      "memory usage: 40.4+ MB\n"
     ]
    }
   ],
   "source": [
    "s_p500_df.info()"
   ],
   "metadata": {
    "collapsed": false,
    "ExecuteTime": {
     "end_time": "2023-08-23T12:20:14.744773Z",
     "start_time": "2023-08-23T12:20:14.709226Z"
    }
   },
   "id": "6c78247925ed3d67"
  },
  {
   "cell_type": "code",
   "execution_count": 22,
   "outputs": [],
   "source": [
    "only_stocks = s_p500_df.drop(['Holder','Holder_%_in_company','day_holder_bought','month_holder_bought','year_holder_bought'],axis=1)"
   ],
   "metadata": {
    "collapsed": false,
    "ExecuteTime": {
     "end_time": "2023-08-23T12:21:31.665532Z",
     "start_time": "2023-08-23T12:21:31.646089Z"
    }
   },
   "id": "ac09e61b026f97fc"
  },
  {
   "cell_type": "code",
   "execution_count": 23,
   "outputs": [
    {
     "name": "stdout",
     "output_type": "stream",
     "text": [
      "<class 'pandas.core.frame.DataFrame'>\n",
      "RangeIndex: 378557 entries, 0 to 378556\n",
      "Data columns (total 9 columns):\n",
      " #   Column          Non-Null Count   Dtype  \n",
      "---  ------          --------------   -----  \n",
      " 0   Ticker          378557 non-null  object \n",
      " 1   Open            378557 non-null  float64\n",
      " 2   High            378557 non-null  float64\n",
      " 3   Low             378557 non-null  float64\n",
      " 4   Close           378557 non-null  float64\n",
      " 5   Adj Close       378557 non-null  float64\n",
      " 6   Volume          378557 non-null  int64  \n",
      " 7   Industry        321445 non-null  object \n",
      " 8   Dividend_Value  378557 non-null  float64\n",
      "dtypes: float64(6), int64(1), object(2)\n",
      "memory usage: 26.0+ MB\n"
     ]
    }
   ],
   "source": [
    "only_stocks.info()"
   ],
   "metadata": {
    "collapsed": false,
    "ExecuteTime": {
     "end_time": "2023-08-23T12:21:33.638495Z",
     "start_time": "2023-08-23T12:21:33.629888Z"
    }
   },
   "id": "64782ec0b79c0a16"
  },
  {
   "cell_type": "code",
   "execution_count": 31,
   "outputs": [
    {
     "data": {
      "text/plain": "                                                        2022-09-30  \\\nOrdinary Shares Number                               15943425000.0   \nShare Issued                                         15943425000.0   \nNet Debt                                             96423000000.0   \nTotal Debt                                          120069000000.0   \nTangible Book Value                                  50672000000.0   \nInvested Capital                                    170741000000.0   \nWorking Capital                                     -18577000000.0   \nNet Tangible Assets                                  50672000000.0   \nCommon Stock Equity                                  50672000000.0   \nTotal Capitalization                                149631000000.0   \nTotal Equity Gross Minority Interest                 50672000000.0   \nStockholders Equity                                  50672000000.0   \nGains Losses Not Affecting Retained Earnings        -11109000000.0   \nRetained Earnings                                    -3068000000.0   \nCapital Stock                                        64849000000.0   \nCommon Stock                                         64849000000.0   \nTotal Liabilities Net Minority Interest             302083000000.0   \nTotal Non Current Liabilities Net Minority Inte...  148101000000.0   \nOther Non Current Liabilities                        49142000000.0   \nTradeand Other Payables Non Current                  16657000000.0   \nLong Term Debt And Capital Lease Obligation          98959000000.0   \nLong Term Debt                                       98959000000.0   \nCurrent Liabilities                                 153982000000.0   \nOther Current Liabilities                            60845000000.0   \nCurrent Deferred Liabilities                          7912000000.0   \nCurrent Deferred Revenue                              7912000000.0   \nCurrent Debt And Capital Lease Obligation            21110000000.0   \nCurrent Debt                                         21110000000.0   \nOther Current Borrowings                             11128000000.0   \nCommercial Paper                                      9982000000.0   \nPayables And Accrued Expenses                        64115000000.0   \nPayables                                             64115000000.0   \nAccounts Payable                                     64115000000.0   \nTotal Assets                                        352755000000.0   \nTotal Non Current Assets                            217350000000.0   \nOther Non Current Assets                             54428000000.0   \nInvestments And Advances                            120805000000.0   \nOther Investments                                   120805000000.0   \nInvestmentin Financial Assets                       120805000000.0   \nAvailable For Sale Securities                       120805000000.0   \nNet PPE                                              42117000000.0   \nAccumulated Depreciation                            -72340000000.0   \nGross PPE                                           114457000000.0   \nLeases                                               11271000000.0   \nMachinery Furniture Equipment                        81060000000.0   \nLand And Improvements                                22126000000.0   \nProperties                                                     0.0   \nCurrent Assets                                      135405000000.0   \nOther Current Assets                                 21223000000.0   \nInventory                                             4946000000.0   \nReceivables                                          60932000000.0   \nOther Receivables                                    32748000000.0   \nAccounts Receivable                                  28184000000.0   \nCash Cash Equivalents And Short Term Investments     48304000000.0   \nOther Short Term Investments                         24658000000.0   \nCash And Cash Equivalents                            23646000000.0   \nCash Equivalents                                      5100000000.0   \nCash Financial                                       18546000000.0   \n\n                                                        2021-09-30  \\\nOrdinary Shares Number                               16426786000.0   \nShare Issued                                         16426786000.0   \nNet Debt                                             89779000000.0   \nTotal Debt                                          124719000000.0   \nTangible Book Value                                  63090000000.0   \nInvested Capital                                    187809000000.0   \nWorking Capital                                       9355000000.0   \nNet Tangible Assets                                  63090000000.0   \nCommon Stock Equity                                  63090000000.0   \nTotal Capitalization                                172196000000.0   \nTotal Equity Gross Minority Interest                 63090000000.0   \nStockholders Equity                                  63090000000.0   \nGains Losses Not Affecting Retained Earnings           163000000.0   \nRetained Earnings                                     5562000000.0   \nCapital Stock                                        57365000000.0   \nCommon Stock                                         57365000000.0   \nTotal Liabilities Net Minority Interest             287912000000.0   \nTotal Non Current Liabilities Net Minority Inte...  162431000000.0   \nOther Non Current Liabilities                        53325000000.0   \nTradeand Other Payables Non Current                  24689000000.0   \nLong Term Debt And Capital Lease Obligation         109106000000.0   \nLong Term Debt                                      109106000000.0   \nCurrent Liabilities                                 125481000000.0   \nOther Current Liabilities                            47493000000.0   \nCurrent Deferred Liabilities                          7612000000.0   \nCurrent Deferred Revenue                              7612000000.0   \nCurrent Debt And Capital Lease Obligation            15613000000.0   \nCurrent Debt                                         15613000000.0   \nOther Current Borrowings                              9613000000.0   \nCommercial Paper                                      6000000000.0   \nPayables And Accrued Expenses                        54763000000.0   \nPayables                                             54763000000.0   \nAccounts Payable                                     54763000000.0   \nTotal Assets                                        351002000000.0   \nTotal Non Current Assets                            216166000000.0   \nOther Non Current Assets                             48849000000.0   \nInvestments And Advances                            127877000000.0   \nOther Investments                                   127877000000.0   \nInvestmentin Financial Assets                       127877000000.0   \nAvailable For Sale Securities                       127877000000.0   \nNet PPE                                              39440000000.0   \nAccumulated Depreciation                            -70283000000.0   \nGross PPE                                           109723000000.0   \nLeases                                               11023000000.0   \nMachinery Furniture Equipment                        78659000000.0   \nLand And Improvements                                20041000000.0   \nProperties                                                     0.0   \nCurrent Assets                                      134836000000.0   \nOther Current Assets                                 14111000000.0   \nInventory                                             6580000000.0   \nReceivables                                          51506000000.0   \nOther Receivables                                    25228000000.0   \nAccounts Receivable                                  26278000000.0   \nCash Cash Equivalents And Short Term Investments     62639000000.0   \nOther Short Term Investments                         27699000000.0   \nCash And Cash Equivalents                            34940000000.0   \nCash Equivalents                                     17635000000.0   \nCash Financial                                       17305000000.0   \n\n                                                        2020-09-30  \\\nOrdinary Shares Number                               16976763000.0   \nShare Issued                                         16976763000.0   \nNet Debt                                             74420000000.0   \nTotal Debt                                          112436000000.0   \nTangible Book Value                                  65339000000.0   \nInvested Capital                                    177775000000.0   \nWorking Capital                                      38321000000.0   \nNet Tangible Assets                                  65339000000.0   \nCommon Stock Equity                                  65339000000.0   \nTotal Capitalization                                164006000000.0   \nTotal Equity Gross Minority Interest                 65339000000.0   \nStockholders Equity                                  65339000000.0   \nGains Losses Not Affecting Retained Earnings          -406000000.0   \nRetained Earnings                                    14966000000.0   \nCapital Stock                                        50779000000.0   \nCommon Stock                                         50779000000.0   \nTotal Liabilities Net Minority Interest             258549000000.0   \nTotal Non Current Liabilities Net Minority Inte...  153157000000.0   \nOther Non Current Liabilities                        54490000000.0   \nTradeand Other Payables Non Current                  28170000000.0   \nLong Term Debt And Capital Lease Obligation          98667000000.0   \nLong Term Debt                                       98667000000.0   \nCurrent Liabilities                                 105392000000.0   \nOther Current Liabilities                            42684000000.0   \nCurrent Deferred Liabilities                          6643000000.0   \nCurrent Deferred Revenue                              6643000000.0   \nCurrent Debt And Capital Lease Obligation            13769000000.0   \nCurrent Debt                                         13769000000.0   \nOther Current Borrowings                              8773000000.0   \nCommercial Paper                                      4996000000.0   \nPayables And Accrued Expenses                        42296000000.0   \nPayables                                             42296000000.0   \nAccounts Payable                                     42296000000.0   \nTotal Assets                                        323888000000.0   \nTotal Non Current Assets                            180175000000.0   \nOther Non Current Assets                             42522000000.0   \nInvestments And Advances                            100887000000.0   \nOther Investments                                   100887000000.0   \nInvestmentin Financial Assets                       100887000000.0   \nAvailable For Sale Securities                       100887000000.0   \nNet PPE                                              36766000000.0   \nAccumulated Depreciation                            -66760000000.0   \nGross PPE                                           103526000000.0   \nLeases                                               10283000000.0   \nMachinery Furniture Equipment                        75291000000.0   \nLand And Improvements                                17952000000.0   \nProperties                                                     0.0   \nCurrent Assets                                      143713000000.0   \nOther Current Assets                                 11264000000.0   \nInventory                                             4061000000.0   \nReceivables                                          37445000000.0   \nOther Receivables                                    21325000000.0   \nAccounts Receivable                                  16120000000.0   \nCash Cash Equivalents And Short Term Investments     90943000000.0   \nOther Short Term Investments                         52927000000.0   \nCash And Cash Equivalents                            38016000000.0   \nCash Equivalents                                     20243000000.0   \nCash Financial                                       17773000000.0   \n\n                                                        2019-09-30  \nOrdinary Shares Number                               17772944000.0  \nShare Issued                                         17772944000.0  \nNet Debt                                             59203000000.0  \nTotal Debt                                          108047000000.0  \nTangible Book Value                                  90488000000.0  \nInvested Capital                                    198535000000.0  \nWorking Capital                                      57101000000.0  \nNet Tangible Assets                                  90488000000.0  \nCommon Stock Equity                                  90488000000.0  \nTotal Capitalization                                182295000000.0  \nTotal Equity Gross Minority Interest                 90488000000.0  \nStockholders Equity                                  90488000000.0  \nGains Losses Not Affecting Retained Earnings          -584000000.0  \nRetained Earnings                                    45898000000.0  \nCapital Stock                                        45174000000.0  \nCommon Stock                                         45174000000.0  \nTotal Liabilities Net Minority Interest             248028000000.0  \nTotal Non Current Liabilities Net Minority Inte...  142310000000.0  \nOther Non Current Liabilities                        50503000000.0  \nTradeand Other Payables Non Current                  29545000000.0  \nLong Term Debt And Capital Lease Obligation          91807000000.0  \nLong Term Debt                                       91807000000.0  \nCurrent Liabilities                                 105718000000.0  \nOther Current Liabilities                            37720000000.0  \nCurrent Deferred Liabilities                          5522000000.0  \nCurrent Deferred Revenue                              5522000000.0  \nCurrent Debt And Capital Lease Obligation            16240000000.0  \nCurrent Debt                                         16240000000.0  \nOther Current Borrowings                             10260000000.0  \nCommercial Paper                                      5980000000.0  \nPayables And Accrued Expenses                        46236000000.0  \nPayables                                             46236000000.0  \nAccounts Payable                                     46236000000.0  \nTotal Assets                                        338516000000.0  \nTotal Non Current Assets                            175697000000.0  \nOther Non Current Assets                             32978000000.0  \nInvestments And Advances                            105341000000.0  \nOther Investments                                   105341000000.0  \nInvestmentin Financial Assets                       105341000000.0  \nAvailable For Sale Securities                       105341000000.0  \nNet PPE                                              37378000000.0  \nAccumulated Depreciation                            -58579000000.0  \nGross PPE                                            95957000000.0  \nLeases                                                9075000000.0  \nMachinery Furniture Equipment                        69797000000.0  \nLand And Improvements                                17085000000.0  \nProperties                                                     0.0  \nCurrent Assets                                      162819000000.0  \nOther Current Assets                                 12352000000.0  \nInventory                                             4106000000.0  \nReceivables                                          45804000000.0  \nOther Receivables                                    22878000000.0  \nAccounts Receivable                                  22926000000.0  \nCash Cash Equivalents And Short Term Investments    100557000000.0  \nOther Short Term Investments                         51713000000.0  \nCash And Cash Equivalents                            48844000000.0  \nCash Equivalents                                     36640000000.0  \nCash Financial                                       12204000000.0  ",
      "text/html": "<div>\n<style scoped>\n    .dataframe tbody tr th:only-of-type {\n        vertical-align: middle;\n    }\n\n    .dataframe tbody tr th {\n        vertical-align: top;\n    }\n\n    .dataframe thead th {\n        text-align: right;\n    }\n</style>\n<table border=\"1\" class=\"dataframe\">\n  <thead>\n    <tr style=\"text-align: right;\">\n      <th></th>\n      <th>2022-09-30</th>\n      <th>2021-09-30</th>\n      <th>2020-09-30</th>\n      <th>2019-09-30</th>\n    </tr>\n  </thead>\n  <tbody>\n    <tr>\n      <th>Ordinary Shares Number</th>\n      <td>15943425000.0</td>\n      <td>16426786000.0</td>\n      <td>16976763000.0</td>\n      <td>17772944000.0</td>\n    </tr>\n    <tr>\n      <th>Share Issued</th>\n      <td>15943425000.0</td>\n      <td>16426786000.0</td>\n      <td>16976763000.0</td>\n      <td>17772944000.0</td>\n    </tr>\n    <tr>\n      <th>Net Debt</th>\n      <td>96423000000.0</td>\n      <td>89779000000.0</td>\n      <td>74420000000.0</td>\n      <td>59203000000.0</td>\n    </tr>\n    <tr>\n      <th>Total Debt</th>\n      <td>120069000000.0</td>\n      <td>124719000000.0</td>\n      <td>112436000000.0</td>\n      <td>108047000000.0</td>\n    </tr>\n    <tr>\n      <th>Tangible Book Value</th>\n      <td>50672000000.0</td>\n      <td>63090000000.0</td>\n      <td>65339000000.0</td>\n      <td>90488000000.0</td>\n    </tr>\n    <tr>\n      <th>Invested Capital</th>\n      <td>170741000000.0</td>\n      <td>187809000000.0</td>\n      <td>177775000000.0</td>\n      <td>198535000000.0</td>\n    </tr>\n    <tr>\n      <th>Working Capital</th>\n      <td>-18577000000.0</td>\n      <td>9355000000.0</td>\n      <td>38321000000.0</td>\n      <td>57101000000.0</td>\n    </tr>\n    <tr>\n      <th>Net Tangible Assets</th>\n      <td>50672000000.0</td>\n      <td>63090000000.0</td>\n      <td>65339000000.0</td>\n      <td>90488000000.0</td>\n    </tr>\n    <tr>\n      <th>Common Stock Equity</th>\n      <td>50672000000.0</td>\n      <td>63090000000.0</td>\n      <td>65339000000.0</td>\n      <td>90488000000.0</td>\n    </tr>\n    <tr>\n      <th>Total Capitalization</th>\n      <td>149631000000.0</td>\n      <td>172196000000.0</td>\n      <td>164006000000.0</td>\n      <td>182295000000.0</td>\n    </tr>\n    <tr>\n      <th>Total Equity Gross Minority Interest</th>\n      <td>50672000000.0</td>\n      <td>63090000000.0</td>\n      <td>65339000000.0</td>\n      <td>90488000000.0</td>\n    </tr>\n    <tr>\n      <th>Stockholders Equity</th>\n      <td>50672000000.0</td>\n      <td>63090000000.0</td>\n      <td>65339000000.0</td>\n      <td>90488000000.0</td>\n    </tr>\n    <tr>\n      <th>Gains Losses Not Affecting Retained Earnings</th>\n      <td>-11109000000.0</td>\n      <td>163000000.0</td>\n      <td>-406000000.0</td>\n      <td>-584000000.0</td>\n    </tr>\n    <tr>\n      <th>Retained Earnings</th>\n      <td>-3068000000.0</td>\n      <td>5562000000.0</td>\n      <td>14966000000.0</td>\n      <td>45898000000.0</td>\n    </tr>\n    <tr>\n      <th>Capital Stock</th>\n      <td>64849000000.0</td>\n      <td>57365000000.0</td>\n      <td>50779000000.0</td>\n      <td>45174000000.0</td>\n    </tr>\n    <tr>\n      <th>Common Stock</th>\n      <td>64849000000.0</td>\n      <td>57365000000.0</td>\n      <td>50779000000.0</td>\n      <td>45174000000.0</td>\n    </tr>\n    <tr>\n      <th>Total Liabilities Net Minority Interest</th>\n      <td>302083000000.0</td>\n      <td>287912000000.0</td>\n      <td>258549000000.0</td>\n      <td>248028000000.0</td>\n    </tr>\n    <tr>\n      <th>Total Non Current Liabilities Net Minority Interest</th>\n      <td>148101000000.0</td>\n      <td>162431000000.0</td>\n      <td>153157000000.0</td>\n      <td>142310000000.0</td>\n    </tr>\n    <tr>\n      <th>Other Non Current Liabilities</th>\n      <td>49142000000.0</td>\n      <td>53325000000.0</td>\n      <td>54490000000.0</td>\n      <td>50503000000.0</td>\n    </tr>\n    <tr>\n      <th>Tradeand Other Payables Non Current</th>\n      <td>16657000000.0</td>\n      <td>24689000000.0</td>\n      <td>28170000000.0</td>\n      <td>29545000000.0</td>\n    </tr>\n    <tr>\n      <th>Long Term Debt And Capital Lease Obligation</th>\n      <td>98959000000.0</td>\n      <td>109106000000.0</td>\n      <td>98667000000.0</td>\n      <td>91807000000.0</td>\n    </tr>\n    <tr>\n      <th>Long Term Debt</th>\n      <td>98959000000.0</td>\n      <td>109106000000.0</td>\n      <td>98667000000.0</td>\n      <td>91807000000.0</td>\n    </tr>\n    <tr>\n      <th>Current Liabilities</th>\n      <td>153982000000.0</td>\n      <td>125481000000.0</td>\n      <td>105392000000.0</td>\n      <td>105718000000.0</td>\n    </tr>\n    <tr>\n      <th>Other Current Liabilities</th>\n      <td>60845000000.0</td>\n      <td>47493000000.0</td>\n      <td>42684000000.0</td>\n      <td>37720000000.0</td>\n    </tr>\n    <tr>\n      <th>Current Deferred Liabilities</th>\n      <td>7912000000.0</td>\n      <td>7612000000.0</td>\n      <td>6643000000.0</td>\n      <td>5522000000.0</td>\n    </tr>\n    <tr>\n      <th>Current Deferred Revenue</th>\n      <td>7912000000.0</td>\n      <td>7612000000.0</td>\n      <td>6643000000.0</td>\n      <td>5522000000.0</td>\n    </tr>\n    <tr>\n      <th>Current Debt And Capital Lease Obligation</th>\n      <td>21110000000.0</td>\n      <td>15613000000.0</td>\n      <td>13769000000.0</td>\n      <td>16240000000.0</td>\n    </tr>\n    <tr>\n      <th>Current Debt</th>\n      <td>21110000000.0</td>\n      <td>15613000000.0</td>\n      <td>13769000000.0</td>\n      <td>16240000000.0</td>\n    </tr>\n    <tr>\n      <th>Other Current Borrowings</th>\n      <td>11128000000.0</td>\n      <td>9613000000.0</td>\n      <td>8773000000.0</td>\n      <td>10260000000.0</td>\n    </tr>\n    <tr>\n      <th>Commercial Paper</th>\n      <td>9982000000.0</td>\n      <td>6000000000.0</td>\n      <td>4996000000.0</td>\n      <td>5980000000.0</td>\n    </tr>\n    <tr>\n      <th>Payables And Accrued Expenses</th>\n      <td>64115000000.0</td>\n      <td>54763000000.0</td>\n      <td>42296000000.0</td>\n      <td>46236000000.0</td>\n    </tr>\n    <tr>\n      <th>Payables</th>\n      <td>64115000000.0</td>\n      <td>54763000000.0</td>\n      <td>42296000000.0</td>\n      <td>46236000000.0</td>\n    </tr>\n    <tr>\n      <th>Accounts Payable</th>\n      <td>64115000000.0</td>\n      <td>54763000000.0</td>\n      <td>42296000000.0</td>\n      <td>46236000000.0</td>\n    </tr>\n    <tr>\n      <th>Total Assets</th>\n      <td>352755000000.0</td>\n      <td>351002000000.0</td>\n      <td>323888000000.0</td>\n      <td>338516000000.0</td>\n    </tr>\n    <tr>\n      <th>Total Non Current Assets</th>\n      <td>217350000000.0</td>\n      <td>216166000000.0</td>\n      <td>180175000000.0</td>\n      <td>175697000000.0</td>\n    </tr>\n    <tr>\n      <th>Other Non Current Assets</th>\n      <td>54428000000.0</td>\n      <td>48849000000.0</td>\n      <td>42522000000.0</td>\n      <td>32978000000.0</td>\n    </tr>\n    <tr>\n      <th>Investments And Advances</th>\n      <td>120805000000.0</td>\n      <td>127877000000.0</td>\n      <td>100887000000.0</td>\n      <td>105341000000.0</td>\n    </tr>\n    <tr>\n      <th>Other Investments</th>\n      <td>120805000000.0</td>\n      <td>127877000000.0</td>\n      <td>100887000000.0</td>\n      <td>105341000000.0</td>\n    </tr>\n    <tr>\n      <th>Investmentin Financial Assets</th>\n      <td>120805000000.0</td>\n      <td>127877000000.0</td>\n      <td>100887000000.0</td>\n      <td>105341000000.0</td>\n    </tr>\n    <tr>\n      <th>Available For Sale Securities</th>\n      <td>120805000000.0</td>\n      <td>127877000000.0</td>\n      <td>100887000000.0</td>\n      <td>105341000000.0</td>\n    </tr>\n    <tr>\n      <th>Net PPE</th>\n      <td>42117000000.0</td>\n      <td>39440000000.0</td>\n      <td>36766000000.0</td>\n      <td>37378000000.0</td>\n    </tr>\n    <tr>\n      <th>Accumulated Depreciation</th>\n      <td>-72340000000.0</td>\n      <td>-70283000000.0</td>\n      <td>-66760000000.0</td>\n      <td>-58579000000.0</td>\n    </tr>\n    <tr>\n      <th>Gross PPE</th>\n      <td>114457000000.0</td>\n      <td>109723000000.0</td>\n      <td>103526000000.0</td>\n      <td>95957000000.0</td>\n    </tr>\n    <tr>\n      <th>Leases</th>\n      <td>11271000000.0</td>\n      <td>11023000000.0</td>\n      <td>10283000000.0</td>\n      <td>9075000000.0</td>\n    </tr>\n    <tr>\n      <th>Machinery Furniture Equipment</th>\n      <td>81060000000.0</td>\n      <td>78659000000.0</td>\n      <td>75291000000.0</td>\n      <td>69797000000.0</td>\n    </tr>\n    <tr>\n      <th>Land And Improvements</th>\n      <td>22126000000.0</td>\n      <td>20041000000.0</td>\n      <td>17952000000.0</td>\n      <td>17085000000.0</td>\n    </tr>\n    <tr>\n      <th>Properties</th>\n      <td>0.0</td>\n      <td>0.0</td>\n      <td>0.0</td>\n      <td>0.0</td>\n    </tr>\n    <tr>\n      <th>Current Assets</th>\n      <td>135405000000.0</td>\n      <td>134836000000.0</td>\n      <td>143713000000.0</td>\n      <td>162819000000.0</td>\n    </tr>\n    <tr>\n      <th>Other Current Assets</th>\n      <td>21223000000.0</td>\n      <td>14111000000.0</td>\n      <td>11264000000.0</td>\n      <td>12352000000.0</td>\n    </tr>\n    <tr>\n      <th>Inventory</th>\n      <td>4946000000.0</td>\n      <td>6580000000.0</td>\n      <td>4061000000.0</td>\n      <td>4106000000.0</td>\n    </tr>\n    <tr>\n      <th>Receivables</th>\n      <td>60932000000.0</td>\n      <td>51506000000.0</td>\n      <td>37445000000.0</td>\n      <td>45804000000.0</td>\n    </tr>\n    <tr>\n      <th>Other Receivables</th>\n      <td>32748000000.0</td>\n      <td>25228000000.0</td>\n      <td>21325000000.0</td>\n      <td>22878000000.0</td>\n    </tr>\n    <tr>\n      <th>Accounts Receivable</th>\n      <td>28184000000.0</td>\n      <td>26278000000.0</td>\n      <td>16120000000.0</td>\n      <td>22926000000.0</td>\n    </tr>\n    <tr>\n      <th>Cash Cash Equivalents And Short Term Investments</th>\n      <td>48304000000.0</td>\n      <td>62639000000.0</td>\n      <td>90943000000.0</td>\n      <td>100557000000.0</td>\n    </tr>\n    <tr>\n      <th>Other Short Term Investments</th>\n      <td>24658000000.0</td>\n      <td>27699000000.0</td>\n      <td>52927000000.0</td>\n      <td>51713000000.0</td>\n    </tr>\n    <tr>\n      <th>Cash And Cash Equivalents</th>\n      <td>23646000000.0</td>\n      <td>34940000000.0</td>\n      <td>38016000000.0</td>\n      <td>48844000000.0</td>\n    </tr>\n    <tr>\n      <th>Cash Equivalents</th>\n      <td>5100000000.0</td>\n      <td>17635000000.0</td>\n      <td>20243000000.0</td>\n      <td>36640000000.0</td>\n    </tr>\n    <tr>\n      <th>Cash Financial</th>\n      <td>18546000000.0</td>\n      <td>17305000000.0</td>\n      <td>17773000000.0</td>\n      <td>12204000000.0</td>\n    </tr>\n  </tbody>\n</table>\n</div>"
     },
     "execution_count": 31,
     "metadata": {},
     "output_type": "execute_result"
    }
   ],
   "source": [
    "yf.Ticker('AAPL').balance_sheet"
   ],
   "metadata": {
    "collapsed": false,
    "ExecuteTime": {
     "end_time": "2023-08-23T12:28:40.547381Z",
     "start_time": "2023-08-23T12:28:40.018052Z"
    }
   },
   "id": "d14d36a3d375304d"
  },
  {
   "cell_type": "code",
   "execution_count": null,
   "outputs": [],
   "source": [],
   "metadata": {
    "collapsed": false
   },
   "id": "3de7deda4d61c859"
  }
 ],
 "metadata": {
  "kernelspec": {
   "display_name": "Python 3",
   "language": "python",
   "name": "python3"
  },
  "language_info": {
   "codemirror_mode": {
    "name": "ipython",
    "version": 2
   },
   "file_extension": ".py",
   "mimetype": "text/x-python",
   "name": "python",
   "nbconvert_exporter": "python",
   "pygments_lexer": "ipython2",
   "version": "2.7.6"
  }
 },
 "nbformat": 4,
 "nbformat_minor": 5
}
