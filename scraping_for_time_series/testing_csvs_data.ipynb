{
 "cells": [
  {
   "cell_type": "code",
   "execution_count": 19,
   "outputs": [
    {
     "name": "stdout",
     "output_type": "stream",
     "text": [
      "Collecting TikTokApi\r\n",
      "  Using cached TikTokApi-5.2.2-py3-none-any.whl\r\n",
      "Requirement already satisfied: requests in /Users/nirmolcho/opt/anaconda3/tiktok_scraper/lib/python3.9/site-packages (from TikTokApi) (2.31.0)\r\n",
      "Collecting playwright (from TikTokApi)\r\n",
      "  Obtaining dependency information for playwright from https://files.pythonhosted.org/packages/ef/ed/1387012c1e98e604212cff24a789452c0408fb12c6a4a323f4bc571e140d/playwright-1.36.0-py3-none-macosx_11_0_arm64.whl.metadata\r\n",
      "  Using cached playwright-1.36.0-py3-none-macosx_11_0_arm64.whl.metadata (3.5 kB)\r\n",
      "Collecting greenlet==2.0.2 (from playwright->TikTokApi)\r\n",
      "  Using cached greenlet-2.0.2.tar.gz (164 kB)\r\n",
      "  Preparing metadata (setup.py) ... \u001B[?25ldone\r\n",
      "\u001B[?25hCollecting pyee==9.0.4 (from playwright->TikTokApi)\r\n",
      "  Using cached pyee-9.0.4-py2.py3-none-any.whl (14 kB)\r\n",
      "Requirement already satisfied: typing-extensions in /Users/nirmolcho/opt/anaconda3/tiktok_scraper/lib/python3.9/site-packages (from pyee==9.0.4->playwright->TikTokApi) (4.7.1)\r\n",
      "Requirement already satisfied: charset-normalizer<4,>=2 in /Users/nirmolcho/opt/anaconda3/tiktok_scraper/lib/python3.9/site-packages (from requests->TikTokApi) (3.2.0)\r\n",
      "Requirement already satisfied: idna<4,>=2.5 in /Users/nirmolcho/opt/anaconda3/tiktok_scraper/lib/python3.9/site-packages (from requests->TikTokApi) (3.4)\r\n",
      "Requirement already satisfied: urllib3<3,>=1.21.1 in /Users/nirmolcho/opt/anaconda3/tiktok_scraper/lib/python3.9/site-packages (from requests->TikTokApi) (1.26.5)\r\n",
      "Requirement already satisfied: certifi>=2017.4.17 in /Users/nirmolcho/opt/anaconda3/tiktok_scraper/lib/python3.9/site-packages (from requests->TikTokApi) (2023.7.22)\r\n",
      "Using cached playwright-1.36.0-py3-none-macosx_11_0_arm64.whl (31.3 MB)\r\n",
      "Building wheels for collected packages: greenlet\r\n",
      "  Building wheel for greenlet (setup.py) ... \u001B[?25lerror\r\n",
      "  \u001B[1;31merror\u001B[0m: \u001B[1msubprocess-exited-with-error\u001B[0m\r\n",
      "  \r\n",
      "  \u001B[31m×\u001B[0m \u001B[32mpython setup.py bdist_wheel\u001B[0m did not run successfully.\r\n",
      "  \u001B[31m│\u001B[0m exit code: \u001B[1;36m1\u001B[0m\r\n",
      "  \u001B[31m╰─>\u001B[0m \u001B[31m[98 lines of output]\u001B[0m\r\n",
      "  \u001B[31m   \u001B[0m running bdist_wheel\r\n",
      "  \u001B[31m   \u001B[0m running build\r\n",
      "  \u001B[31m   \u001B[0m running build_py\r\n",
      "  \u001B[31m   \u001B[0m creating build\r\n",
      "  \u001B[31m   \u001B[0m creating build/lib.macosx-10.9-universal2-cpython-39\r\n",
      "  \u001B[31m   \u001B[0m creating build/lib.macosx-10.9-universal2-cpython-39/greenlet\r\n",
      "  \u001B[31m   \u001B[0m copying src/greenlet/__init__.py -> build/lib.macosx-10.9-universal2-cpython-39/greenlet\r\n",
      "  \u001B[31m   \u001B[0m creating build/lib.macosx-10.9-universal2-cpython-39/greenlet/platform\r\n",
      "  \u001B[31m   \u001B[0m copying src/greenlet/platform/__init__.py -> build/lib.macosx-10.9-universal2-cpython-39/greenlet/platform\r\n",
      "  \u001B[31m   \u001B[0m creating build/lib.macosx-10.9-universal2-cpython-39/greenlet/tests\r\n",
      "  \u001B[31m   \u001B[0m copying src/greenlet/tests/test_version.py -> build/lib.macosx-10.9-universal2-cpython-39/greenlet/tests\r\n",
      "  \u001B[31m   \u001B[0m copying src/greenlet/tests/test_weakref.py -> build/lib.macosx-10.9-universal2-cpython-39/greenlet/tests\r\n",
      "  \u001B[31m   \u001B[0m copying src/greenlet/tests/test_gc.py -> build/lib.macosx-10.9-universal2-cpython-39/greenlet/tests\r\n",
      "  \u001B[31m   \u001B[0m copying src/greenlet/tests/leakcheck.py -> build/lib.macosx-10.9-universal2-cpython-39/greenlet/tests\r\n",
      "  \u001B[31m   \u001B[0m copying src/greenlet/tests/test_generator.py -> build/lib.macosx-10.9-universal2-cpython-39/greenlet/tests\r\n",
      "  \u001B[31m   \u001B[0m copying src/greenlet/tests/test_greenlet_trash.py -> build/lib.macosx-10.9-universal2-cpython-39/greenlet/tests\r\n",
      "  \u001B[31m   \u001B[0m copying src/greenlet/tests/test_throw.py -> build/lib.macosx-10.9-universal2-cpython-39/greenlet/tests\r\n",
      "  \u001B[31m   \u001B[0m copying src/greenlet/tests/test_tracing.py -> build/lib.macosx-10.9-universal2-cpython-39/greenlet/tests\r\n",
      "  \u001B[31m   \u001B[0m copying src/greenlet/tests/test_cpp.py -> build/lib.macosx-10.9-universal2-cpython-39/greenlet/tests\r\n",
      "  \u001B[31m   \u001B[0m copying src/greenlet/tests/test_contextvars.py -> build/lib.macosx-10.9-universal2-cpython-39/greenlet/tests\r\n",
      "  \u001B[31m   \u001B[0m copying src/greenlet/tests/test_greenlet.py -> build/lib.macosx-10.9-universal2-cpython-39/greenlet/tests\r\n",
      "  \u001B[31m   \u001B[0m copying src/greenlet/tests/test_extension_interface.py -> build/lib.macosx-10.9-universal2-cpython-39/greenlet/tests\r\n",
      "  \u001B[31m   \u001B[0m copying src/greenlet/tests/__init__.py -> build/lib.macosx-10.9-universal2-cpython-39/greenlet/tests\r\n",
      "  \u001B[31m   \u001B[0m copying src/greenlet/tests/test_generator_nested.py -> build/lib.macosx-10.9-universal2-cpython-39/greenlet/tests\r\n",
      "  \u001B[31m   \u001B[0m copying src/greenlet/tests/test_stack_saved.py -> build/lib.macosx-10.9-universal2-cpython-39/greenlet/tests\r\n",
      "  \u001B[31m   \u001B[0m copying src/greenlet/tests/test_leaks.py -> build/lib.macosx-10.9-universal2-cpython-39/greenlet/tests\r\n",
      "  \u001B[31m   \u001B[0m running egg_info\r\n",
      "  \u001B[31m   \u001B[0m writing src/greenlet.egg-info/PKG-INFO\r\n",
      "  \u001B[31m   \u001B[0m writing dependency_links to src/greenlet.egg-info/dependency_links.txt\r\n",
      "  \u001B[31m   \u001B[0m writing requirements to src/greenlet.egg-info/requires.txt\r\n",
      "  \u001B[31m   \u001B[0m writing top-level names to src/greenlet.egg-info/top_level.txt\r\n",
      "  \u001B[31m   \u001B[0m reading manifest file 'src/greenlet.egg-info/SOURCES.txt'\r\n",
      "  \u001B[31m   \u001B[0m reading manifest template 'MANIFEST.in'\r\n",
      "  \u001B[31m   \u001B[0m warning: no previously-included files found matching 'benchmarks/*.json'\r\n",
      "  \u001B[31m   \u001B[0m no previously-included directories found matching 'docs/_build'\r\n",
      "  \u001B[31m   \u001B[0m warning: no files found matching '*.py' under directory 'appveyor'\r\n",
      "  \u001B[31m   \u001B[0m warning: no previously-included files matching '*.pyc' found anywhere in distribution\r\n",
      "  \u001B[31m   \u001B[0m warning: no previously-included files matching '*.pyd' found anywhere in distribution\r\n",
      "  \u001B[31m   \u001B[0m warning: no previously-included files matching '*.so' found anywhere in distribution\r\n",
      "  \u001B[31m   \u001B[0m warning: no previously-included files matching '.coverage' found anywhere in distribution\r\n",
      "  \u001B[31m   \u001B[0m adding license file 'LICENSE'\r\n",
      "  \u001B[31m   \u001B[0m adding license file 'LICENSE.PSF'\r\n",
      "  \u001B[31m   \u001B[0m adding license file 'AUTHORS'\r\n",
      "  \u001B[31m   \u001B[0m writing manifest file 'src/greenlet.egg-info/SOURCES.txt'\r\n",
      "  \u001B[31m   \u001B[0m copying src/greenlet/greenlet.cpp -> build/lib.macosx-10.9-universal2-cpython-39/greenlet\r\n",
      "  \u001B[31m   \u001B[0m copying src/greenlet/greenlet.h -> build/lib.macosx-10.9-universal2-cpython-39/greenlet\r\n",
      "  \u001B[31m   \u001B[0m copying src/greenlet/greenlet_allocator.hpp -> build/lib.macosx-10.9-universal2-cpython-39/greenlet\r\n",
      "  \u001B[31m   \u001B[0m copying src/greenlet/greenlet_compiler_compat.hpp -> build/lib.macosx-10.9-universal2-cpython-39/greenlet\r\n",
      "  \u001B[31m   \u001B[0m copying src/greenlet/greenlet_cpython_compat.hpp -> build/lib.macosx-10.9-universal2-cpython-39/greenlet\r\n",
      "  \u001B[31m   \u001B[0m copying src/greenlet/greenlet_exceptions.hpp -> build/lib.macosx-10.9-universal2-cpython-39/greenlet\r\n",
      "  \u001B[31m   \u001B[0m copying src/greenlet/greenlet_greenlet.hpp -> build/lib.macosx-10.9-universal2-cpython-39/greenlet\r\n",
      "  \u001B[31m   \u001B[0m copying src/greenlet/greenlet_internal.hpp -> build/lib.macosx-10.9-universal2-cpython-39/greenlet\r\n",
      "  \u001B[31m   \u001B[0m copying src/greenlet/greenlet_refs.hpp -> build/lib.macosx-10.9-universal2-cpython-39/greenlet\r\n",
      "  \u001B[31m   \u001B[0m copying src/greenlet/greenlet_slp_switch.hpp -> build/lib.macosx-10.9-universal2-cpython-39/greenlet\r\n",
      "  \u001B[31m   \u001B[0m copying src/greenlet/greenlet_thread_state.hpp -> build/lib.macosx-10.9-universal2-cpython-39/greenlet\r\n",
      "  \u001B[31m   \u001B[0m copying src/greenlet/greenlet_thread_state_dict_cleanup.hpp -> build/lib.macosx-10.9-universal2-cpython-39/greenlet\r\n",
      "  \u001B[31m   \u001B[0m copying src/greenlet/greenlet_thread_support.hpp -> build/lib.macosx-10.9-universal2-cpython-39/greenlet\r\n",
      "  \u001B[31m   \u001B[0m copying src/greenlet/slp_platformselect.h -> build/lib.macosx-10.9-universal2-cpython-39/greenlet\r\n",
      "  \u001B[31m   \u001B[0m copying src/greenlet/platform/setup_switch_x64_masm.cmd -> build/lib.macosx-10.9-universal2-cpython-39/greenlet/platform\r\n",
      "  \u001B[31m   \u001B[0m copying src/greenlet/platform/switch_aarch64_gcc.h -> build/lib.macosx-10.9-universal2-cpython-39/greenlet/platform\r\n",
      "  \u001B[31m   \u001B[0m copying src/greenlet/platform/switch_alpha_unix.h -> build/lib.macosx-10.9-universal2-cpython-39/greenlet/platform\r\n",
      "  \u001B[31m   \u001B[0m copying src/greenlet/platform/switch_amd64_unix.h -> build/lib.macosx-10.9-universal2-cpython-39/greenlet/platform\r\n",
      "  \u001B[31m   \u001B[0m copying src/greenlet/platform/switch_arm32_gcc.h -> build/lib.macosx-10.9-universal2-cpython-39/greenlet/platform\r\n",
      "  \u001B[31m   \u001B[0m copying src/greenlet/platform/switch_arm32_ios.h -> build/lib.macosx-10.9-universal2-cpython-39/greenlet/platform\r\n",
      "  \u001B[31m   \u001B[0m copying src/greenlet/platform/switch_arm64_masm.asm -> build/lib.macosx-10.9-universal2-cpython-39/greenlet/platform\r\n",
      "  \u001B[31m   \u001B[0m copying src/greenlet/platform/switch_arm64_masm.obj -> build/lib.macosx-10.9-universal2-cpython-39/greenlet/platform\r\n",
      "  \u001B[31m   \u001B[0m copying src/greenlet/platform/switch_arm64_msvc.h -> build/lib.macosx-10.9-universal2-cpython-39/greenlet/platform\r\n",
      "  \u001B[31m   \u001B[0m copying src/greenlet/platform/switch_csky_gcc.h -> build/lib.macosx-10.9-universal2-cpython-39/greenlet/platform\r\n",
      "  \u001B[31m   \u001B[0m copying src/greenlet/platform/switch_m68k_gcc.h -> build/lib.macosx-10.9-universal2-cpython-39/greenlet/platform\r\n",
      "  \u001B[31m   \u001B[0m copying src/greenlet/platform/switch_mips_unix.h -> build/lib.macosx-10.9-universal2-cpython-39/greenlet/platform\r\n",
      "  \u001B[31m   \u001B[0m copying src/greenlet/platform/switch_ppc64_aix.h -> build/lib.macosx-10.9-universal2-cpython-39/greenlet/platform\r\n",
      "  \u001B[31m   \u001B[0m copying src/greenlet/platform/switch_ppc64_linux.h -> build/lib.macosx-10.9-universal2-cpython-39/greenlet/platform\r\n",
      "  \u001B[31m   \u001B[0m copying src/greenlet/platform/switch_ppc_aix.h -> build/lib.macosx-10.9-universal2-cpython-39/greenlet/platform\r\n",
      "  \u001B[31m   \u001B[0m copying src/greenlet/platform/switch_ppc_linux.h -> build/lib.macosx-10.9-universal2-cpython-39/greenlet/platform\r\n",
      "  \u001B[31m   \u001B[0m copying src/greenlet/platform/switch_ppc_macosx.h -> build/lib.macosx-10.9-universal2-cpython-39/greenlet/platform\r\n",
      "  \u001B[31m   \u001B[0m copying src/greenlet/platform/switch_ppc_unix.h -> build/lib.macosx-10.9-universal2-cpython-39/greenlet/platform\r\n",
      "  \u001B[31m   \u001B[0m copying src/greenlet/platform/switch_riscv_unix.h -> build/lib.macosx-10.9-universal2-cpython-39/greenlet/platform\r\n",
      "  \u001B[31m   \u001B[0m copying src/greenlet/platform/switch_s390_unix.h -> build/lib.macosx-10.9-universal2-cpython-39/greenlet/platform\r\n",
      "  \u001B[31m   \u001B[0m copying src/greenlet/platform/switch_sparc_sun_gcc.h -> build/lib.macosx-10.9-universal2-cpython-39/greenlet/platform\r\n",
      "  \u001B[31m   \u001B[0m copying src/greenlet/platform/switch_x32_unix.h -> build/lib.macosx-10.9-universal2-cpython-39/greenlet/platform\r\n",
      "  \u001B[31m   \u001B[0m copying src/greenlet/platform/switch_x64_masm.asm -> build/lib.macosx-10.9-universal2-cpython-39/greenlet/platform\r\n",
      "  \u001B[31m   \u001B[0m copying src/greenlet/platform/switch_x64_masm.obj -> build/lib.macosx-10.9-universal2-cpython-39/greenlet/platform\r\n",
      "  \u001B[31m   \u001B[0m copying src/greenlet/platform/switch_x64_msvc.h -> build/lib.macosx-10.9-universal2-cpython-39/greenlet/platform\r\n",
      "  \u001B[31m   \u001B[0m copying src/greenlet/platform/switch_x86_msvc.h -> build/lib.macosx-10.9-universal2-cpython-39/greenlet/platform\r\n",
      "  \u001B[31m   \u001B[0m copying src/greenlet/platform/switch_x86_unix.h -> build/lib.macosx-10.9-universal2-cpython-39/greenlet/platform\r\n",
      "  \u001B[31m   \u001B[0m copying src/greenlet/tests/_test_extension.c -> build/lib.macosx-10.9-universal2-cpython-39/greenlet/tests\r\n",
      "  \u001B[31m   \u001B[0m copying src/greenlet/tests/_test_extension_cpp.cpp -> build/lib.macosx-10.9-universal2-cpython-39/greenlet/tests\r\n",
      "  \u001B[31m   \u001B[0m running build_ext\r\n",
      "  \u001B[31m   \u001B[0m building 'greenlet._greenlet' extension\r\n",
      "  \u001B[31m   \u001B[0m creating build/temp.macosx-10.9-universal2-cpython-39\r\n",
      "  \u001B[31m   \u001B[0m creating build/temp.macosx-10.9-universal2-cpython-39/src\r\n",
      "  \u001B[31m   \u001B[0m creating build/temp.macosx-10.9-universal2-cpython-39/src/greenlet\r\n",
      "  \u001B[31m   \u001B[0m clang -Wno-unused-result -Wsign-compare -Wunreachable-code -fno-common -dynamic -DNDEBUG -g -fwrapv -O3 -Wall -iwithsysroot/System/Library/Frameworks/System.framework/PrivateHeaders -iwithsysroot/Applications/Xcode.app/Contents/Developer/Library/Frameworks/Python3.framework/Versions/3.9/Headers -arch arm64 -arch x86_64 -Werror=implicit-function-declaration -Wno-error=unreachable-code -I/Users/nirmolcho/opt/anaconda3/tiktok_scraper/include -I/Applications/Xcode.app/Contents/Developer/Library/Frameworks/Python3.framework/Versions/3.9/Headers -c src/greenlet/greenlet.cpp -o build/temp.macosx-10.9-universal2-cpython-39/src/greenlet/greenlet.o --std=gnu++11\r\n",
      "  \u001B[31m   \u001B[0m src/greenlet/greenlet.cpp:16:10: fatal error: 'Python.h' file not found\r\n",
      "  \u001B[31m   \u001B[0m #include <Python.h>\r\n",
      "  \u001B[31m   \u001B[0m          ^~~~~~~~~~\r\n",
      "  \u001B[31m   \u001B[0m 1 error generated.\r\n",
      "  \u001B[31m   \u001B[0m error: command '/usr/bin/clang' failed with exit code 1\r\n",
      "  \u001B[31m   \u001B[0m \u001B[31m[end of output]\u001B[0m\r\n",
      "  \r\n",
      "  \u001B[1;35mnote\u001B[0m: This error originates from a subprocess, and is likely not a problem with pip.\r\n",
      "\u001B[31m  ERROR: Failed building wheel for greenlet\u001B[0m\u001B[31m\r\n",
      "\u001B[0m\u001B[?25h  Running setup.py clean for greenlet\r\n",
      "Failed to build greenlet\r\n",
      "\u001B[31mERROR: Could not build wheels for greenlet, which is required to install pyproject.toml-based projects\u001B[0m\u001B[31m\r\n",
      "\u001B[0m"
     ]
    }
   ],
   "source": [
    "!pip install TikTokApi"
   ],
   "metadata": {
    "collapsed": false,
    "ExecuteTime": {
     "end_time": "2023-08-05T10:37:24.305028Z",
     "start_time": "2023-08-05T10:37:21.688899Z"
    }
   }
  },
  {
   "cell_type": "code",
   "execution_count": 17,
   "outputs": [
    {
     "name": "stdout",
     "output_type": "stream",
     "text": [
      "/Users/nirmolcho/opt/anaconda3/tiktok_scraper/bin/python: No module named playwright\r\n"
     ]
    }
   ],
   "source": [
    "!python -m playwright install"
   ],
   "metadata": {
    "collapsed": false,
    "ExecuteTime": {
     "end_time": "2023-08-05T10:36:49.310336Z",
     "start_time": "2023-08-05T10:36:49.160171Z"
    }
   }
  },
  {
   "cell_type": "code",
   "execution_count": 20,
   "outputs": [
    {
     "ename": "ModuleNotFoundError",
     "evalue": "No module named 'TikTokApi'",
     "output_type": "error",
     "traceback": [
      "\u001B[0;31m---------------------------------------------------------------------------\u001B[0m",
      "\u001B[0;31mModuleNotFoundError\u001B[0m                       Traceback (most recent call last)",
      "Cell \u001B[0;32mIn[20], line 1\u001B[0m\n\u001B[0;32m----> 1\u001B[0m \u001B[38;5;28;01mfrom\u001B[39;00m \u001B[38;5;21;01mTikTokApi\u001B[39;00m \u001B[38;5;28;01mimport\u001B[39;00m TikTokApi\n\u001B[1;32m      2\u001B[0m \u001B[38;5;28;01mwith\u001B[39;00m TikTokApi() \u001B[38;5;28;01mas\u001B[39;00m api:\n\u001B[1;32m      3\u001B[0m     \u001B[38;5;28;01mfor\u001B[39;00m trending_video \u001B[38;5;129;01min\u001B[39;00m api\u001B[38;5;241m.\u001B[39mtrending\u001B[38;5;241m.\u001B[39mvideos(count\u001B[38;5;241m=\u001B[39m\u001B[38;5;241m50\u001B[39m):\n",
      "\u001B[0;31mModuleNotFoundError\u001B[0m: No module named 'TikTokApi'"
     ]
    }
   ],
   "source": [
    "from TikTokApi import TikTokApi\n",
    "with TikTokApi() as api:\n",
    "    for trending_video in api.trending.videos(count=50):\n",
    "        print(trending_video.author.username)"
   ],
   "metadata": {
    "collapsed": false,
    "ExecuteTime": {
     "end_time": "2023-08-05T10:37:29.507360Z",
     "start_time": "2023-08-05T10:37:29.487146Z"
    }
   }
  },
  {
   "cell_type": "code",
   "execution_count": 21,
   "outputs": [
    {
     "ename": "SyntaxError",
     "evalue": "invalid syntax (1246668465.py, line 2)",
     "output_type": "error",
     "traceback": [
      "\u001B[0;36m  Cell \u001B[0;32mIn[21], line 2\u001B[0;36m\u001B[0m\n\u001B[0;31m    Users/nirmolcho/opt/anaconda3/tiktok_scraper/bin/Python(/Users/nirmolcho/Library/Application, Support/JetBrains/Toolbox/apps/PyCharm-P/ch-0/232.8660.197/PyCharm.app/Contents/plugins/python/helpers/packaging_tool.py, install, TikTokApi)\u001B[0m\n\u001B[0m                                                            ^\u001B[0m\n\u001B[0;31mSyntaxError\u001B[0m\u001B[0;31m:\u001B[0m invalid syntax\n"
     ]
    }
   ],
   "source": [],
   "metadata": {
    "collapsed": false,
    "ExecuteTime": {
     "end_time": "2023-08-05T10:38:37.982980Z",
     "start_time": "2023-08-05T10:38:37.974266Z"
    }
   }
  },
  {
   "cell_type": "code",
   "execution_count": null,
   "outputs": [],
   "source": [],
   "metadata": {
    "collapsed": false
   }
  }
 ],
 "metadata": {
  "kernelspec": {
   "display_name": "Python 3",
   "language": "python",
   "name": "python3"
  },
  "language_info": {
   "codemirror_mode": {
    "name": "ipython",
    "version": 2
   },
   "file_extension": ".py",
   "mimetype": "text/x-python",
   "name": "python",
   "nbconvert_exporter": "python",
   "pygments_lexer": "ipython2",
   "version": "2.7.6"
  }
 },
 "nbformat": 4,
 "nbformat_minor": 0
}
