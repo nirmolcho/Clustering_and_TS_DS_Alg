{
 "cells": [
  {
   "cell_type": "code",
   "execution_count": 1,
   "id": "initial_id",
   "metadata": {
    "collapsed": true,
    "ExecuteTime": {
     "end_time": "2023-08-22T09:20:16.875613Z",
     "start_time": "2023-08-22T09:20:13.157123Z"
    }
   },
   "outputs": [
    {
     "name": "stdout",
     "output_type": "stream",
     "text": [
      "\u001B[34m==>\u001B[0m \u001B[1mDownloading https://formulae.brew.sh/api/formula.jws.json\u001B[0m\r\n",
      "#=#=-#  #                                                                      \r\n",
      "\u001B[34m==>\u001B[0m \u001B[1mDownloading https://formulae.brew.sh/api/cask.jws.json\u001B[0m\r\n",
      "#=#=-#  #                                                                      \r\n",
      "\u001B[33mWarning:\u001B[0m libxml2 2.11.5 is already installed and up-to-date.\r\n",
      "To reinstall 2.11.5, run:\r\n",
      "  brew reinstall libxml2\r\n",
      "\u001B[33mWarning:\u001B[0m libxslt 1.1.38_1 is already installed and up-to-date.\r\n",
      "To reinstall 1.1.38_1, run:\r\n",
      "  brew reinstall libxslt\r\n"
     ]
    }
   ],
   "source": [
    "!brew install libxml2 libxslt"
   ]
  },
  {
   "cell_type": "code",
   "execution_count": 2,
   "outputs": [
    {
     "name": "stdout",
     "output_type": "stream",
     "text": [
      "Requirement already satisfied: pip in /Users/nirmolcho/opt/anaconda3/final_task_df/lib/python3.9/site-packages (23.2.1)\r\n",
      "Requirement already satisfied: setuptools in /Users/nirmolcho/opt/anaconda3/final_task_df/lib/python3.9/site-packages (68.1.2)\r\n",
      "Requirement already satisfied: wheel in /Users/nirmolcho/opt/anaconda3/final_task_df/lib/python3.9/site-packages (0.41.1)\r\n"
     ]
    }
   ],
   "source": [
    "!pip install --upgrade pip setuptools wheel"
   ],
   "metadata": {
    "collapsed": false,
    "ExecuteTime": {
     "end_time": "2023-08-22T09:20:21.434635Z",
     "start_time": "2023-08-22T09:20:19.126865Z"
    }
   },
   "id": "5ec71e0f3468f310"
  },
  {
   "cell_type": "code",
   "execution_count": 3,
   "outputs": [
    {
     "name": "stdout",
     "output_type": "stream",
     "text": [
      "Requirement already satisfied: lxml in /Users/nirmolcho/opt/anaconda3/final_task_df/lib/python3.9/site-packages (4.9.3)\r\n"
     ]
    }
   ],
   "source": [
    "!pip install lxml"
   ],
   "metadata": {
    "collapsed": false,
    "ExecuteTime": {
     "end_time": "2023-08-22T09:20:22.807360Z",
     "start_time": "2023-08-22T09:20:21.939162Z"
    }
   },
   "id": "838ee651b90dedc8"
  },
  {
   "cell_type": "code",
   "execution_count": 4,
   "outputs": [
    {
     "name": "stdout",
     "output_type": "stream",
     "text": [
      "Requirement already satisfied: yfinance in /Users/nirmolcho/opt/anaconda3/final_task_df/lib/python3.9/site-packages (0.2.28)\r\n",
      "Requirement already satisfied: pandas>=1.3.0 in /Users/nirmolcho/opt/anaconda3/final_task_df/lib/python3.9/site-packages (from yfinance) (2.0.3)\r\n",
      "Requirement already satisfied: numpy>=1.16.5 in /Users/nirmolcho/opt/anaconda3/final_task_df/lib/python3.9/site-packages (from yfinance) (1.25.1)\r\n",
      "Requirement already satisfied: requests>=2.31 in /Users/nirmolcho/opt/anaconda3/final_task_df/lib/python3.9/site-packages (from yfinance) (2.31.0)\r\n",
      "Requirement already satisfied: multitasking>=0.0.7 in /Users/nirmolcho/opt/anaconda3/final_task_df/lib/python3.9/site-packages (from yfinance) (0.0.11)\r\n",
      "Requirement already satisfied: lxml>=4.9.1 in /Users/nirmolcho/opt/anaconda3/final_task_df/lib/python3.9/site-packages (from yfinance) (4.9.3)\r\n",
      "Requirement already satisfied: appdirs>=1.4.4 in /Users/nirmolcho/opt/anaconda3/final_task_df/lib/python3.9/site-packages (from yfinance) (1.4.4)\r\n",
      "Requirement already satisfied: pytz>=2022.5 in /Users/nirmolcho/opt/anaconda3/final_task_df/lib/python3.9/site-packages (from yfinance) (2023.3)\r\n",
      "Requirement already satisfied: frozendict>=2.3.4 in /Users/nirmolcho/opt/anaconda3/final_task_df/lib/python3.9/site-packages (from yfinance) (2.3.8)\r\n",
      "Requirement already satisfied: beautifulsoup4>=4.11.1 in /Users/nirmolcho/opt/anaconda3/final_task_df/lib/python3.9/site-packages (from yfinance) (4.12.2)\r\n",
      "Requirement already satisfied: html5lib>=1.1 in /Users/nirmolcho/opt/anaconda3/final_task_df/lib/python3.9/site-packages (from yfinance) (1.1)\r\n",
      "Requirement already satisfied: soupsieve>1.2 in /Users/nirmolcho/opt/anaconda3/final_task_df/lib/python3.9/site-packages (from beautifulsoup4>=4.11.1->yfinance) (2.4.1)\r\n",
      "Requirement already satisfied: six>=1.9 in /Users/nirmolcho/opt/anaconda3/final_task_df/lib/python3.9/site-packages (from html5lib>=1.1->yfinance) (1.16.0)\r\n",
      "Requirement already satisfied: webencodings in /Users/nirmolcho/opt/anaconda3/final_task_df/lib/python3.9/site-packages (from html5lib>=1.1->yfinance) (0.5.1)\r\n",
      "Requirement already satisfied: python-dateutil>=2.8.2 in /Users/nirmolcho/opt/anaconda3/final_task_df/lib/python3.9/site-packages (from pandas>=1.3.0->yfinance) (2.8.2)\r\n",
      "Requirement already satisfied: tzdata>=2022.1 in /Users/nirmolcho/opt/anaconda3/final_task_df/lib/python3.9/site-packages (from pandas>=1.3.0->yfinance) (2023.3)\r\n",
      "Requirement already satisfied: charset-normalizer<4,>=2 in /Users/nirmolcho/opt/anaconda3/final_task_df/lib/python3.9/site-packages (from requests>=2.31->yfinance) (3.2.0)\r\n",
      "Requirement already satisfied: idna<4,>=2.5 in /Users/nirmolcho/opt/anaconda3/final_task_df/lib/python3.9/site-packages (from requests>=2.31->yfinance) (3.4)\r\n",
      "Requirement already satisfied: urllib3<3,>=1.21.1 in /Users/nirmolcho/opt/anaconda3/final_task_df/lib/python3.9/site-packages (from requests>=2.31->yfinance) (2.0.4)\r\n",
      "Requirement already satisfied: certifi>=2017.4.17 in /Users/nirmolcho/opt/anaconda3/final_task_df/lib/python3.9/site-packages (from requests>=2.31->yfinance) (2023.7.22)\r\n"
     ]
    }
   ],
   "source": [
    "!pip install yfinance"
   ],
   "metadata": {
    "collapsed": false,
    "ExecuteTime": {
     "end_time": "2023-08-22T09:20:23.680392Z",
     "start_time": "2023-08-22T09:20:22.800629Z"
    }
   },
   "id": "a297b52da2711018"
  },
  {
   "cell_type": "code",
   "execution_count": 5,
   "outputs": [
    {
     "name": "stderr",
     "output_type": "stream",
     "text": [
      "/Users/nirmolcho/opt/anaconda3/final_task_df/lib/python3.9/site-packages/urllib3/__init__.py:34: NotOpenSSLWarning: urllib3 v2.0 only supports OpenSSL 1.1.1+, currently the 'ssl' module is compiled with 'LibreSSL 2.8.3'. See: https://github.com/urllib3/urllib3/issues/3020\n",
      "  warnings.warn(\n"
     ]
    }
   ],
   "source": [
    "import yfinance as yf"
   ],
   "metadata": {
    "collapsed": false,
    "ExecuteTime": {
     "end_time": "2023-08-22T09:20:24.171203Z",
     "start_time": "2023-08-22T09:20:23.681060Z"
    }
   },
   "id": "c7a4130798b7390f"
  },
  {
   "cell_type": "code",
   "execution_count": null,
   "outputs": [],
   "source": [],
   "metadata": {
    "collapsed": false
   },
   "id": "17b5e0f1c4e56007"
  }
 ],
 "metadata": {
  "kernelspec": {
   "display_name": "Python 3",
   "language": "python",
   "name": "python3"
  },
  "language_info": {
   "codemirror_mode": {
    "name": "ipython",
    "version": 2
   },
   "file_extension": ".py",
   "mimetype": "text/x-python",
   "name": "python",
   "nbconvert_exporter": "python",
   "pygments_lexer": "ipython2",
   "version": "2.7.6"
  }
 },
 "nbformat": 4,
 "nbformat_minor": 5
}
