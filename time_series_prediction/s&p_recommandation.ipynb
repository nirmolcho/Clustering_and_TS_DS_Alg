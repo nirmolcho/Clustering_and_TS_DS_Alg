{
 "cells": [
  {
   "cell_type": "code",
   "execution_count": 3,
   "id": "initial_id",
   "metadata": {
    "collapsed": true,
    "ExecuteTime": {
     "end_time": "2023-08-22T09:02:59.017660Z",
     "start_time": "2023-08-22T09:02:55.554233Z"
    }
   },
   "outputs": [
    {
     "name": "stdout",
     "output_type": "stream",
     "text": [
      "\u001B[34m==>\u001B[0m \u001B[1mDownloading https://formulae.brew.sh/api/formula.jws.json\u001B[0m\r\n",
      "######################################################################### 100.0%\r\n",
      "\u001B[34m==>\u001B[0m \u001B[1mDownloading https://formulae.brew.sh/api/cask.jws.json\u001B[0m\r\n",
      "#=#=#                                                                          \r\n",
      "\u001B[33mWarning:\u001B[0m libxml2 2.11.5 is already installed and up-to-date.\r\n",
      "To reinstall 2.11.5, run:\r\n",
      "  brew reinstall libxml2\r\n",
      "\u001B[33mWarning:\u001B[0m libxslt 1.1.38_1 is already installed and up-to-date.\r\n",
      "To reinstall 1.1.38_1, run:\r\n",
      "  brew reinstall libxslt\r\n"
     ]
    }
   ],
   "source": [
    "!brew install libxml2 libxslt"
   ]
  },
  {
   "cell_type": "code",
   "execution_count": 5,
   "outputs": [
    {
     "name": "stdout",
     "output_type": "stream",
     "text": [
      "Requirement already satisfied: pip in /Users/nirmolcho/opt/anaconda3/final_task_df/lib/python3.9/site-packages (23.2.1)\r\n",
      "Requirement already satisfied: setuptools in /Users/nirmolcho/opt/anaconda3/final_task_df/lib/python3.9/site-packages (65.5.1)\r\n",
      "Collecting setuptools\r\n",
      "  Obtaining dependency information for setuptools from https://files.pythonhosted.org/packages/4f/ab/0bcfebdfc3bfa8554b2b2c97a555569c4c1ebc74ea288741ea8326c51906/setuptools-68.1.2-py3-none-any.whl.metadata\r\n",
      "  Downloading setuptools-68.1.2-py3-none-any.whl.metadata (6.2 kB)\r\n",
      "Requirement already satisfied: wheel in /Users/nirmolcho/opt/anaconda3/final_task_df/lib/python3.9/site-packages (0.38.4)\r\n",
      "Collecting wheel\r\n",
      "  Obtaining dependency information for wheel from https://files.pythonhosted.org/packages/28/f5/6955d7b3a5d71ce6bac104f9cf98c1b0513ad656cdaca8ea7d579196f771/wheel-0.41.1-py3-none-any.whl.metadata\r\n",
      "  Downloading wheel-0.41.1-py3-none-any.whl.metadata (2.2 kB)\r\n",
      "Downloading setuptools-68.1.2-py3-none-any.whl (805 kB)\r\n",
      "\u001B[2K   \u001B[90m━━━━━━━━━━━━━━━━━━━━━━━━━━━━━━━━━━━━━━━\u001B[0m \u001B[32m805.1/805.1 kB\u001B[0m \u001B[31m190.2 kB/s\u001B[0m eta \u001B[36m0:00:00\u001B[0m00:01\u001B[0m00:01\u001B[0m\r\n",
      "\u001B[?25hDownloading wheel-0.41.1-py3-none-any.whl (64 kB)\r\n",
      "\u001B[2K   \u001B[90m━━━━━━━━━━━━━━━━━━━━━━━━━━━━━━━━━━━━━━━━\u001B[0m \u001B[32m64.8/64.8 kB\u001B[0m \u001B[31m403.5 kB/s\u001B[0m eta \u001B[36m0:00:00\u001B[0ma \u001B[36m0:00:01\u001B[0m\r\n",
      "\u001B[?25hInstalling collected packages: wheel, setuptools\r\n",
      "  Attempting uninstall: wheel\r\n",
      "    Found existing installation: wheel 0.38.4\r\n",
      "    Uninstalling wheel-0.38.4:\r\n",
      "      Successfully uninstalled wheel-0.38.4\r\n",
      "  Attempting uninstall: setuptools\r\n",
      "    Found existing installation: setuptools 65.5.1\r\n",
      "    Uninstalling setuptools-65.5.1:\r\n",
      "      Successfully uninstalled setuptools-65.5.1\r\n",
      "Successfully installed setuptools-68.1.2 wheel-0.41.1\r\n"
     ]
    }
   ],
   "source": [
    "!pip install --upgrade pip setuptools wheel"
   ],
   "metadata": {
    "collapsed": false,
    "ExecuteTime": {
     "end_time": "2023-08-22T09:03:28.579910Z",
     "start_time": "2023-08-22T09:03:17.940684Z"
    }
   },
   "id": "5ec71e0f3468f310"
  },
  {
   "cell_type": "code",
   "execution_count": 6,
   "outputs": [
    {
     "name": "stdout",
     "output_type": "stream",
     "text": [
      "Collecting lxml\r\n",
      "  Using cached lxml-4.9.3.tar.gz (3.6 MB)\r\n",
      "  Preparing metadata (setup.py) ... \u001B[?25ldone\r\n",
      "\u001B[?25hBuilding wheels for collected packages: lxml\r\n",
      "  Building wheel for lxml (setup.py) ... \u001B[?25ldone\r\n",
      "\u001B[?25h  Created wheel for lxml: filename=lxml-4.9.3-cp39-cp39-macosx_10_9_universal2.whl size=3108968 sha256=76250e29e9c88760dbfcb386c1967e01b599d1d66f05812878f14764857f7658\r\n",
      "  Stored in directory: /Users/nirmolcho/Library/Caches/pip/wheels/5c/05/aa/530f84480d476c5bb9ea09877eea78fb144ec047fbb00ee2ca\r\n",
      "Successfully built lxml\r\n",
      "Installing collected packages: lxml\r\n",
      "Successfully installed lxml-4.9.3\r\n"
     ]
    }
   ],
   "source": [
    "!pip install lxml"
   ],
   "metadata": {
    "collapsed": false,
    "ExecuteTime": {
     "end_time": "2023-08-22T09:04:26.204904Z",
     "start_time": "2023-08-22T09:03:29.734305Z"
    }
   },
   "id": "838ee651b90dedc8"
  },
  {
   "cell_type": "code",
   "execution_count": 7,
   "outputs": [
    {
     "name": "stdout",
     "output_type": "stream",
     "text": [
      "Collecting yfinance\r\n",
      "  Obtaining dependency information for yfinance from https://files.pythonhosted.org/packages/e9/43/93ea65227c938a0a4a8925d7f054b050ea743044b887170da9eca210635a/yfinance-0.2.28-py2.py3-none-any.whl.metadata\r\n",
      "  Using cached yfinance-0.2.28-py2.py3-none-any.whl.metadata (11 kB)\r\n",
      "Requirement already satisfied: pandas>=1.3.0 in /Users/nirmolcho/opt/anaconda3/final_task_df/lib/python3.9/site-packages (from yfinance) (2.0.3)\r\n",
      "Requirement already satisfied: numpy>=1.16.5 in /Users/nirmolcho/opt/anaconda3/final_task_df/lib/python3.9/site-packages (from yfinance) (1.25.1)\r\n",
      "Requirement already satisfied: requests>=2.31 in /Users/nirmolcho/opt/anaconda3/final_task_df/lib/python3.9/site-packages (from yfinance) (2.31.0)\r\n",
      "Collecting multitasking>=0.0.7 (from yfinance)\r\n",
      "  Using cached multitasking-0.0.11-py3-none-any.whl (8.5 kB)\r\n",
      "Requirement already satisfied: lxml>=4.9.1 in /Users/nirmolcho/opt/anaconda3/final_task_df/lib/python3.9/site-packages (from yfinance) (4.9.3)\r\n",
      "Collecting appdirs>=1.4.4 (from yfinance)\r\n",
      "  Using cached appdirs-1.4.4-py2.py3-none-any.whl (9.6 kB)\r\n",
      "Requirement already satisfied: pytz>=2022.5 in /Users/nirmolcho/opt/anaconda3/final_task_df/lib/python3.9/site-packages (from yfinance) (2023.3)\r\n",
      "Collecting frozendict>=2.3.4 (from yfinance)\r\n",
      "  Using cached frozendict-2.3.8-cp39-cp39-macosx_11_0_arm64.whl (35 kB)\r\n",
      "Requirement already satisfied: beautifulsoup4>=4.11.1 in /Users/nirmolcho/opt/anaconda3/final_task_df/lib/python3.9/site-packages (from yfinance) (4.12.2)\r\n",
      "Requirement already satisfied: html5lib>=1.1 in /Users/nirmolcho/opt/anaconda3/final_task_df/lib/python3.9/site-packages (from yfinance) (1.1)\r\n",
      "Requirement already satisfied: soupsieve>1.2 in /Users/nirmolcho/opt/anaconda3/final_task_df/lib/python3.9/site-packages (from beautifulsoup4>=4.11.1->yfinance) (2.4.1)\r\n",
      "Requirement already satisfied: six>=1.9 in /Users/nirmolcho/opt/anaconda3/final_task_df/lib/python3.9/site-packages (from html5lib>=1.1->yfinance) (1.16.0)\r\n",
      "Requirement already satisfied: webencodings in /Users/nirmolcho/opt/anaconda3/final_task_df/lib/python3.9/site-packages (from html5lib>=1.1->yfinance) (0.5.1)\r\n",
      "Requirement already satisfied: python-dateutil>=2.8.2 in /Users/nirmolcho/opt/anaconda3/final_task_df/lib/python3.9/site-packages (from pandas>=1.3.0->yfinance) (2.8.2)\r\n",
      "Requirement already satisfied: tzdata>=2022.1 in /Users/nirmolcho/opt/anaconda3/final_task_df/lib/python3.9/site-packages (from pandas>=1.3.0->yfinance) (2023.3)\r\n",
      "Requirement already satisfied: charset-normalizer<4,>=2 in /Users/nirmolcho/opt/anaconda3/final_task_df/lib/python3.9/site-packages (from requests>=2.31->yfinance) (3.2.0)\r\n",
      "Requirement already satisfied: idna<4,>=2.5 in /Users/nirmolcho/opt/anaconda3/final_task_df/lib/python3.9/site-packages (from requests>=2.31->yfinance) (3.4)\r\n",
      "Requirement already satisfied: urllib3<3,>=1.21.1 in /Users/nirmolcho/opt/anaconda3/final_task_df/lib/python3.9/site-packages (from requests>=2.31->yfinance) (2.0.4)\r\n",
      "Requirement already satisfied: certifi>=2017.4.17 in /Users/nirmolcho/opt/anaconda3/final_task_df/lib/python3.9/site-packages (from requests>=2.31->yfinance) (2023.7.22)\r\n",
      "Using cached yfinance-0.2.28-py2.py3-none-any.whl (65 kB)\r\n",
      "Installing collected packages: multitasking, appdirs, frozendict, yfinance\r\n",
      "Successfully installed appdirs-1.4.4 frozendict-2.3.8 multitasking-0.0.11 yfinance-0.2.28\r\n"
     ]
    }
   ],
   "source": [
    "!pip install yfinance"
   ],
   "metadata": {
    "collapsed": false,
    "ExecuteTime": {
     "end_time": "2023-08-22T09:04:36.852430Z",
     "start_time": "2023-08-22T09:04:34.286151Z"
    }
   },
   "id": "a297b52da2711018"
  },
  {
   "cell_type": "code",
   "execution_count": 8,
   "outputs": [
    {
     "name": "stderr",
     "output_type": "stream",
     "text": [
      "/Users/nirmolcho/opt/anaconda3/final_task_df/lib/python3.9/site-packages/urllib3/__init__.py:34: NotOpenSSLWarning: urllib3 v2.0 only supports OpenSSL 1.1.1+, currently the 'ssl' module is compiled with 'LibreSSL 2.8.3'. See: https://github.com/urllib3/urllib3/issues/3020\n",
      "  warnings.warn(\n"
     ]
    }
   ],
   "source": [
    "import yfinance as yf"
   ],
   "metadata": {
    "collapsed": false,
    "ExecuteTime": {
     "end_time": "2023-08-22T09:04:49.362915Z",
     "start_time": "2023-08-22T09:04:47.757766Z"
    }
   },
   "id": "c7a4130798b7390f"
  },
  {
   "cell_type": "code",
   "execution_count": null,
   "outputs": [],
   "source": [],
   "metadata": {
    "collapsed": false
   },
   "id": "17b5e0f1c4e56007"
  }
 ],
 "metadata": {
  "kernelspec": {
   "display_name": "Python 3",
   "language": "python",
   "name": "python3"
  },
  "language_info": {
   "codemirror_mode": {
    "name": "ipython",
    "version": 2
   },
   "file_extension": ".py",
   "mimetype": "text/x-python",
   "name": "python",
   "nbconvert_exporter": "python",
   "pygments_lexer": "ipython2",
   "version": "2.7.6"
  }
 },
 "nbformat": 4,
 "nbformat_minor": 5
}
