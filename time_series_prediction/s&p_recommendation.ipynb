{
 "cells": [
  {
   "cell_type": "code",
   "execution_count": 13,
   "outputs": [
    {
     "name": "stdout",
     "output_type": "stream",
     "text": [
      "{'Global Quote': {'01. symbol': 'MSFT', '02. open': '320.5400', '03. high': '321.8700', '04. low': '316.2100', '05. price': '316.8800', '06. volume': '21257161', '07. latest trading day': '2023-08-17', '08. previous close': '320.4000', '09. change': '-3.5200', '10. change percent': '-1.0986%'}}\n"
     ]
    }
   ],
   "source": [
    "import requests\n",
    "\n",
    "url = \"https://alpha-vantage.p.rapidapi.com/query\"\n",
    "\n",
    "querystring = {\"function\":\"GLOBAL_QUOTE\",\"symbol\":\"MSFT\",\"datatype\":\"json\"}\n",
    "\n",
    "headers = {\n",
    "\t\"X-RapidAPI-Key\": \"c4bd33ebe0msh8821cc91e20c329p175e6ejsnbd854ffae3fc\",\n",
    "\t\"X-RapidAPI-Host\": \"alpha-vantage.p.rapidapi.com\"\n",
    "}\n",
    "\n",
    "response = requests.get(url, headers=headers, params=querystring)\n",
    "\n",
    "print(response.json())"
   ],
   "metadata": {
    "collapsed": false,
    "ExecuteTime": {
     "end_time": "2023-08-18T10:27:06.560398Z",
     "start_time": "2023-08-18T10:27:05.657231Z"
    }
   },
   "id": "505f985333c2584a"
  },
  {
   "cell_type": "code",
   "execution_count": 14,
   "outputs": [
    {
     "data": {
      "text/plain": "                       Global Quote\n01. symbol                     MSFT\n02. open                   320.5400\n03. high                   321.8700\n04. low                    316.2100\n05. price                  316.8800\n06. volume                 21257161\n07. latest trading day   2023-08-17\n08. previous close         320.4000\n09. change                  -3.5200\n10. change percent         -1.0986%",
      "text/html": "<div>\n<style scoped>\n    .dataframe tbody tr th:only-of-type {\n        vertical-align: middle;\n    }\n\n    .dataframe tbody tr th {\n        vertical-align: top;\n    }\n\n    .dataframe thead th {\n        text-align: right;\n    }\n</style>\n<table border=\"1\" class=\"dataframe\">\n  <thead>\n    <tr style=\"text-align: right;\">\n      <th></th>\n      <th>Global Quote</th>\n    </tr>\n  </thead>\n  <tbody>\n    <tr>\n      <th>01. symbol</th>\n      <td>MSFT</td>\n    </tr>\n    <tr>\n      <th>02. open</th>\n      <td>320.5400</td>\n    </tr>\n    <tr>\n      <th>03. high</th>\n      <td>321.8700</td>\n    </tr>\n    <tr>\n      <th>04. low</th>\n      <td>316.2100</td>\n    </tr>\n    <tr>\n      <th>05. price</th>\n      <td>316.8800</td>\n    </tr>\n    <tr>\n      <th>06. volume</th>\n      <td>21257161</td>\n    </tr>\n    <tr>\n      <th>07. latest trading day</th>\n      <td>2023-08-17</td>\n    </tr>\n    <tr>\n      <th>08. previous close</th>\n      <td>320.4000</td>\n    </tr>\n    <tr>\n      <th>09. change</th>\n      <td>-3.5200</td>\n    </tr>\n    <tr>\n      <th>10. change percent</th>\n      <td>-1.0986%</td>\n    </tr>\n  </tbody>\n</table>\n</div>"
     },
     "execution_count": 14,
     "metadata": {},
     "output_type": "execute_result"
    }
   ],
   "source": [
    "#make the response a dataframe\n",
    "import pandas as pd\n",
    "df = pd.DataFrame(response.json())\n",
    "df"
   ],
   "metadata": {
    "collapsed": false,
    "ExecuteTime": {
     "end_time": "2023-08-18T10:27:24.548649Z",
     "start_time": "2023-08-18T10:27:24.536072Z"
    }
   },
   "id": "ef989fc630e85276"
  },
  {
   "cell_type": "code",
   "execution_count": 16,
   "outputs": [
    {
     "name": "stdout",
     "output_type": "stream",
     "text": [
      "{'bestMatches': [{'1. symbol': 'MSF0.FRK', '2. name': 'MICROSOFT CORP. CDR', '3. type': 'Equity', '4. region': 'Frankfurt', '5. marketOpen': '08:00', '6. marketClose': '20:00', '7. timezone': 'UTC+02', '8. currency': 'EUR', '9. matchScore': '0.6429'}, {'1. symbol': 'MSFT', '2. name': 'Microsoft Corporation', '3. type': 'Equity', '4. region': 'United States', '5. marketOpen': '09:30', '6. marketClose': '16:00', '7. timezone': 'UTC-04', '8. currency': 'USD', '9. matchScore': '0.6154'}, {'1. symbol': '0QYP.LON', '2. name': 'Microsoft Corporation', '3. type': 'Equity', '4. region': 'United Kingdom', '5. marketOpen': '08:00', '6. marketClose': '16:30', '7. timezone': 'UTC+01', '8. currency': 'USD', '9. matchScore': '0.6000'}, {'1. symbol': 'MSF.DEX', '2. name': 'Microsoft Corporation', '3. type': 'Equity', '4. region': 'XETRA', '5. marketOpen': '08:00', '6. marketClose': '20:00', '7. timezone': 'UTC+02', '8. currency': 'EUR', '9. matchScore': '0.6000'}, {'1. symbol': 'MSF.FRK', '2. name': 'Microsoft Corporation', '3. type': 'Equity', '4. region': 'Frankfurt', '5. marketOpen': '08:00', '6. marketClose': '20:00', '7. timezone': 'UTC+02', '8. currency': 'EUR', '9. matchScore': '0.6000'}, {'1. symbol': 'MSFT34.SAO', '2. name': 'Microsoft Corporation', '3. type': 'Equity', '4. region': 'Brazil/Sao Paolo', '5. marketOpen': '10:00', '6. marketClose': '17:30', '7. timezone': 'UTC-03', '8. currency': 'BRL', '9. matchScore': '0.6000'}]}\n"
     ]
    }
   ],
   "source": [
    "import requests\n",
    "\n",
    "url = \"https://alpha-vantage.p.rapidapi.com/query\"\n",
    "\n",
    "querystring = {\"keywords\":\"microsoft\",\"function\":\"SYMBOL_SEARCH\",\"datatype\":\"json\"}\n",
    "\n",
    "headers = {\n",
    "\t\"X-RapidAPI-Key\": \"c4bd33ebe0msh8821cc91e20c329p175e6ejsnbd854ffae3fc\",\n",
    "\t\"X-RapidAPI-Host\": \"alpha-vantage.p.rapidapi.com\"\n",
    "}\n",
    "\n",
    "response = requests.get(url, headers=headers, params=querystring)\n",
    "\n",
    "print(response.json())\n",
    "\n"
   ],
   "metadata": {
    "collapsed": false,
    "ExecuteTime": {
     "end_time": "2023-08-18T10:28:12.714345Z",
     "start_time": "2023-08-18T10:28:09.911422Z"
    }
   },
   "id": "f86e483e72e8e8cd"
  },
  {
   "cell_type": "code",
   "execution_count": 17,
   "outputs": [
    {
     "data": {
      "text/plain": "                                         bestMatches\n0  {'1. symbol': 'MSF0.FRK', '2. name': 'MICROSOF...\n1  {'1. symbol': 'MSFT', '2. name': 'Microsoft Co...\n2  {'1. symbol': '0QYP.LON', '2. name': 'Microsof...\n3  {'1. symbol': 'MSF.DEX', '2. name': 'Microsoft...\n4  {'1. symbol': 'MSF.FRK', '2. name': 'Microsoft...\n5  {'1. symbol': 'MSFT34.SAO', '2. name': 'Micros...",
      "text/html": "<div>\n<style scoped>\n    .dataframe tbody tr th:only-of-type {\n        vertical-align: middle;\n    }\n\n    .dataframe tbody tr th {\n        vertical-align: top;\n    }\n\n    .dataframe thead th {\n        text-align: right;\n    }\n</style>\n<table border=\"1\" class=\"dataframe\">\n  <thead>\n    <tr style=\"text-align: right;\">\n      <th></th>\n      <th>bestMatches</th>\n    </tr>\n  </thead>\n  <tbody>\n    <tr>\n      <th>0</th>\n      <td>{'1. symbol': 'MSF0.FRK', '2. name': 'MICROSOF...</td>\n    </tr>\n    <tr>\n      <th>1</th>\n      <td>{'1. symbol': 'MSFT', '2. name': 'Microsoft Co...</td>\n    </tr>\n    <tr>\n      <th>2</th>\n      <td>{'1. symbol': '0QYP.LON', '2. name': 'Microsof...</td>\n    </tr>\n    <tr>\n      <th>3</th>\n      <td>{'1. symbol': 'MSF.DEX', '2. name': 'Microsoft...</td>\n    </tr>\n    <tr>\n      <th>4</th>\n      <td>{'1. symbol': 'MSF.FRK', '2. name': 'Microsoft...</td>\n    </tr>\n    <tr>\n      <th>5</th>\n      <td>{'1. symbol': 'MSFT34.SAO', '2. name': 'Micros...</td>\n    </tr>\n  </tbody>\n</table>\n</div>"
     },
     "execution_count": 17,
     "metadata": {},
     "output_type": "execute_result"
    }
   ],
   "source": [
    "# convert the response to a dataframe\n",
    "import pandas as pd\n",
    "df = pd.DataFrame(response.json())\n",
    "df"
   ],
   "metadata": {
    "collapsed": false,
    "ExecuteTime": {
     "end_time": "2023-08-18T10:28:22.662402Z",
     "start_time": "2023-08-18T10:28:22.654195Z"
    }
   },
   "id": "2dd55860ae20f28a"
  },
  {
   "cell_type": "code",
   "execution_count": 19,
   "outputs": [
    {
     "data": {
      "text/plain": "0         1. symbol\n0           2. name\n0           3. type\n0         4. region\n0     5. marketOpen\n0    6. marketClose\n0       7. timezone\n0       8. currency\n0     9. matchScore\nName: bestMatches, dtype: object"
     },
     "execution_count": 19,
     "metadata": {},
     "output_type": "execute_result"
    }
   ],
   "source": [
    "# open the dicts in the data frame\n",
    "df['bestMatches'][0]"
   ],
   "metadata": {
    "collapsed": false,
    "ExecuteTime": {
     "end_time": "2023-08-18T10:29:00.726920Z",
     "start_time": "2023-08-18T10:29:00.719878Z"
    }
   },
   "id": "3e442e26e6c24230"
  },
  {
   "cell_type": "code",
   "execution_count": null,
   "outputs": [],
   "source": [],
   "metadata": {
    "collapsed": false
   },
   "id": "7c56db10c2b0e92d"
  }
 ],
 "metadata": {
  "kernelspec": {
   "display_name": "Python 3",
   "language": "python",
   "name": "python3"
  },
  "language_info": {
   "codemirror_mode": {
    "name": "ipython",
    "version": 2
   },
   "file_extension": ".py",
   "mimetype": "text/x-python",
   "name": "python",
   "nbconvert_exporter": "python",
   "pygments_lexer": "ipython2",
   "version": "2.7.6"
  }
 },
 "nbformat": 4,
 "nbformat_minor": 5
}
